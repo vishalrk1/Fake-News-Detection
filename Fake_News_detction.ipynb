{
  "nbformat": 4,
  "nbformat_minor": 0,
  "metadata": {
    "colab": {
      "name": "Fake_News_detction.ipynb",
      "provenance": [],
      "collapsed_sections": [],
      "toc_visible": true,
      "include_colab_link": true
    },
    "kernelspec": {
      "name": "python3",
      "display_name": "Python 3"
    },
    "language_info": {
      "name": "python"
    },
    "accelerator": "GPU"
  },
  "cells": [
    {
      "cell_type": "markdown",
      "metadata": {
        "id": "view-in-github",
        "colab_type": "text"
      },
      "source": [
        "<a href=\"https://colab.research.google.com/github/vishalrk1/Fake-News-Detection/blob/main/Fake_News_detction.ipynb\" target=\"_parent\"><img src=\"https://colab.research.google.com/assets/colab-badge.svg\" alt=\"Open In Colab\"/></a>"
      ]
    },
    {
      "cell_type": "code",
      "metadata": {
        "colab": {
          "base_uri": "https://localhost:8080/"
        },
        "id": "0wr0cYs8bDfj",
        "outputId": "8e0c7d3a-8492-40a7-b5a1-276ee9dca4f2"
      },
      "source": [
        "from google.colab import drive\n",
        "drive.mount('/content/drive')"
      ],
      "execution_count": 3,
      "outputs": [
        {
          "output_type": "stream",
          "name": "stdout",
          "text": [
            "Mounted at /content/drive\n"
          ]
        }
      ]
    },
    {
      "cell_type": "code",
      "metadata": {
        "id": "z58YNBClyVcw"
      },
      "source": [
        "import pandas as pd\n",
        "import numpy as np\n",
        "import matplotlib.pyplot as plt\n",
        "import seaborn as sns\n",
        "\n",
        "import tensorflow as tf\n",
        "from tensorflow import keras\n",
        "from tensorflow.keras import layers\n",
        "from tensorflow.keras.layers import Dense, Activation\n",
        "from tensorflow.keras.optimizers import Adam, SGD"
      ],
      "execution_count": 4,
      "outputs": []
    },
    {
      "cell_type": "code",
      "metadata": {
        "id": "k7T356KQybhU"
      },
      "source": [
        "train_df = pd.read_csv('/content/drive/MyDrive/Datasets/news.csv')"
      ],
      "execution_count": 5,
      "outputs": []
    },
    {
      "cell_type": "code",
      "metadata": {
        "id": "TYQsHlS7ymYC",
        "colab": {
          "base_uri": "https://localhost:8080/",
          "height": 206
        },
        "outputId": "fcd8f397-75f4-4eb1-b72e-d646ba2edaa4"
      },
      "source": [
        "train_df.head()"
      ],
      "execution_count": 6,
      "outputs": [
        {
          "output_type": "execute_result",
          "data": {
            "text/html": [
              "\n",
              "  <div id=\"df-c93a7e5d-c938-4cd7-973d-9edd016222db\">\n",
              "    <div class=\"colab-df-container\">\n",
              "      <div>\n",
              "<style scoped>\n",
              "    .dataframe tbody tr th:only-of-type {\n",
              "        vertical-align: middle;\n",
              "    }\n",
              "\n",
              "    .dataframe tbody tr th {\n",
              "        vertical-align: top;\n",
              "    }\n",
              "\n",
              "    .dataframe thead th {\n",
              "        text-align: right;\n",
              "    }\n",
              "</style>\n",
              "<table border=\"1\" class=\"dataframe\">\n",
              "  <thead>\n",
              "    <tr style=\"text-align: right;\">\n",
              "      <th></th>\n",
              "      <th>Unnamed: 0</th>\n",
              "      <th>title</th>\n",
              "      <th>text</th>\n",
              "      <th>label</th>\n",
              "    </tr>\n",
              "  </thead>\n",
              "  <tbody>\n",
              "    <tr>\n",
              "      <th>0</th>\n",
              "      <td>8476</td>\n",
              "      <td>You Can Smell Hillary’s Fear</td>\n",
              "      <td>Daniel Greenfield, a Shillman Journalism Fello...</td>\n",
              "      <td>FAKE</td>\n",
              "    </tr>\n",
              "    <tr>\n",
              "      <th>1</th>\n",
              "      <td>10294</td>\n",
              "      <td>Watch The Exact Moment Paul Ryan Committed Pol...</td>\n",
              "      <td>Google Pinterest Digg Linkedin Reddit Stumbleu...</td>\n",
              "      <td>FAKE</td>\n",
              "    </tr>\n",
              "    <tr>\n",
              "      <th>2</th>\n",
              "      <td>3608</td>\n",
              "      <td>Kerry to go to Paris in gesture of sympathy</td>\n",
              "      <td>U.S. Secretary of State John F. Kerry said Mon...</td>\n",
              "      <td>REAL</td>\n",
              "    </tr>\n",
              "    <tr>\n",
              "      <th>3</th>\n",
              "      <td>10142</td>\n",
              "      <td>Bernie supporters on Twitter erupt in anger ag...</td>\n",
              "      <td>— Kaydee King (@KaydeeKing) November 9, 2016 T...</td>\n",
              "      <td>FAKE</td>\n",
              "    </tr>\n",
              "    <tr>\n",
              "      <th>4</th>\n",
              "      <td>875</td>\n",
              "      <td>The Battle of New York: Why This Primary Matters</td>\n",
              "      <td>It's primary day in New York and front-runners...</td>\n",
              "      <td>REAL</td>\n",
              "    </tr>\n",
              "  </tbody>\n",
              "</table>\n",
              "</div>\n",
              "      <button class=\"colab-df-convert\" onclick=\"convertToInteractive('df-c93a7e5d-c938-4cd7-973d-9edd016222db')\"\n",
              "              title=\"Convert this dataframe to an interactive table.\"\n",
              "              style=\"display:none;\">\n",
              "        \n",
              "  <svg xmlns=\"http://www.w3.org/2000/svg\" height=\"24px\"viewBox=\"0 0 24 24\"\n",
              "       width=\"24px\">\n",
              "    <path d=\"M0 0h24v24H0V0z\" fill=\"none\"/>\n",
              "    <path d=\"M18.56 5.44l.94 2.06.94-2.06 2.06-.94-2.06-.94-.94-2.06-.94 2.06-2.06.94zm-11 1L8.5 8.5l.94-2.06 2.06-.94-2.06-.94L8.5 2.5l-.94 2.06-2.06.94zm10 10l.94 2.06.94-2.06 2.06-.94-2.06-.94-.94-2.06-.94 2.06-2.06.94z\"/><path d=\"M17.41 7.96l-1.37-1.37c-.4-.4-.92-.59-1.43-.59-.52 0-1.04.2-1.43.59L10.3 9.45l-7.72 7.72c-.78.78-.78 2.05 0 2.83L4 21.41c.39.39.9.59 1.41.59.51 0 1.02-.2 1.41-.59l7.78-7.78 2.81-2.81c.8-.78.8-2.07 0-2.86zM5.41 20L4 18.59l7.72-7.72 1.47 1.35L5.41 20z\"/>\n",
              "  </svg>\n",
              "      </button>\n",
              "      \n",
              "  <style>\n",
              "    .colab-df-container {\n",
              "      display:flex;\n",
              "      flex-wrap:wrap;\n",
              "      gap: 12px;\n",
              "    }\n",
              "\n",
              "    .colab-df-convert {\n",
              "      background-color: #E8F0FE;\n",
              "      border: none;\n",
              "      border-radius: 50%;\n",
              "      cursor: pointer;\n",
              "      display: none;\n",
              "      fill: #1967D2;\n",
              "      height: 32px;\n",
              "      padding: 0 0 0 0;\n",
              "      width: 32px;\n",
              "    }\n",
              "\n",
              "    .colab-df-convert:hover {\n",
              "      background-color: #E2EBFA;\n",
              "      box-shadow: 0px 1px 2px rgba(60, 64, 67, 0.3), 0px 1px 3px 1px rgba(60, 64, 67, 0.15);\n",
              "      fill: #174EA6;\n",
              "    }\n",
              "\n",
              "    [theme=dark] .colab-df-convert {\n",
              "      background-color: #3B4455;\n",
              "      fill: #D2E3FC;\n",
              "    }\n",
              "\n",
              "    [theme=dark] .colab-df-convert:hover {\n",
              "      background-color: #434B5C;\n",
              "      box-shadow: 0px 1px 3px 1px rgba(0, 0, 0, 0.15);\n",
              "      filter: drop-shadow(0px 1px 2px rgba(0, 0, 0, 0.3));\n",
              "      fill: #FFFFFF;\n",
              "    }\n",
              "  </style>\n",
              "\n",
              "      <script>\n",
              "        const buttonEl =\n",
              "          document.querySelector('#df-c93a7e5d-c938-4cd7-973d-9edd016222db button.colab-df-convert');\n",
              "        buttonEl.style.display =\n",
              "          google.colab.kernel.accessAllowed ? 'block' : 'none';\n",
              "\n",
              "        async function convertToInteractive(key) {\n",
              "          const element = document.querySelector('#df-c93a7e5d-c938-4cd7-973d-9edd016222db');\n",
              "          const dataTable =\n",
              "            await google.colab.kernel.invokeFunction('convertToInteractive',\n",
              "                                                     [key], {});\n",
              "          if (!dataTable) return;\n",
              "\n",
              "          const docLinkHtml = 'Like what you see? Visit the ' +\n",
              "            '<a target=\"_blank\" href=https://colab.research.google.com/notebooks/data_table.ipynb>data table notebook</a>'\n",
              "            + ' to learn more about interactive tables.';\n",
              "          element.innerHTML = '';\n",
              "          dataTable['output_type'] = 'display_data';\n",
              "          await google.colab.output.renderOutput(dataTable, element);\n",
              "          const docLink = document.createElement('div');\n",
              "          docLink.innerHTML = docLinkHtml;\n",
              "          element.appendChild(docLink);\n",
              "        }\n",
              "      </script>\n",
              "    </div>\n",
              "  </div>\n",
              "  "
            ],
            "text/plain": [
              "   Unnamed: 0  ... label\n",
              "0        8476  ...  FAKE\n",
              "1       10294  ...  FAKE\n",
              "2        3608  ...  REAL\n",
              "3       10142  ...  FAKE\n",
              "4         875  ...  REAL\n",
              "\n",
              "[5 rows x 4 columns]"
            ]
          },
          "metadata": {},
          "execution_count": 6
        }
      ]
    },
    {
      "cell_type": "markdown",
      "metadata": {
        "id": "OTd6SMkO6pUc"
      },
      "source": [
        "#EDA"
      ]
    },
    {
      "cell_type": "code",
      "metadata": {
        "colab": {
          "base_uri": "https://localhost:8080/"
        },
        "id": "OC8IOh5O6k9v",
        "outputId": "453989ed-0de0-4ccb-9825-d0efa3b083db"
      },
      "source": [
        "train_df.info()"
      ],
      "execution_count": 7,
      "outputs": [
        {
          "output_type": "stream",
          "name": "stdout",
          "text": [
            "<class 'pandas.core.frame.DataFrame'>\n",
            "RangeIndex: 6335 entries, 0 to 6334\n",
            "Data columns (total 4 columns):\n",
            " #   Column      Non-Null Count  Dtype \n",
            "---  ------      --------------  ----- \n",
            " 0   Unnamed: 0  6335 non-null   int64 \n",
            " 1   title       6335 non-null   object\n",
            " 2   text        6335 non-null   object\n",
            " 3   label       6335 non-null   object\n",
            "dtypes: int64(1), object(3)\n",
            "memory usage: 198.1+ KB\n"
          ]
        }
      ]
    },
    {
      "cell_type": "code",
      "metadata": {
        "colab": {
          "base_uri": "https://localhost:8080/"
        },
        "id": "mGkEoguU6q7i",
        "outputId": "3efe0b91-8214-46b8-ccca-ef6de23f3482"
      },
      "source": [
        "train_df['label'].value_counts()"
      ],
      "execution_count": 8,
      "outputs": [
        {
          "output_type": "execute_result",
          "data": {
            "text/plain": [
              "REAL    3171\n",
              "FAKE    3164\n",
              "Name: label, dtype: int64"
            ]
          },
          "metadata": {},
          "execution_count": 8
        }
      ]
    },
    {
      "cell_type": "code",
      "metadata": {
        "colab": {
          "base_uri": "https://localhost:8080/",
          "height": 206
        },
        "id": "EQB9PxR_bUbs",
        "outputId": "a50976b9-a55c-41d8-855a-ea507ae971ef"
      },
      "source": [
        "train_df['label'] = train_df['label'].map({'FAKE':0, 'REAL':1})\n",
        "train_df.head()"
      ],
      "execution_count": 9,
      "outputs": [
        {
          "output_type": "execute_result",
          "data": {
            "text/html": [
              "\n",
              "  <div id=\"df-7cc80255-9d0e-4a1f-a0d6-68b280ac7ee4\">\n",
              "    <div class=\"colab-df-container\">\n",
              "      <div>\n",
              "<style scoped>\n",
              "    .dataframe tbody tr th:only-of-type {\n",
              "        vertical-align: middle;\n",
              "    }\n",
              "\n",
              "    .dataframe tbody tr th {\n",
              "        vertical-align: top;\n",
              "    }\n",
              "\n",
              "    .dataframe thead th {\n",
              "        text-align: right;\n",
              "    }\n",
              "</style>\n",
              "<table border=\"1\" class=\"dataframe\">\n",
              "  <thead>\n",
              "    <tr style=\"text-align: right;\">\n",
              "      <th></th>\n",
              "      <th>Unnamed: 0</th>\n",
              "      <th>title</th>\n",
              "      <th>text</th>\n",
              "      <th>label</th>\n",
              "    </tr>\n",
              "  </thead>\n",
              "  <tbody>\n",
              "    <tr>\n",
              "      <th>0</th>\n",
              "      <td>8476</td>\n",
              "      <td>You Can Smell Hillary’s Fear</td>\n",
              "      <td>Daniel Greenfield, a Shillman Journalism Fello...</td>\n",
              "      <td>0</td>\n",
              "    </tr>\n",
              "    <tr>\n",
              "      <th>1</th>\n",
              "      <td>10294</td>\n",
              "      <td>Watch The Exact Moment Paul Ryan Committed Pol...</td>\n",
              "      <td>Google Pinterest Digg Linkedin Reddit Stumbleu...</td>\n",
              "      <td>0</td>\n",
              "    </tr>\n",
              "    <tr>\n",
              "      <th>2</th>\n",
              "      <td>3608</td>\n",
              "      <td>Kerry to go to Paris in gesture of sympathy</td>\n",
              "      <td>U.S. Secretary of State John F. Kerry said Mon...</td>\n",
              "      <td>1</td>\n",
              "    </tr>\n",
              "    <tr>\n",
              "      <th>3</th>\n",
              "      <td>10142</td>\n",
              "      <td>Bernie supporters on Twitter erupt in anger ag...</td>\n",
              "      <td>— Kaydee King (@KaydeeKing) November 9, 2016 T...</td>\n",
              "      <td>0</td>\n",
              "    </tr>\n",
              "    <tr>\n",
              "      <th>4</th>\n",
              "      <td>875</td>\n",
              "      <td>The Battle of New York: Why This Primary Matters</td>\n",
              "      <td>It's primary day in New York and front-runners...</td>\n",
              "      <td>1</td>\n",
              "    </tr>\n",
              "  </tbody>\n",
              "</table>\n",
              "</div>\n",
              "      <button class=\"colab-df-convert\" onclick=\"convertToInteractive('df-7cc80255-9d0e-4a1f-a0d6-68b280ac7ee4')\"\n",
              "              title=\"Convert this dataframe to an interactive table.\"\n",
              "              style=\"display:none;\">\n",
              "        \n",
              "  <svg xmlns=\"http://www.w3.org/2000/svg\" height=\"24px\"viewBox=\"0 0 24 24\"\n",
              "       width=\"24px\">\n",
              "    <path d=\"M0 0h24v24H0V0z\" fill=\"none\"/>\n",
              "    <path d=\"M18.56 5.44l.94 2.06.94-2.06 2.06-.94-2.06-.94-.94-2.06-.94 2.06-2.06.94zm-11 1L8.5 8.5l.94-2.06 2.06-.94-2.06-.94L8.5 2.5l-.94 2.06-2.06.94zm10 10l.94 2.06.94-2.06 2.06-.94-2.06-.94-.94-2.06-.94 2.06-2.06.94z\"/><path d=\"M17.41 7.96l-1.37-1.37c-.4-.4-.92-.59-1.43-.59-.52 0-1.04.2-1.43.59L10.3 9.45l-7.72 7.72c-.78.78-.78 2.05 0 2.83L4 21.41c.39.39.9.59 1.41.59.51 0 1.02-.2 1.41-.59l7.78-7.78 2.81-2.81c.8-.78.8-2.07 0-2.86zM5.41 20L4 18.59l7.72-7.72 1.47 1.35L5.41 20z\"/>\n",
              "  </svg>\n",
              "      </button>\n",
              "      \n",
              "  <style>\n",
              "    .colab-df-container {\n",
              "      display:flex;\n",
              "      flex-wrap:wrap;\n",
              "      gap: 12px;\n",
              "    }\n",
              "\n",
              "    .colab-df-convert {\n",
              "      background-color: #E8F0FE;\n",
              "      border: none;\n",
              "      border-radius: 50%;\n",
              "      cursor: pointer;\n",
              "      display: none;\n",
              "      fill: #1967D2;\n",
              "      height: 32px;\n",
              "      padding: 0 0 0 0;\n",
              "      width: 32px;\n",
              "    }\n",
              "\n",
              "    .colab-df-convert:hover {\n",
              "      background-color: #E2EBFA;\n",
              "      box-shadow: 0px 1px 2px rgba(60, 64, 67, 0.3), 0px 1px 3px 1px rgba(60, 64, 67, 0.15);\n",
              "      fill: #174EA6;\n",
              "    }\n",
              "\n",
              "    [theme=dark] .colab-df-convert {\n",
              "      background-color: #3B4455;\n",
              "      fill: #D2E3FC;\n",
              "    }\n",
              "\n",
              "    [theme=dark] .colab-df-convert:hover {\n",
              "      background-color: #434B5C;\n",
              "      box-shadow: 0px 1px 3px 1px rgba(0, 0, 0, 0.15);\n",
              "      filter: drop-shadow(0px 1px 2px rgba(0, 0, 0, 0.3));\n",
              "      fill: #FFFFFF;\n",
              "    }\n",
              "  </style>\n",
              "\n",
              "      <script>\n",
              "        const buttonEl =\n",
              "          document.querySelector('#df-7cc80255-9d0e-4a1f-a0d6-68b280ac7ee4 button.colab-df-convert');\n",
              "        buttonEl.style.display =\n",
              "          google.colab.kernel.accessAllowed ? 'block' : 'none';\n",
              "\n",
              "        async function convertToInteractive(key) {\n",
              "          const element = document.querySelector('#df-7cc80255-9d0e-4a1f-a0d6-68b280ac7ee4');\n",
              "          const dataTable =\n",
              "            await google.colab.kernel.invokeFunction('convertToInteractive',\n",
              "                                                     [key], {});\n",
              "          if (!dataTable) return;\n",
              "\n",
              "          const docLinkHtml = 'Like what you see? Visit the ' +\n",
              "            '<a target=\"_blank\" href=https://colab.research.google.com/notebooks/data_table.ipynb>data table notebook</a>'\n",
              "            + ' to learn more about interactive tables.';\n",
              "          element.innerHTML = '';\n",
              "          dataTable['output_type'] = 'display_data';\n",
              "          await google.colab.output.renderOutput(dataTable, element);\n",
              "          const docLink = document.createElement('div');\n",
              "          docLink.innerHTML = docLinkHtml;\n",
              "          element.appendChild(docLink);\n",
              "        }\n",
              "      </script>\n",
              "    </div>\n",
              "  </div>\n",
              "  "
            ],
            "text/plain": [
              "   Unnamed: 0  ... label\n",
              "0        8476  ...     0\n",
              "1       10294  ...     0\n",
              "2        3608  ...     1\n",
              "3       10142  ...     0\n",
              "4         875  ...     1\n",
              "\n",
              "[5 rows x 4 columns]"
            ]
          },
          "metadata": {},
          "execution_count": 9
        }
      ]
    },
    {
      "cell_type": "code",
      "metadata": {
        "colab": {
          "base_uri": "https://localhost:8080/",
          "height": 297
        },
        "id": "8Uh4oOkV6t1z",
        "outputId": "b519ecee-a7e6-4288-dfc9-208c04581308"
      },
      "source": [
        "sns.countplot(x=\"label\", data=train_df)"
      ],
      "execution_count": 10,
      "outputs": [
        {
          "output_type": "execute_result",
          "data": {
            "text/plain": [
              "<matplotlib.axes._subplots.AxesSubplot at 0x7f63ec30aad0>"
            ]
          },
          "metadata": {},
          "execution_count": 10
        },
        {
          "output_type": "display_data",
          "data": {
            "image/png": "[encoded data removed]",
            "text/plain": [
              "<Figure size 432x288 with 1 Axes>"
            ]
          },
          "metadata": {
            "needs_background": "light"
          }
        }
      ]
    },
    {
      "cell_type": "code",
      "metadata": {
        "colab": {
          "base_uri": "https://localhost:8080/",
          "height": 423
        },
        "id": "vR4zrsfK6zv4",
        "outputId": "4837b0dd-c77e-45d5-f721-bf2338e62543"
      },
      "source": [
        "train_df = train_df.drop('Unnamed: 0', axis=1)\n",
        "train_df"
      ],
      "execution_count": 11,
      "outputs": [
        {
          "output_type": "execute_result",
          "data": {
            "text/html": [
              "\n",
              "  <div id=\"df-260d5390-bcc8-422c-bbf8-7c40c0ca9184\">\n",
              "    <div class=\"colab-df-container\">\n",
              "      <div>\n",
              "<style scoped>\n",
              "    .dataframe tbody tr th:only-of-type {\n",
              "        vertical-align: middle;\n",
              "    }\n",
              "\n",
              "    .dataframe tbody tr th {\n",
              "        vertical-align: top;\n",
              "    }\n",
              "\n",
              "    .dataframe thead th {\n",
              "        text-align: right;\n",
              "    }\n",
              "</style>\n",
              "<table border=\"1\" class=\"dataframe\">\n",
              "  <thead>\n",
              "    <tr style=\"text-align: right;\">\n",
              "      <th></th>\n",
              "      <th>title</th>\n",
              "      <th>text</th>\n",
              "      <th>label</th>\n",
              "    </tr>\n",
              "  </thead>\n",
              "  <tbody>\n",
              "    <tr>\n",
              "      <th>0</th>\n",
              "      <td>You Can Smell Hillary’s Fear</td>\n",
              "      <td>Daniel Greenfield, a Shillman Journalism Fello...</td>\n",
              "      <td>0</td>\n",
              "    </tr>\n",
              "    <tr>\n",
              "      <th>1</th>\n",
              "      <td>Watch The Exact Moment Paul Ryan Committed Pol...</td>\n",
              "      <td>Google Pinterest Digg Linkedin Reddit Stumbleu...</td>\n",
              "      <td>0</td>\n",
              "    </tr>\n",
              "    <tr>\n",
              "      <th>2</th>\n",
              "      <td>Kerry to go to Paris in gesture of sympathy</td>\n",
              "      <td>U.S. Secretary of State John F. Kerry said Mon...</td>\n",
              "      <td>1</td>\n",
              "    </tr>\n",
              "    <tr>\n",
              "      <th>3</th>\n",
              "      <td>Bernie supporters on Twitter erupt in anger ag...</td>\n",
              "      <td>— Kaydee King (@KaydeeKing) November 9, 2016 T...</td>\n",
              "      <td>0</td>\n",
              "    </tr>\n",
              "    <tr>\n",
              "      <th>4</th>\n",
              "      <td>The Battle of New York: Why This Primary Matters</td>\n",
              "      <td>It's primary day in New York and front-runners...</td>\n",
              "      <td>1</td>\n",
              "    </tr>\n",
              "    <tr>\n",
              "      <th>...</th>\n",
              "      <td>...</td>\n",
              "      <td>...</td>\n",
              "      <td>...</td>\n",
              "    </tr>\n",
              "    <tr>\n",
              "      <th>6330</th>\n",
              "      <td>State Department says it can't find emails fro...</td>\n",
              "      <td>The State Department told the Republican Natio...</td>\n",
              "      <td>1</td>\n",
              "    </tr>\n",
              "    <tr>\n",
              "      <th>6331</th>\n",
              "      <td>The ‘P’ in PBS Should Stand for ‘Plutocratic’ ...</td>\n",
              "      <td>The ‘P’ in PBS Should Stand for ‘Plutocratic’ ...</td>\n",
              "      <td>0</td>\n",
              "    </tr>\n",
              "    <tr>\n",
              "      <th>6332</th>\n",
              "      <td>Anti-Trump Protesters Are Tools of the Oligarc...</td>\n",
              "      <td>Anti-Trump Protesters Are Tools of the Oligar...</td>\n",
              "      <td>0</td>\n",
              "    </tr>\n",
              "    <tr>\n",
              "      <th>6333</th>\n",
              "      <td>In Ethiopia, Obama seeks progress on peace, se...</td>\n",
              "      <td>ADDIS ABABA, Ethiopia —President Obama convene...</td>\n",
              "      <td>1</td>\n",
              "    </tr>\n",
              "    <tr>\n",
              "      <th>6334</th>\n",
              "      <td>Jeb Bush Is Suddenly Attacking Trump. Here's W...</td>\n",
              "      <td>Jeb Bush Is Suddenly Attacking Trump. Here's W...</td>\n",
              "      <td>1</td>\n",
              "    </tr>\n",
              "  </tbody>\n",
              "</table>\n",
              "<p>6335 rows × 3 columns</p>\n",
              "</div>\n",
              "      <button class=\"colab-df-convert\" onclick=\"convertToInteractive('df-260d5390-bcc8-422c-bbf8-7c40c0ca9184')\"\n",
              "              title=\"Convert this dataframe to an interactive table.\"\n",
              "              style=\"display:none;\">\n",
              "        \n",
              "  <svg xmlns=\"http://www.w3.org/2000/svg\" height=\"24px\"viewBox=\"0 0 24 24\"\n",
              "       width=\"24px\">\n",
              "    <path d=\"M0 0h24v24H0V0z\" fill=\"none\"/>\n",
              "    <path d=\"M18.56 5.44l.94 2.06.94-2.06 2.06-.94-2.06-.94-.94-2.06-.94 2.06-2.06.94zm-11 1L8.5 8.5l.94-2.06 2.06-.94-2.06-.94L8.5 2.5l-.94 2.06-2.06.94zm10 10l.94 2.06.94-2.06 2.06-.94-2.06-.94-.94-2.06-.94 2.06-2.06.94z\"/><path d=\"M17.41 7.96l-1.37-1.37c-.4-.4-.92-.59-1.43-.59-.52 0-1.04.2-1.43.59L10.3 9.45l-7.72 7.72c-.78.78-.78 2.05 0 2.83L4 21.41c.39.39.9.59 1.41.59.51 0 1.02-.2 1.41-.59l7.78-7.78 2.81-2.81c.8-.78.8-2.07 0-2.86zM5.41 20L4 18.59l7.72-7.72 1.47 1.35L5.41 20z\"/>\n",
              "  </svg>\n",
              "      </button>\n",
              "      \n",
              "  <style>\n",
              "    .colab-df-container {\n",
              "      display:flex;\n",
              "      flex-wrap:wrap;\n",
              "      gap: 12px;\n",
              "    }\n",
              "\n",
              "    .colab-df-convert {\n",
              "      background-color: #E8F0FE;\n",
              "      border: none;\n",
              "      border-radius: 50%;\n",
              "      cursor: pointer;\n",
              "      display: none;\n",
              "      fill: #1967D2;\n",
              "      height: 32px;\n",
              "      padding: 0 0 0 0;\n",
              "      width: 32px;\n",
              "    }\n",
              "\n",
              "    .colab-df-convert:hover {\n",
              "      background-color: #E2EBFA;\n",
              "      box-shadow: 0px 1px 2px rgba(60, 64, 67, 0.3), 0px 1px 3px 1px rgba(60, 64, 67, 0.15);\n",
              "      fill: #174EA6;\n",
              "    }\n",
              "\n",
              "    [theme=dark] .colab-df-convert {\n",
              "      background-color: #3B4455;\n",
              "      fill: #D2E3FC;\n",
              "    }\n",
              "\n",
              "    [theme=dark] .colab-df-convert:hover {\n",
              "      background-color: #434B5C;\n",
              "      box-shadow: 0px 1px 3px 1px rgba(0, 0, 0, 0.15);\n",
              "      filter: drop-shadow(0px 1px 2px rgba(0, 0, 0, 0.3));\n",
              "      fill: #FFFFFF;\n",
              "    }\n",
              "  </style>\n",
              "\n",
              "      <script>\n",
              "        const buttonEl =\n",
              "          document.querySelector('#df-260d5390-bcc8-422c-bbf8-7c40c0ca9184 button.colab-df-convert');\n",
              "        buttonEl.style.display =\n",
              "          google.colab.kernel.accessAllowed ? 'block' : 'none';\n",
              "\n",
              "        async function convertToInteractive(key) {\n",
              "          const element = document.querySelector('#df-260d5390-bcc8-422c-bbf8-7c40c0ca9184');\n",
              "          const dataTable =\n",
              "            await google.colab.kernel.invokeFunction('convertToInteractive',\n",
              "                                                     [key], {});\n",
              "          if (!dataTable) return;\n",
              "\n",
              "          const docLinkHtml = 'Like what you see? Visit the ' +\n",
              "            '<a target=\"_blank\" href=https://colab.research.google.com/notebooks/data_table.ipynb>data table notebook</a>'\n",
              "            + ' to learn more about interactive tables.';\n",
              "          element.innerHTML = '';\n",
              "          dataTable['output_type'] = 'display_data';\n",
              "          await google.colab.output.renderOutput(dataTable, element);\n",
              "          const docLink = document.createElement('div');\n",
              "          docLink.innerHTML = docLinkHtml;\n",
              "          element.appendChild(docLink);\n",
              "        }\n",
              "      </script>\n",
              "    </div>\n",
              "  </div>\n",
              "  "
            ],
            "text/plain": [
              "                                                  title  ... label\n",
              "0                          You Can Smell Hillary’s Fear  ...     0\n",
              "1     Watch The Exact Moment Paul Ryan Committed Pol...  ...     0\n",
              "2           Kerry to go to Paris in gesture of sympathy  ...     1\n",
              "3     Bernie supporters on Twitter erupt in anger ag...  ...     0\n",
              "4      The Battle of New York: Why This Primary Matters  ...     1\n",
              "...                                                 ...  ...   ...\n",
              "6330  State Department says it can't find emails fro...  ...     1\n",
              "6331  The ‘P’ in PBS Should Stand for ‘Plutocratic’ ...  ...     0\n",
              "6332  Anti-Trump Protesters Are Tools of the Oligarc...  ...     0\n",
              "6333  In Ethiopia, Obama seeks progress on peace, se...  ...     1\n",
              "6334  Jeb Bush Is Suddenly Attacking Trump. Here's W...  ...     1\n",
              "\n",
              "[6335 rows x 3 columns]"
            ]
          },
          "metadata": {},
          "execution_count": 11
        }
      ]
    },
    {
      "cell_type": "markdown",
      "metadata": {
        "id": "uxINbI5kbi22"
      },
      "source": [
        "**So For this project we are only using text column of given dataset***"
      ]
    },
    {
      "cell_type": "code",
      "metadata": {
        "id": "A3yRB0gn7AS7"
      },
      "source": [
        "# shuffeling train data\n",
        "train_df_shuffled = train_df.sample(frac=1, random_state=42)"
      ],
      "execution_count": 12,
      "outputs": []
    },
    {
      "cell_type": "code",
      "metadata": {
        "colab": {
          "base_uri": "https://localhost:8080/",
          "height": 206
        },
        "id": "7OXZS3s4bs8v",
        "outputId": "f161c9a4-9625-4e20-dba3-e6ac723a1f25"
      },
      "source": [
        "train_df_shuffled.head()"
      ],
      "execution_count": 13,
      "outputs": [
        {
          "output_type": "execute_result",
          "data": {
            "text/html": [
              "\n",
              "  <div id=\"df-fc4b7513-dfd0-490f-9042-ac6a5c47692e\">\n",
              "    <div class=\"colab-df-container\">\n",
              "      <div>\n",
              "<style scoped>\n",
              "    .dataframe tbody tr th:only-of-type {\n",
              "        vertical-align: middle;\n",
              "    }\n",
              "\n",
              "    .dataframe tbody tr th {\n",
              "        vertical-align: top;\n",
              "    }\n",
              "\n",
              "    .dataframe thead th {\n",
              "        text-align: right;\n",
              "    }\n",
              "</style>\n",
              "<table border=\"1\" class=\"dataframe\">\n",
              "  <thead>\n",
              "    <tr style=\"text-align: right;\">\n",
              "      <th></th>\n",
              "      <th>title</th>\n",
              "      <th>text</th>\n",
              "      <th>label</th>\n",
              "    </tr>\n",
              "  </thead>\n",
              "  <tbody>\n",
              "    <tr>\n",
              "      <th>1357</th>\n",
              "      <td>American Dream, Revisited</td>\n",
              "      <td>Will Trump pull a Brexit times ten? What would...</td>\n",
              "      <td>0</td>\n",
              "    </tr>\n",
              "    <tr>\n",
              "      <th>2080</th>\n",
              "      <td>Clintons Are Under Multiple FBI Investigations...</td>\n",
              "      <td>Clintons Are Under Multiple FBI Investigations...</td>\n",
              "      <td>0</td>\n",
              "    </tr>\n",
              "    <tr>\n",
              "      <th>2718</th>\n",
              "      <td>The FBI Can’t Actually Investigate a Candidate...</td>\n",
              "      <td>Dispatches from Eric Zuesse This piece is cros...</td>\n",
              "      <td>0</td>\n",
              "    </tr>\n",
              "    <tr>\n",
              "      <th>812</th>\n",
              "      <td>Confirmed: Public overwhelmingly (10-to-1) say...</td>\n",
              "      <td>Print \\n[Ed. – Every now and then the facade c...</td>\n",
              "      <td>0</td>\n",
              "    </tr>\n",
              "    <tr>\n",
              "      <th>4886</th>\n",
              "      <td>Nanny In Jail After Force Feeding Baby To Death</td>\n",
              "      <td>Nanny In Jail After Force Feeding Baby To Deat...</td>\n",
              "      <td>0</td>\n",
              "    </tr>\n",
              "  </tbody>\n",
              "</table>\n",
              "</div>\n",
              "      <button class=\"colab-df-convert\" onclick=\"convertToInteractive('df-fc4b7513-dfd0-490f-9042-ac6a5c47692e')\"\n",
              "              title=\"Convert this dataframe to an interactive table.\"\n",
              "              style=\"display:none;\">\n",
              "        \n",
              "  <svg xmlns=\"http://www.w3.org/2000/svg\" height=\"24px\"viewBox=\"0 0 24 24\"\n",
              "       width=\"24px\">\n",
              "    <path d=\"M0 0h24v24H0V0z\" fill=\"none\"/>\n",
              "    <path d=\"M18.56 5.44l.94 2.06.94-2.06 2.06-.94-2.06-.94-.94-2.06-.94 2.06-2.06.94zm-11 1L8.5 8.5l.94-2.06 2.06-.94-2.06-.94L8.5 2.5l-.94 2.06-2.06.94zm10 10l.94 2.06.94-2.06 2.06-.94-2.06-.94-.94-2.06-.94 2.06-2.06.94z\"/><path d=\"M17.41 7.96l-1.37-1.37c-.4-.4-.92-.59-1.43-.59-.52 0-1.04.2-1.43.59L10.3 9.45l-7.72 7.72c-.78.78-.78 2.05 0 2.83L4 21.41c.39.39.9.59 1.41.59.51 0 1.02-.2 1.41-.59l7.78-7.78 2.81-2.81c.8-.78.8-2.07 0-2.86zM5.41 20L4 18.59l7.72-7.72 1.47 1.35L5.41 20z\"/>\n",
              "  </svg>\n",
              "      </button>\n",
              "      \n",
              "  <style>\n",
              "    .colab-df-container {\n",
              "      display:flex;\n",
              "      flex-wrap:wrap;\n",
              "      gap: 12px;\n",
              "    }\n",
              "\n",
              "    .colab-df-convert {\n",
              "      background-color: #E8F0FE;\n",
              "      border: none;\n",
              "      border-radius: 50%;\n",
              "      cursor: pointer;\n",
              "      display: none;\n",
              "      fill: #1967D2;\n",
              "      height: 32px;\n",
              "      padding: 0 0 0 0;\n",
              "      width: 32px;\n",
              "    }\n",
              "\n",
              "    .colab-df-convert:hover {\n",
              "      background-color: #E2EBFA;\n",
              "      box-shadow: 0px 1px 2px rgba(60, 64, 67, 0.3), 0px 1px 3px 1px rgba(60, 64, 67, 0.15);\n",
              "      fill: #174EA6;\n",
              "    }\n",
              "\n",
              "    [theme=dark] .colab-df-convert {\n",
              "      background-color: #3B4455;\n",
              "      fill: #D2E3FC;\n",
              "    }\n",
              "\n",
              "    [theme=dark] .colab-df-convert:hover {\n",
              "      background-color: #434B5C;\n",
              "      box-shadow: 0px 1px 3px 1px rgba(0, 0, 0, 0.15);\n",
              "      filter: drop-shadow(0px 1px 2px rgba(0, 0, 0, 0.3));\n",
              "      fill: #FFFFFF;\n",
              "    }\n",
              "  </style>\n",
              "\n",
              "      <script>\n",
              "        const buttonEl =\n",
              "          document.querySelector('#df-fc4b7513-dfd0-490f-9042-ac6a5c47692e button.colab-df-convert');\n",
              "        buttonEl.style.display =\n",
              "          google.colab.kernel.accessAllowed ? 'block' : 'none';\n",
              "\n",
              "        async function convertToInteractive(key) {\n",
              "          const element = document.querySelector('#df-fc4b7513-dfd0-490f-9042-ac6a5c47692e');\n",
              "          const dataTable =\n",
              "            await google.colab.kernel.invokeFunction('convertToInteractive',\n",
              "                                                     [key], {});\n",
              "          if (!dataTable) return;\n",
              "\n",
              "          const docLinkHtml = 'Like what you see? Visit the ' +\n",
              "            '<a target=\"_blank\" href=https://colab.research.google.com/notebooks/data_table.ipynb>data table notebook</a>'\n",
              "            + ' to learn more about interactive tables.';\n",
              "          element.innerHTML = '';\n",
              "          dataTable['output_type'] = 'display_data';\n",
              "          await google.colab.output.renderOutput(dataTable, element);\n",
              "          const docLink = document.createElement('div');\n",
              "          docLink.innerHTML = docLinkHtml;\n",
              "          element.appendChild(docLink);\n",
              "        }\n",
              "      </script>\n",
              "    </div>\n",
              "  </div>\n",
              "  "
            ],
            "text/plain": [
              "                                                  title  ... label\n",
              "1357                          American Dream, Revisited  ...     0\n",
              "2080  Clintons Are Under Multiple FBI Investigations...  ...     0\n",
              "2718  The FBI Can’t Actually Investigate a Candidate...  ...     0\n",
              "812   Confirmed: Public overwhelmingly (10-to-1) say...  ...     0\n",
              "4886    Nanny In Jail After Force Feeding Baby To Death  ...     0\n",
              "\n",
              "[5 rows x 3 columns]"
            ]
          },
          "metadata": {},
          "execution_count": 13
        }
      ]
    },
    {
      "cell_type": "code",
      "metadata": {
        "colab": {
          "base_uri": "https://localhost:8080/"
        },
        "id": "Zfux0LrangJu",
        "outputId": "3faf09ba-5183-49f0-b3b9-d5ef6e042b54"
      },
      "source": [
        "train_df_shuffled.isnull().sum()"
      ],
      "execution_count": 14,
      "outputs": [
        {
          "output_type": "execute_result",
          "data": {
            "text/plain": [
              "title    0\n",
              "text     0\n",
              "label    0\n",
              "dtype: int64"
            ]
          },
          "metadata": {},
          "execution_count": 14
        }
      ]
    },
    {
      "cell_type": "markdown",
      "metadata": {
        "id": "VNhbRsBO7Cek"
      },
      "source": [
        "##Printing Some ranf=dom news samples"
      ]
    },
    {
      "cell_type": "code",
      "metadata": {
        "colab": {
          "base_uri": "https://localhost:8080/"
        },
        "id": "Y_IsWYi97As6",
        "outputId": "38101cad-93d6-4a7c-b7bc-b67b0ba3eae2"
      },
      "source": [
        "import random\n",
        "random_index = random.randint(0, len(train_df)-5)\n",
        "\n",
        "for row in train_df_shuffled[['text', 'label']][random_index:random_index+1].itertuples():\n",
        "  _, text, target = row\n",
        "  print(f\"Target: {target}\", '(Real News)' if target > 0 else '(Fake News)')\n",
        "  print(f\"News: {text}\")\n",
        "  print('---\\n')"
      ],
      "execution_count": 15,
      "outputs": [
        {
          "output_type": "stream",
          "name": "stdout",
          "text": [
            "Target: 0 (Fake News)\n",
            "News: 14 Shares\n",
            "4 9 0 1\n",
            "It's a heartwarming moment amid the carnage of the battle to liberate Mosul.\n",
            "An Iraqi lieutenant -- part of the elite Golden Division special forces fighting to take back Iraq's second city from ISIS -- was stationed at a checkpoint in Bartella, about 25 kilometers to the east of the city, when he spotted some familiar faces Tuesday.\n",
            "Amid a group of refugees fleeing the city's outskirts were his mother, his father, and his nephew, whom the soldier had been separated from for over two years.\n",
            "The soldier gave his name as 1st. Lt. Salam to the CNN producer who captured the moment.\n",
            "After embracing a group of adults, including his mother, father and brother, he picks up his young nephew and holds him, walking away from the group. He then falls to his knees and kisses him, before picking him up and carrying him away. The joy on both their faces obvious to all.\n",
            "MORE... Muslim Iraqi Soldiers Erect Cross on Top of the Church in Newly Liberated Karamless Village Near Mosul Thousand of Iraqi Civilians Treated for Breathing Problems after ISIS Torches Sulphur Plant near Mosul ISIS executes 58 plotters, buries in mass grave amid reports on rebellion in Mosul US-led air raid kills 20 Iraqi pro-government fighters 1st Lt. Salam later told CNN his family flewitd Bazwaya a mere hour after ISIS turned up at their house and ordered them to go to Mosul.\n",
            "He says his father asked the ISIS fighters if he could have a few minutes to get his family. His father then went back to his house to collect them. Not long after that, coalition air strikes hit ISIS positions in the city, giving the family an opportunity to escape.\n",
            "1st Lt. Salam says the last two and a half years have been a \"living nightmare\" and that he still can't believe his family are alive.\n",
            "Iraqi forces were on the doorstep of ISIS-held Mosul on Tuesday, the closest they've been since launching an operation two weeks ago to wrest the city from more than two years of ISIS rule.\n",
            "---\n",
            "\n"
          ]
        }
      ]
    },
    {
      "cell_type": "markdown",
      "metadata": {
        "id": "tNxdwTTGcDRV"
      },
      "source": [
        "# Preprocessing Data"
      ]
    },
    {
      "cell_type": "code",
      "metadata": {
        "colab": {
          "base_uri": "https://localhost:8080/"
        },
        "id": "GwUiaKMzcDGF",
        "outputId": "25da934e-c92c-4908-9336-6e605be76e97"
      },
      "source": [
        "# import my nlp helper script\n",
        "from nlp_helper import remove_html, remove_punctuation, remove_stopwords, lowercase_text, word_lemmatizer, word_stemmer\n",
        "\n",
        "import nltk\n",
        "from nltk.tokenize import RegexpTokenizer\n",
        "\n",
        "nltk.download('stopwords')\n",
        "nltk.download('wordnet')"
      ],
      "execution_count": 16,
      "outputs": [
        {
          "output_type": "stream",
          "name": "stdout",
          "text": [
            "[nltk_data] Downloading package stopwords to /root/nltk_data...\n",
            "[nltk_data]   Unzipping corpora/stopwords.zip.\n",
            "[nltk_data] Downloading package stopwords to /root/nltk_data...\n",
            "[nltk_data]   Package stopwords is already up-to-date!\n",
            "[nltk_data] Downloading package wordnet to /root/nltk_data...\n",
            "[nltk_data]   Unzipping corpora/wordnet.zip.\n"
          ]
        },
        {
          "output_type": "execute_result",
          "data": {
            "text/plain": [
              "True"
            ]
          },
          "metadata": {},
          "execution_count": 16
        }
      ]
    },
    {
      "cell_type": "code",
      "metadata": {
        "colab": {
          "base_uri": "https://localhost:8080/",
          "height": 145
        },
        "id": "3ngaTea6cx3B",
        "outputId": "011ec54a-fcb2-42f1-923d-d75410620860"
      },
      "source": [
        "text_data = train_df_shuffled['text'].tolist()\n",
        "text_data[0]"
      ],
      "execution_count": 17,
      "outputs": [
        {
          "output_type": "execute_result",
          "data": {
            "application/vnd.google.colaboratory.intrinsic+json": {
              "type": "string"
            },
            "text/plain": [
              "'Will Trump pull a Brexit times ten? What would it take, beyond WikiLeaks, to bring the Clinton (cash) machine down? Will Hillary win and then declare WWIII against her Russia/Iran/Syria “axis of evil”? Will the Middle East totally explode? Will the pivot to Asia totally implode? Will China be ruling the world by 2025?\\nAmidst so many frenetic fragments of geopolitical reality precariously shored against our ruins, the temptation is irresistible to hark back to the late, great, deconstructionist master Jean Baudrillard. During the post-mod 1980s it was hip to be Baudrillardian to the core; his America, originally published in France in 1986, should still be read today as the definitive metaphysical/geological/cultural Instagram of Exceptionalistan.\\nBy the late 1990s, at the end of the millennium, two years before 9/11 – that seminal “before and after” event – Baudrillard was already stressing how we live in a black market maze. Now, it’s a black market paroxysm.\\nGlobal multitudes are subjected to a black market of work – as in the deregulation of the official market; a black market of unemployment; a black market of financial speculation; a black market of misery and poverty; a black market of sex (as in prostitution); a black market of information (as in espionage and shadow wars); a black market of weapons; and even a black market of thinking.\\nWay beyond the late 20th century, in the 2010s what the West praises as “liberal democracy” – actually a neoliberal diktat – has virtually absorbed every ideological divergence, while leaving behind a heap of differences floating in some sort of trompe l’oeil effect. What’s left is a widespread, noxious condition; the pre-emptive prohibition of any critical thought, which has no way to express itself other than becoming clandestine (or finding the right internet niche).\\nBaudrillard already knew that the concept of “alter” – killed by conviviality – does not exist in the official market. So an “alter” black market also sprung up, co-opted by traffickers; that’s, for instance, the realm of racism, nativism and other forms of exclusion. Baudrillard already identified how a “contraband alter”, expressed by sects and every form of nationalism (nowadays, think about the spectrum between jihadism and extreme-right wing political parties) was bound to become more virulent in a society that is desperately intolerant, obsessed with regimentation, and totally homogenized.\\nThere could be so much exhilaration inbuilt in life lived in a bewildering chimera cocktail of cultures, signs, differences and “values”; but then came the coupling of thinking with its exact IT replica – artificial intelligence, playing with the line of demarcation between human and non-human in the domain of thought.\\nThe result, previewed by Baudrillard, was the secretion of a parapolitical society – with a sort of mafia controlling this secret form of generalized corruption (think the financial Masters of the Universe). Power is unable to fight this mafia – and that would be, on top of it, hypocritical, because the mafia itself emanates from power.\\nThe end result is that what really matters today, anywhere, mostly tends to happen outside all official circuits; like in a social black market.\\nIs there any information “truth”?\\nBaudrillard showed how political economy is a massive machine, producing value, producing signs of wealth, but not wealth itself. The whole media/information system – still ruled by America – is a massive machine producing events as signs; exchangeable value in the universal market of ideology, the star system and catastrophism.\\nThis abstraction of information works as in the economy – disgorging a coded material, deciphered in advance, and negotiable in terms of models, as much as the economy disgorges products negotiable in terms of price and value.\\nSince all merchandise, thanks to this abstraction of value, is exchangeable, then every event (or non-event) is also exchangeable, all replacing one another in the cultural market of information.\\nAnd that takes us to where we live now; Trans-History, and Trans-Politics – where events have really not happened, as they get lost in the vacuum of information (as much as the economy gets lost in the vacuum of speculation).\\nThus this quintessential Baudrillard insight; if we consider History as a movie – and that’s what it is now – then the “truth” of information is no more than post-production synch, dubbing and subtitles.\\nStill, as we all keep an intense desire for devouring events, there is immense disappointment as well, because the content of information is desperately inferior to the means of broadcasting them. Call it a pathetic, universal contagion; people don’t know what to do about their sadness or enthusiasm – in parallel to our societies becoming theaters of the absurd where nothing has consequences.\\nNo acts, deeds, crimes (the 2008 financial crisis), political events (the WikiLeaks emails showing virtually no distinction between the “nonprofit” Clinton cash machine, what’s private and what’s public, the obsessive pursuit of personal wealth, and the affairs of the state)\\nseem to have real consequences.\\nImmunity, impunity, corruption, speculation – we veer towards a state of zero responsibility (think Goldman Sachs). So, automatically, we yearn for an event of maximum consequence, a “fatal” event to repair that scandalous non-equivalence. Like a symbolic re-equilibrium of the scales of destiny.\\nSo we dream of an amazing event – Trump winning the election? Hillary declaring WWIII? – that would free us from the tyranny of meaning and the constraint of always searching for the equivalence between effects and causes.\\nShadowing the world\\nJust like Baudrillard, I got to see “deep” America in the 1980s and 1990s by driving across America.\\nSo sooner or later one develops a metaphysical relationship with that ubiquitous warning, “Objects in this mirror may be closer than they appear.”\\nBut what if they may also be further than they appear?\\nThe contemporary instant event/celebrity culture deluge of images upon us; does it get us closer to a so-called “real” world that is in fact very far away from us? Or does it in fact keep the world at a distance – creating an artificial depth of field that protects us from the imminence of objects and the virtual danger they represent?\\nIn parallel, we keep slouching towards a single future language – the language of algorithms, as designed across the Wall Street/Silicon Valley axis – that would represent a real anthropological catastrophe, just like the globalist/New World Order dream of One Thought and One Culture.\\nLanguages are multiple and singular – by definition. If there were a single language, words would become univocal, regulating themselves in an autopilot of meaning. There would be no interplay – as in artificial languages there’s no interplay. Language would be just the meek appendix of a unified reality – the negative destiny of a languidly unified human species.\\nThat’s where the American “dream” seems to be heading. It’s time to take the next exit ramp.\\nThis piece first appeared Strategic-Culture .\\n Pepe Escobar is the author of Globalistan: How the Globalized World is Dissolving into Liquid War (Nimble Books, 2007), Red Zone Blues: a snapshot of Baghdad during the surge and Obama does Globalistan (Nimble Books, 2009). His latest book is Empire of Chaos . He may be reached at pepeasia@yahoo.com .'"
            ]
          },
          "metadata": {},
          "execution_count": 17
        }
      ]
    },
    {
      "cell_type": "markdown",
      "metadata": {
        "id": "AXrNyorUcmTl"
      },
      "source": [
        "### Removing HTML words"
      ]
    },
    {
      "cell_type": "code",
      "metadata": {
        "id": "mH7nFo9Cck0o"
      },
      "source": [
        "text_data = train_df_shuffled['text'].apply(lambda x: remove_html(x))"
      ],
      "execution_count": 18,
      "outputs": []
    },
    {
      "cell_type": "markdown",
      "metadata": {
        "id": "WRsKT4KbddXm"
      },
      "source": [
        "### Removing Punctuations"
      ]
    },
    {
      "cell_type": "code",
      "metadata": {
        "colab": {
          "base_uri": "https://localhost:8080/"
        },
        "id": "t7ucKUtPdORM",
        "outputId": "bb7166fe-4c16-4e62-e5fe-1ef5d3b94d8c"
      },
      "source": [
        "text_data = text_data.apply(lambda x: remove_punctuation(x))\n",
        "text_data[:2]"
      ],
      "execution_count": 19,
      "outputs": [
        {
          "output_type": "execute_result",
          "data": {
            "text/plain": [
              "1357    Will Trump pull a Brexit times ten What would ...\n",
              "2080    Clintons Are Under Multiple FBI Investigations...\n",
              "Name: text, dtype: object"
            ]
          },
          "metadata": {},
          "execution_count": 19
        }
      ]
    },
    {
      "cell_type": "markdown",
      "metadata": {
        "id": "J9APt0lkdiEW"
      },
      "source": [
        "### Lowercasing all words"
      ]
    },
    {
      "cell_type": "code",
      "metadata": {
        "colab": {
          "base_uri": "https://localhost:8080/"
        },
        "id": "eki7lL21dau1",
        "outputId": "8033ac94-033e-4aa9-860d-c42849e8cfc1"
      },
      "source": [
        "text_data = text_data.apply(lambda x: lowercase_text(x))\n",
        "text_data[:2]"
      ],
      "execution_count": 20,
      "outputs": [
        {
          "output_type": "execute_result",
          "data": {
            "text/plain": [
              "1357    [will, trump, pull, a, brexit, times, ten, wha...\n",
              "2080    [clintons, are, under, multiple, fbi, investig...\n",
              "Name: text, dtype: object"
            ]
          },
          "metadata": {},
          "execution_count": 20
        }
      ]
    },
    {
      "cell_type": "markdown",
      "metadata": {
        "id": "p2-AiSEndr2H"
      },
      "source": [
        "### Lemmanizing words"
      ]
    },
    {
      "cell_type": "code",
      "metadata": {
        "colab": {
          "base_uri": "https://localhost:8080/"
        },
        "id": "m-fyA9IAdqtH",
        "outputId": "a49e71d5-dbb6-45f8-9c43-52b657eb7d28"
      },
      "source": [
        "text_data = text_data.apply(lambda x: word_lemmatizer(x))\n",
        "text_data[:2]"
      ],
      "execution_count": 21,
      "outputs": [
        {
          "output_type": "execute_result",
          "data": {
            "text/plain": [
              "1357    [will, trump, pull, a, brexit, time, ten, what...\n",
              "2080    [clinton, are, under, multiple, fbi, investiga...\n",
              "Name: text, dtype: object"
            ]
          },
          "metadata": {},
          "execution_count": 21
        }
      ]
    },
    {
      "cell_type": "markdown",
      "metadata": {
        "id": "uQFpQCRjf9jX"
      },
      "source": [
        "### Stemmerizing"
      ]
    },
    {
      "cell_type": "code",
      "metadata": {
        "colab": {
          "base_uri": "https://localhost:8080/"
        },
        "id": "-w--bEPTf49U",
        "outputId": "25411b72-1999-4a0f-d3d7-ab42ee867269"
      },
      "source": [
        "text_data = text_data.apply(lambda x: word_stemmer(x))\n",
        "text_data[:2]"
      ],
      "execution_count": 22,
      "outputs": [
        {
          "output_type": "execute_result",
          "data": {
            "text/plain": [
              "1357    will trump pull a brexit time ten what would i...\n",
              "2080    clinton are under multipl fbi investig a agent...\n",
              "Name: text, dtype: object"
            ]
          },
          "metadata": {},
          "execution_count": 22
        }
      ]
    },
    {
      "cell_type": "markdown",
      "metadata": {
        "id": "8_KOjY1p7YYW"
      },
      "source": [
        "# Train anc validation split"
      ]
    },
    {
      "cell_type": "code",
      "metadata": {
        "id": "VjA5SCXl7W0c"
      },
      "source": [
        "from sklearn.model_selection import train_test_split\n"
      ],
      "execution_count": 23,
      "outputs": []
    },
    {
      "cell_type": "code",
      "metadata": {
        "colab": {
          "base_uri": "https://localhost:8080/"
        },
        "id": "c4r1xcyqgH0i",
        "outputId": "16252162-c350-4fc0-eb79-513c9746c31d"
      },
      "source": [
        "len(text_data)"
      ],
      "execution_count": 24,
      "outputs": [
        {
          "output_type": "execute_result",
          "data": {
            "text/plain": [
              "6335"
            ]
          },
          "metadata": {},
          "execution_count": 24
        }
      ]
    },
    {
      "cell_type": "code",
      "metadata": {
        "id": "sUuYhbPX7b7R"
      },
      "source": [
        "train_news, val_news, train_label, val_label = train_test_split(text_data, train_df_shuffled['label'], test_size=0.2, random_state=101)"
      ],
      "execution_count": 25,
      "outputs": []
    },
    {
      "cell_type": "code",
      "metadata": {
        "colab": {
          "base_uri": "https://localhost:8080/"
        },
        "id": "0wpLjt6q7diw",
        "outputId": "f7590c52-8be0-4ad6-cdd8-a9eb3e5b5768"
      },
      "source": [
        "train_news.shape, val_news.shape"
      ],
      "execution_count": 26,
      "outputs": [
        {
          "output_type": "execute_result",
          "data": {
            "text/plain": [
              "((5068,), (1267,))"
            ]
          },
          "metadata": {},
          "execution_count": 26
        }
      ]
    },
    {
      "cell_type": "markdown",
      "metadata": {
        "id": "F9Ct1OWLb8T1"
      },
      "source": [
        "**Calculating maximum length of text**"
      ]
    },
    {
      "cell_type": "code",
      "metadata": {
        "colab": {
          "base_uri": "https://localhost:8080/"
        },
        "id": "QzgSFXNK7e18",
        "outputId": "75ed7f2d-622e-4402-a8b9-fbc0871246d9"
      },
      "source": [
        "round(sum([len(i.split()) for i in train_news])/ len(train_news))"
      ],
      "execution_count": 27,
      "outputs": [
        {
          "output_type": "execute_result",
          "data": {
            "text/plain": [
              "786"
            ]
          },
          "metadata": {},
          "execution_count": 27
        }
      ]
    },
    {
      "cell_type": "markdown",
      "metadata": {
        "id": "Cw3ZhV1J7hEA"
      },
      "source": [
        "#Converting text into numbers\n",
        "\n",
        "* Vectorization Layer\n",
        "* Embedding Layer"
      ]
    },
    {
      "cell_type": "code",
      "metadata": {
        "id": "3Bt7kWxG7gGR"
      },
      "source": [
        "from tensorflow.keras.layers import TextVectorization, Embedding"
      ],
      "execution_count": 28,
      "outputs": []
    },
    {
      "cell_type": "code",
      "metadata": {
        "id": "a0y7fn3L7o-B"
      },
      "source": [
        "max_vocab_length = 10000\n",
        "max_length = 790\n",
        "\n",
        "text_vectorizer = TextVectorization(\n",
        "    max_tokens=max_vocab_length,\n",
        "    output_mode='int',\n",
        "    output_sequence_length=max_length,\n",
        ")"
      ],
      "execution_count": 29,
      "outputs": []
    },
    {
      "cell_type": "code",
      "metadata": {
        "id": "fTyeMJlP7qZt"
      },
      "source": [
        "text_vectorizer.adapt(train_news)"
      ],
      "execution_count": 30,
      "outputs": []
    },
    {
      "cell_type": "code",
      "metadata": {
        "id": "Fts3yxoS7r6U"
      },
      "source": [
        "embedding = Embedding(\n",
        "    input_dim = max_vocab_length, \n",
        "    output_dim = 128,\n",
        "    input_length = max_length,\n",
        ")"
      ],
      "execution_count": 31,
      "outputs": []
    },
    {
      "cell_type": "markdown",
      "metadata": {
        "id": "gfawfZyQ7t5K"
      },
      "source": [
        "#Some helpful Functions"
      ]
    },
    {
      "cell_type": "code",
      "metadata": {
        "id": "x-4BLbZg7tE_"
      },
      "source": [
        "from sklearn.metrics import accuracy_score, precision_recall_fscore_support\n",
        "\n",
        "def calculate_result(y_true, y_pred):\n",
        "  accuracy = accuracy_score(y_true, y_pred)\n",
        "  model_precision, model_recall, model_f1, _ = precision_recall_fscore_support(y_true, y_pred, average='weighted')\n",
        "  model_results = {\n",
        "      'accurecy': accuracy,\n",
        "      'precision': model_precision,\n",
        "      'recall': model_recall,\n",
        "      'f1-score': model_f1,\n",
        "  }\n",
        "\n",
        "  return model_results"
      ],
      "execution_count": 32,
      "outputs": []
    },
    {
      "cell_type": "code",
      "metadata": {
        "colab": {
          "base_uri": "https://localhost:8080/"
        },
        "id": "URkXkrtaPo_h",
        "outputId": "2e9c80c6-45fb-40a8-ae6c-5390c5d9460a"
      },
      "source": [
        "!wget https://raw.githubusercontent.com/mrdbourke/tensorflow-deep-learning/main/extras/helper_functions.py\n",
        "\n",
        "# importing helper function\n",
        "from helper_functions import create_tensorboard_callback, plot_loss_curves, pred_and_plot, unzip_data, walk_through_dir"
      ],
      "execution_count": 33,
      "outputs": [
        {
          "output_type": "stream",
          "name": "stdout",
          "text": [
            "--2021-12-19 09:59:01--  https://raw.githubusercontent.com/mrdbourke/tensorflow-deep-learning/main/extras/helper_functions.py\n",
            "Resolving raw.githubusercontent.com (raw.githubusercontent.com)... 185.199.108.133, 185.199.109.133, 185.199.110.133, ...\n",
            "Connecting to raw.githubusercontent.com (raw.githubusercontent.com)|185.199.108.133|:443... connected.\n",
            "HTTP request sent, awaiting response... 200 OK\n",
            "Length: 10246 (10K) [text/plain]\n",
            "Saving to: ‘helper_functions.py’\n",
            "\n",
            "\rhelper_functions.py   0%[                    ]       0  --.-KB/s               \rhelper_functions.py 100%[===================>]  10.01K  --.-KB/s    in 0s      \n",
            "\n",
            "2021-12-19 09:59:01 (25.4 MB/s) - ‘helper_functions.py’ saved [10246/10246]\n",
            "\n"
          ]
        }
      ]
    },
    {
      "cell_type": "markdown",
      "metadata": {
        "id": "n5Uc4R0o72WV"
      },
      "source": [
        "#Model Experiments"
      ]
    },
    {
      "cell_type": "markdown",
      "metadata": {
        "id": "-7m3OMq1qnJC"
      },
      "source": [
        "## Callbacks"
      ]
    },
    {
      "cell_type": "code",
      "metadata": {
        "id": "Aod6xEsLqpUW"
      },
      "source": [
        "early_stopping = [\n",
        "    tf.keras.callbacks.EarlyStopping(\n",
        "        monitor=\"val_loss\", patience=3,\n",
        "        restore_best_weights=True\n",
        "    ),\n",
        "    tf.keras.callbacks.ReduceLROnPlateau(\n",
        "        monitor=\"val_loss\", factor=0.5,\n",
        "        patience=2, verbose=1\n",
        "    ),\n",
        "]"
      ],
      "execution_count": 50,
      "outputs": []
    },
    {
      "cell_type": "markdown",
      "metadata": {
        "id": "xqYWJmLy75JG"
      },
      "source": [
        "##1. NavieBase Model"
      ]
    },
    {
      "cell_type": "code",
      "metadata": {
        "id": "G7-tbvV171x7"
      },
      "source": [
        "from sklearn.naive_bayes import MultinomialNB\n",
        "from sklearn.pipeline import Pipeline\n",
        "from sklearn.feature_extraction.text import TfidfVectorizer"
      ],
      "execution_count": 51,
      "outputs": []
    },
    {
      "cell_type": "code",
      "metadata": {
        "id": "U9EIO4eg79R3"
      },
      "source": [
        "model_0 = Pipeline([\n",
        "    ('tfidf', TfidfVectorizer()),\n",
        "    ('clf', MultinomialNB()),\n",
        "])"
      ],
      "execution_count": 52,
      "outputs": []
    },
    {
      "cell_type": "code",
      "metadata": {
        "colab": {
          "base_uri": "https://localhost:8080/"
        },
        "id": "YHT7iHGB7-oc",
        "outputId": "599e88d0-788e-484c-bf1d-aefdbee93398"
      },
      "source": [
        "model_0.fit(train_news, train_label)"
      ],
      "execution_count": 53,
      "outputs": [
        {
          "output_type": "execute_result",
          "data": {
            "text/plain": [
              "Pipeline(steps=[('tfidf', TfidfVectorizer()), ('clf', MultinomialNB())])"
            ]
          },
          "metadata": {},
          "execution_count": 53
        }
      ]
    },
    {
      "cell_type": "code",
      "metadata": {
        "colab": {
          "base_uri": "https://localhost:8080/"
        },
        "id": "mVW0XAqB7_01",
        "outputId": "aa56f736-8ab2-457d-d633-7d6a20df12b6"
      },
      "source": [
        "model_0.score(val_news, val_label)"
      ],
      "execution_count": 54,
      "outputs": [
        {
          "output_type": "execute_result",
          "data": {
            "text/plain": [
              "0.7734806629834254"
            ]
          },
          "metadata": {},
          "execution_count": 54
        }
      ]
    },
    {
      "cell_type": "code",
      "metadata": {
        "colab": {
          "base_uri": "https://localhost:8080/"
        },
        "id": "FFuZLVmK8CYY",
        "outputId": "72430c97-dd1f-44f6-f803-db26946152c8"
      },
      "source": [
        "model_0_perd = model_0.predict(val_news) \n",
        "\n",
        "model_0_result = calculate_result(val_label, model_0_perd)\n",
        "model_0_result"
      ],
      "execution_count": 55,
      "outputs": [
        {
          "output_type": "execute_result",
          "data": {
            "text/plain": [
              "{'accurecy': 0.7734806629834254,\n",
              " 'f1-score': 0.7653864196239786,\n",
              " 'precision': 0.8327285259750007,\n",
              " 'recall': 0.7734806629834254}"
            ]
          },
          "metadata": {},
          "execution_count": 55
        }
      ]
    },
    {
      "cell_type": "markdown",
      "metadata": {
        "id": "v0mXo18E8Gmp"
      },
      "source": [
        "##1. Simple Dense layer model"
      ]
    },
    {
      "cell_type": "code",
      "metadata": {
        "id": "ZJE2PfaUjN91"
      },
      "source": [
        "train_news_data = tf.data.Dataset.from_tensor_slices(train_news)\n",
        "train_label_data = tf.data.Dataset.from_tensor_slices(train_label)\n",
        "\n",
        "train_dataset = tf.data.Dataset.zip((train_news_data, train_label_data)).batch(32).prefetch(tf.data.AUTOTUNE)"
      ],
      "execution_count": 56,
      "outputs": []
    },
    {
      "cell_type": "code",
      "metadata": {
        "id": "V_0l7ZvVj8TE"
      },
      "source": [
        "val_news_data = tf.data.Dataset.from_tensor_slices(val_news)\n",
        "val_label_data = tf.data.Dataset.from_tensor_slices(val_label)\n",
        "\n",
        "val_dataset = tf.data.Dataset.zip((val_news_data, val_label_data)).batch(32).prefetch(tf.data.AUTOTUNE)"
      ],
      "execution_count": 57,
      "outputs": []
    },
    {
      "cell_type": "code",
      "metadata": {
        "id": "_rYblXPN8E0P"
      },
      "source": [
        "inputs = layers.Input(shape=(1,), dtype=tf.string)\n",
        "x = text_vectorizer(inputs)\n",
        "x = embedding(x)\n",
        "x = layers.GlobalAvgPool1D()(x)\n",
        "x = layers.Dense(64, activation='relu')(x)\n",
        "outputs = layers.Dense(1, activation='sigmoid')(x)\n",
        "\n",
        "model_1 = tf.keras.Model(inputs, outputs)"
      ],
      "execution_count": 58,
      "outputs": []
    },
    {
      "cell_type": "code",
      "metadata": {
        "colab": {
          "base_uri": "https://localhost:8080/"
        },
        "id": "GzCAvvbS8K9S",
        "outputId": "cd9d2ff2-825d-4924-ddd7-1abbbbbac6de"
      },
      "source": [
        "model_1.summary()"
      ],
      "execution_count": 59,
      "outputs": [
        {
          "output_type": "stream",
          "name": "stdout",
          "text": [
            "Model: \"model_2\"\n",
            "_________________________________________________________________\n",
            " Layer (type)                Output Shape              Param #   \n",
            "=================================================================\n",
            " input_3 (InputLayer)        [(None, 1)]               0         \n",
            "                                                                 \n",
            " text_vectorization (TextVec  (None, 790)              0         \n",
            " torization)                                                     \n",
            "                                                                 \n",
            " embedding (Embedding)       (None, 790, 128)          1280000   \n",
            "                                                                 \n",
            " global_average_pooling1d_1   (None, 128)              0         \n",
            " (GlobalAveragePooling1D)                                        \n",
            "                                                                 \n",
            " dense_4 (Dense)             (None, 64)                8256      \n",
            "                                                                 \n",
            " dense_5 (Dense)             (None, 1)                 65        \n",
            "                                                                 \n",
            "=================================================================\n",
            "Total params: 1,288,321\n",
            "Trainable params: 1,288,321\n",
            "Non-trainable params: 0\n",
            "_________________________________________________________________\n"
          ]
        }
      ]
    },
    {
      "cell_type": "code",
      "metadata": {
        "colab": {
          "base_uri": "https://localhost:8080/"
        },
        "id": "ORVe-dcG8MU5",
        "outputId": "bf3ce7be-71f7-4c52-c415-40752329cbdb"
      },
      "source": [
        "model_1.compile(\n",
        "    loss = 'binary_crossentropy',\n",
        "    optimizer = Adam(),\n",
        "    metrics = ['accuracy'],\n",
        ")\n",
        "\n",
        "history_1 = model_1.fit(\n",
        "    train_dataset,\n",
        "    epochs = 10,\n",
        "    validation_data = val_dataset,\n",
        ")"
      ],
      "execution_count": 60,
      "outputs": [
        {
          "output_type": "stream",
          "name": "stdout",
          "text": [
            "Epoch 1/10\n",
            "159/159 [==============================] - 4s 18ms/step - loss: 0.3841 - accuracy: 0.9000 - val_loss: 0.2460 - val_accuracy: 0.9298\n",
            "Epoch 2/10\n",
            "159/159 [==============================] - 3s 16ms/step - loss: 0.1243 - accuracy: 0.9714 - val_loss: 0.2265 - val_accuracy: 0.9187\n",
            "Epoch 3/10\n",
            "159/159 [==============================] - 3s 16ms/step - loss: 0.0724 - accuracy: 0.9850 - val_loss: 0.2473 - val_accuracy: 0.9045\n",
            "Epoch 4/10\n",
            "159/159 [==============================] - 3s 16ms/step - loss: 0.0496 - accuracy: 0.9891 - val_loss: 0.2689 - val_accuracy: 0.9013\n",
            "Epoch 5/10\n",
            "159/159 [==============================] - 2s 16ms/step - loss: 0.0372 - accuracy: 0.9911 - val_loss: 0.2861 - val_accuracy: 0.9037\n",
            "Epoch 6/10\n",
            "159/159 [==============================] - 2s 16ms/step - loss: 0.0295 - accuracy: 0.9925 - val_loss: 0.3015 - val_accuracy: 0.9069\n",
            "Epoch 7/10\n",
            "159/159 [==============================] - 2s 16ms/step - loss: 0.0242 - accuracy: 0.9953 - val_loss: 0.3158 - val_accuracy: 0.9116\n",
            "Epoch 8/10\n",
            "159/159 [==============================] - 2s 15ms/step - loss: 0.0204 - accuracy: 0.9964 - val_loss: 0.3280 - val_accuracy: 0.9187\n",
            "Epoch 9/10\n",
            "159/159 [==============================] - 2s 15ms/step - loss: 0.0175 - accuracy: 0.9961 - val_loss: 0.3390 - val_accuracy: 0.9203\n",
            "Epoch 10/10\n",
            "159/159 [==============================] - 2s 15ms/step - loss: 0.0152 - accuracy: 0.9964 - val_loss: 0.3506 - val_accuracy: 0.9211\n"
          ]
        }
      ]
    },
    {
      "cell_type": "code",
      "metadata": {
        "colab": {
          "base_uri": "https://localhost:8080/"
        },
        "id": "umifiYdR8PM2",
        "outputId": "6287a993-a657-4556-9ad1-a47092986b86"
      },
      "source": [
        "model_1_pred = model_1.predict(val_dataset)\n",
        "model_1_pred = tf.squeeze(tf.round(model_1_pred), axis=1)\n",
        "model_1_result = calculate_result(val_label, model_1_pred)\n",
        "model_1_result"
      ],
      "execution_count": 61,
      "outputs": [
        {
          "output_type": "execute_result",
          "data": {
            "text/plain": [
              "{'accurecy': 0.9210734017363852,\n",
              " 'f1-score': 0.9210988917719858,\n",
              " 'precision': 0.9213493487498212,\n",
              " 'recall': 0.9210734017363852}"
            ]
          },
          "metadata": {},
          "execution_count": 61
        }
      ]
    },
    {
      "cell_type": "code",
      "metadata": {
        "colab": {
          "base_uri": "https://localhost:8080/",
          "height": 573
        },
        "id": "CEza6__Ap8cL",
        "outputId": "fe582e1b-149f-4729-9935-2d65af3d37fb"
      },
      "source": [
        "plot_loss_curves(history_1)"
      ],
      "execution_count": 62,
      "outputs": [
        {
          "output_type": "display_data",
          "data": {
            "image/png": "[encoded data removed]",
            "text/plain": [
              "<Figure size 432x288 with 1 Axes>"
            ]
          },
          "metadata": {
            "needs_background": "light"
          }
        },
        {
          "output_type": "display_data",
          "data": {
            "image/png": "[encoded data removed]",
            "text/plain": [
              "<Figure size 432x288 with 1 Axes>"
            ]
          },
          "metadata": {
            "needs_background": "light"
          }
        }
      ]
    },
    {
      "cell_type": "markdown",
      "metadata": {
        "id": "ygj3gi4G8eP1"
      },
      "source": [
        "##2. LSTM Model"
      ]
    },
    {
      "cell_type": "code",
      "metadata": {
        "id": "n1oXeatf8hBg"
      },
      "source": [
        "inputs = layers.Input(shape=(1,), dtype=tf.string)\n",
        "x = text_vectorizer(inputs)\n",
        "x = embedding(x)\n",
        "x = layers.LSTM(64, return_sequences=True)(x)\n",
        "x = layers.LSTM(64)(x)\n",
        "x = layers.Dense(32, activation='relu')(x)\n",
        "outputs = layers.Dense(1, activation='sigmoid')(x)\n",
        "\n",
        "model_2 = tf.keras.Model(inputs, outputs)"
      ],
      "execution_count": 63,
      "outputs": []
    },
    {
      "cell_type": "code",
      "metadata": {
        "colab": {
          "base_uri": "https://localhost:8080/"
        },
        "id": "N8OFZ3DK8kko",
        "outputId": "3e7bd3f4-154b-462d-e7d9-c3bb84fe7579"
      },
      "source": [
        "model_2.summary()"
      ],
      "execution_count": 64,
      "outputs": [
        {
          "output_type": "stream",
          "name": "stdout",
          "text": [
            "Model: \"model_3\"\n",
            "_________________________________________________________________\n",
            " Layer (type)                Output Shape              Param #   \n",
            "=================================================================\n",
            " input_4 (InputLayer)        [(None, 1)]               0         \n",
            "                                                                 \n",
            " text_vectorization (TextVec  (None, 790)              0         \n",
            " torization)                                                     \n",
            "                                                                 \n",
            " embedding (Embedding)       (None, 790, 128)          1280000   \n",
            "                                                                 \n",
            " lstm_2 (LSTM)               (None, 790, 64)           49408     \n",
            "                                                                 \n",
            " lstm_3 (LSTM)               (None, 64)                33024     \n",
            "                                                                 \n",
            " dense_6 (Dense)             (None, 32)                2080      \n",
            "                                                                 \n",
            " dense_7 (Dense)             (None, 1)                 33        \n",
            "                                                                 \n",
            "=================================================================\n",
            "Total params: 1,364,545\n",
            "Trainable params: 1,364,545\n",
            "Non-trainable params: 0\n",
            "_________________________________________________________________\n"
          ]
        }
      ]
    },
    {
      "cell_type": "code",
      "metadata": {
        "colab": {
          "base_uri": "https://localhost:8080/"
        },
        "id": "ZcYcSjcz8pv9",
        "outputId": "0e0799d4-66ee-4745-c852-5ec92eec8410"
      },
      "source": [
        "model_2.compile(\n",
        "    loss = 'binary_crossentropy',\n",
        "    optimizer = Adam(),\n",
        "    metrics = ['accuracy'],\n",
        ")\n",
        "\n",
        "history_2 = model_2.fit(\n",
        "    train_dataset,\n",
        "    epochs = 10,\n",
        "    validation_data = val_dataset,\n",
        "    callbacks = [\n",
        "              early_stopping,   \n",
        "    ]\n",
        ")"
      ],
      "execution_count": 65,
      "outputs": [
        {
          "output_type": "stream",
          "name": "stdout",
          "text": [
            "Epoch 1/10\n",
            "159/159 [==============================] - 51s 292ms/step - loss: 0.5285 - accuracy: 0.7178 - val_loss: 0.6132 - val_accuracy: 0.6298 - lr: 0.0010\n",
            "Epoch 2/10\n",
            "159/159 [==============================] - 45s 283ms/step - loss: 0.5806 - accuracy: 0.6809 - val_loss: 0.4985 - val_accuracy: 0.7616 - lr: 0.0010\n",
            "Epoch 3/10\n",
            "159/159 [==============================] - 45s 285ms/step - loss: 0.3992 - accuracy: 0.7956 - val_loss: 0.5345 - val_accuracy: 0.6590 - lr: 0.0010\n",
            "Epoch 4/10\n",
            "159/159 [==============================] - ETA: 0s - loss: 0.5286 - accuracy: 0.7097\n",
            "Epoch 00004: ReduceLROnPlateau reducing learning rate to 0.0005000000237487257.\n",
            "159/159 [==============================] - 47s 299ms/step - loss: 0.5286 - accuracy: 0.7097 - val_loss: 0.6983 - val_accuracy: 0.5201 - lr: 0.0010\n",
            "Epoch 5/10\n",
            "159/159 [==============================] - 45s 284ms/step - loss: 0.6916 - accuracy: 0.5219 - val_loss: 0.6884 - val_accuracy: 0.5683 - lr: 5.0000e-04\n"
          ]
        }
      ]
    },
    {
      "cell_type": "code",
      "metadata": {
        "colab": {
          "base_uri": "https://localhost:8080/"
        },
        "id": "w-aGFgig8xPX",
        "outputId": "747dbd59-367a-4d06-f766-948c2cfa51e1"
      },
      "source": [
        "model_2_pred = model_2.predict(val_news)\n",
        "model_2_pred = tf.squeeze(tf.round(model_2_pred))\n",
        "model_2_result = calculate_result(val_label, model_2_pred)\n",
        "model_2_result"
      ],
      "execution_count": 66,
      "outputs": [
        {
          "output_type": "execute_result",
          "data": {
            "text/plain": [
              "{'accurecy': 0.7616416732438832,\n",
              " 'f1-score': 0.7537838705456844,\n",
              " 'precision': 0.8144156444088506,\n",
              " 'recall': 0.7616416732438832}"
            ]
          },
          "metadata": {},
          "execution_count": 66
        }
      ]
    },
    {
      "cell_type": "markdown",
      "metadata": {
        "id": "JJzLfx2cDXVf"
      },
      "source": [
        "##GRU Layer Model"
      ]
    },
    {
      "cell_type": "code",
      "metadata": {
        "id": "tHHfx9lKE5Zt"
      },
      "source": [
        "inputs = layers.Input(shape=(1,), dtype=tf.string)\n",
        "x = text_vectorizer(inputs)\n",
        "x = embedding(x)\n",
        "x = layers.GRU(64, return_sequences=True)(x)\n",
        "x = layers.LSTM(64)(x)\n",
        "x = layers.Dense(32, activation='relu')(x)\n",
        "outputs = layers.Dense(1, activation='sigmoid')(x)\n",
        "\n",
        "model_4 = tf.keras.Model(inputs, outputs)"
      ],
      "execution_count": 67,
      "outputs": []
    },
    {
      "cell_type": "code",
      "metadata": {
        "colab": {
          "base_uri": "https://localhost:8080/"
        },
        "id": "mlTXU3l2Jg-P",
        "outputId": "a8f0a1c0-8dcf-4fbf-9ffe-1a068eb8518d"
      },
      "source": [
        "model_4.summary()"
      ],
      "execution_count": 68,
      "outputs": [
        {
          "output_type": "stream",
          "name": "stdout",
          "text": [
            "Model: \"model_4\"\n",
            "_________________________________________________________________\n",
            " Layer (type)                Output Shape              Param #   \n",
            "=================================================================\n",
            " input_5 (InputLayer)        [(None, 1)]               0         \n",
            "                                                                 \n",
            " text_vectorization (TextVec  (None, 790)              0         \n",
            " torization)                                                     \n",
            "                                                                 \n",
            " embedding (Embedding)       (None, 790, 128)          1280000   \n",
            "                                                                 \n",
            " gru (GRU)                   (None, 790, 64)           37248     \n",
            "                                                                 \n",
            " lstm_4 (LSTM)               (None, 64)                33024     \n",
            "                                                                 \n",
            " dense_8 (Dense)             (None, 32)                2080      \n",
            "                                                                 \n",
            " dense_9 (Dense)             (None, 1)                 33        \n",
            "                                                                 \n",
            "=================================================================\n",
            "Total params: 1,352,385\n",
            "Trainable params: 1,352,385\n",
            "Non-trainable params: 0\n",
            "_________________________________________________________________\n"
          ]
        }
      ]
    },
    {
      "cell_type": "code",
      "metadata": {
        "colab": {
          "base_uri": "https://localhost:8080/"
        },
        "id": "5p8BYmzMJ5Rv",
        "outputId": "e10e1588-7a99-4d60-d170-13fbd143a70a"
      },
      "source": [
        "model_4.compile(\n",
        "    loss = 'binary_crossentropy',\n",
        "    optimizer = Adam(),\n",
        "    metrics = ['accuracy']\n",
        ")\n",
        "\n",
        "history_4 = model_4.fit(\n",
        "    train_dataset,\n",
        "    epochs = 10,\n",
        "    validation_data = val_dataset,\n",
        "    callbacks = [\n",
        "              early_stopping,   \n",
        "    ]\n",
        ")"
      ],
      "execution_count": 69,
      "outputs": [
        {
          "output_type": "stream",
          "name": "stdout",
          "text": [
            "Epoch 1/10\n",
            "159/159 [==============================] - 52s 302ms/step - loss: 0.5567 - accuracy: 0.6924 - val_loss: 0.5037 - val_accuracy: 0.7245 - lr: 0.0010\n",
            "Epoch 2/10\n",
            "159/159 [==============================] - 48s 299ms/step - loss: 0.4923 - accuracy: 0.7299 - val_loss: 0.6604 - val_accuracy: 0.6330 - lr: 0.0010\n",
            "Epoch 3/10\n",
            "159/159 [==============================] - 48s 299ms/step - loss: 0.4804 - accuracy: 0.7757 - val_loss: 0.4154 - val_accuracy: 0.8429 - lr: 0.0010\n",
            "Epoch 4/10\n",
            "159/159 [==============================] - 48s 302ms/step - loss: 0.2297 - accuracy: 0.9315 - val_loss: 0.2677 - val_accuracy: 0.9163 - lr: 0.0010\n",
            "Epoch 5/10\n",
            "159/159 [==============================] - 48s 302ms/step - loss: 0.1861 - accuracy: 0.9444 - val_loss: 1.3010 - val_accuracy: 0.5588 - lr: 0.0010\n",
            "Epoch 6/10\n",
            "159/159 [==============================] - ETA: 0s - loss: 0.3630 - accuracy: 0.8493\n",
            "Epoch 00006: ReduceLROnPlateau reducing learning rate to 0.0005000000237487257.\n",
            "159/159 [==============================] - 48s 301ms/step - loss: 0.3630 - accuracy: 0.8493 - val_loss: 0.2772 - val_accuracy: 0.9211 - lr: 0.0010\n",
            "Epoch 7/10\n",
            "159/159 [==============================] - 48s 300ms/step - loss: 0.0789 - accuracy: 0.9795 - val_loss: 0.2954 - val_accuracy: 0.9053 - lr: 5.0000e-04\n"
          ]
        }
      ]
    },
    {
      "cell_type": "code",
      "metadata": {
        "id": "jaNbHTm5PSEa",
        "colab": {
          "base_uri": "https://localhost:8080/"
        },
        "outputId": "2e5b81dc-6e48-4546-b7ba-41ab14da663d"
      },
      "source": [
        "model_4_pred = model_4.predict(val_news)\n",
        "model_4_pred = tf.squeeze(tf.round(model_4_pred))\n",
        "model_4_result = calculate_result(val_label, model_4_pred)\n",
        "model_4_result"
      ],
      "execution_count": 70,
      "outputs": [
        {
          "output_type": "execute_result",
          "data": {
            "text/plain": [
              "{'accurecy': 0.9163378058405682,\n",
              " 'f1-score': 0.9162330816304424,\n",
              " 'precision': 0.9169046313404066,\n",
              " 'recall': 0.9163378058405682}"
            ]
          },
          "metadata": {},
          "execution_count": 70
        }
      ]
    },
    {
      "cell_type": "code",
      "metadata": {
        "id": "48H02arSPtWC",
        "colab": {
          "base_uri": "https://localhost:8080/",
          "height": 573
        },
        "outputId": "287fb0bf-7af8-44e4-ea26-8ded16542dd7"
      },
      "source": [
        "plot_loss_curves(history_4)"
      ],
      "execution_count": 71,
      "outputs": [
        {
          "output_type": "display_data",
          "data": {
            "image/png": "[encoded data removed]",
            "text/plain": [
              "<Figure size 432x288 with 1 Axes>"
            ]
          },
          "metadata": {
            "needs_background": "light"
          }
        },
        {
          "output_type": "display_data",
          "data": {
            "image/png": "[encoded data removed]",
            "text/plain": [
              "<Figure size 432x288 with 1 Axes>"
            ]
          },
          "metadata": {
            "needs_background": "light"
          }
        }
      ]
    },
    {
      "cell_type": "code",
      "metadata": {
        "id": "kKZ4UHN8Ku52",
        "colab": {
          "base_uri": "https://localhost:8080/"
        },
        "outputId": "b6409208-3d9b-4e90-d81f-88f684bb2dc6"
      },
      "source": [
        "inputs = layers.Input(shape=(1,), dtype=tf.string)\n",
        "x = text_vectorizer(inputs)\n",
        "x = embedding(x)\n",
        "x = layers.GRU(64, return_sequences=True)(x)\n",
        "x = layers.LSTM(64)(x)\n",
        "outputs = layers.Dense(1, activation='sigmoid')(x)\n",
        "\n",
        "model_5 = tf.keras.Model(inputs, outputs)\n",
        "\n",
        "model_5.compile(\n",
        "    loss = 'binary_crossentropy',\n",
        "    optimizer = Adam(),\n",
        "    metrics = ['accuracy']\n",
        ")\n",
        "\n",
        "history_5 = model_5.fit(\n",
        "    train_dataset,\n",
        "    epochs = 10,\n",
        "    validation_data = val_dataset,\n",
        "    callbacks = [\n",
        "              early_stopping,   \n",
        "    ]\n",
        ")"
      ],
      "execution_count": 73,
      "outputs": [
        {
          "output_type": "stream",
          "name": "stdout",
          "text": [
            "Epoch 1/10\n",
            "159/159 [==============================] - 54s 252ms/step - loss: 0.6398 - accuracy: 0.6300 - val_loss: 0.5861 - val_accuracy: 0.6890 - lr: 0.0010\n",
            "Epoch 2/10\n",
            "159/159 [==============================] - 39s 243ms/step - loss: 0.3509 - accuracy: 0.8712 - val_loss: 1.0337 - val_accuracy: 0.5107 - lr: 0.0010\n",
            "Epoch 3/10\n",
            "159/159 [==============================] - ETA: 0s - loss: 0.6032 - accuracy: 0.6509\n",
            "Epoch 00003: ReduceLROnPlateau reducing learning rate to 0.0005000000237487257.\n",
            "159/159 [==============================] - 38s 238ms/step - loss: 0.6032 - accuracy: 0.6509 - val_loss: 0.5897 - val_accuracy: 0.6843 - lr: 0.0010\n",
            "Epoch 4/10\n",
            "159/159 [==============================] - 44s 278ms/step - loss: 0.3213 - accuracy: 0.8644 - val_loss: 0.5805 - val_accuracy: 0.6251 - lr: 5.0000e-04\n",
            "Epoch 5/10\n",
            "159/159 [==============================] - 47s 298ms/step - loss: 0.2542 - accuracy: 0.9225 - val_loss: 0.3088 - val_accuracy: 0.8958 - lr: 5.0000e-04\n",
            "Epoch 6/10\n",
            "159/159 [==============================] - 46s 293ms/step - loss: 0.1432 - accuracy: 0.9558 - val_loss: 0.2968 - val_accuracy: 0.9108 - lr: 5.0000e-04\n",
            "Epoch 7/10\n",
            "159/159 [==============================] - 47s 299ms/step - loss: 0.1507 - accuracy: 0.9560 - val_loss: 0.4621 - val_accuracy: 0.8745 - lr: 5.0000e-04\n",
            "Epoch 8/10\n",
            "159/159 [==============================] - 46s 292ms/step - loss: 0.1683 - accuracy: 0.9451 - val_loss: 0.2901 - val_accuracy: 0.9029 - lr: 5.0000e-04\n",
            "Epoch 9/10\n",
            "159/159 [==============================] - 48s 301ms/step - loss: 0.2852 - accuracy: 0.8680 - val_loss: 0.5305 - val_accuracy: 0.6867 - lr: 5.0000e-04\n",
            "Epoch 10/10\n",
            "159/159 [==============================] - ETA: 0s - loss: 0.2891 - accuracy: 0.8571\n",
            "Epoch 00010: ReduceLROnPlateau reducing learning rate to 0.0002500000118743628.\n",
            "159/159 [==============================] - 48s 300ms/step - loss: 0.2891 - accuracy: 0.8571 - val_loss: 0.4132 - val_accuracy: 0.8698 - lr: 5.0000e-04\n"
          ]
        }
      ]
    },
    {
      "cell_type": "code",
      "metadata": {
        "id": "xZsojHtBPz68",
        "colab": {
          "base_uri": "https://localhost:8080/"
        },
        "outputId": "a26aa388-c7ac-44cf-b79f-ffa5fd8aff94"
      },
      "source": [
        "model_5_pred = model_5.predict(val_news)\n",
        "model_5_pred = tf.squeeze(tf.round(model_5_pred))\n",
        "model_5_result = calculate_result(val_label, model_5_pred)\n",
        "model_5_result"
      ],
      "execution_count": 74,
      "outputs": [
        {
          "output_type": "execute_result",
          "data": {
            "text/plain": [
              "{'accurecy': 0.8697711128650355,\n",
              " 'f1-score': 0.8697711128650355,\n",
              " 'precision': 0.8725942133868613,\n",
              " 'recall': 0.8697711128650355}"
            ]
          },
          "metadata": {},
          "execution_count": 74
        }
      ]
    },
    {
      "cell_type": "code",
      "metadata": {
        "id": "fSoB2YYwQt05",
        "colab": {
          "base_uri": "https://localhost:8080/",
          "height": 573
        },
        "outputId": "4e0df2c6-77af-4e78-ca92-5792779610a3"
      },
      "source": [
        "plot_loss_curves(history_5)"
      ],
      "execution_count": 75,
      "outputs": [
        {
          "output_type": "display_data",
          "data": {
            "image/png": "[encoded data removed]",
            "text/plain": [
              "<Figure size 432x288 with 1 Axes>"
            ]
          },
          "metadata": {
            "needs_background": "light"
          }
        },
        {
          "output_type": "display_data",
          "data": {
            "image/png": "[encoded data removed]",
            "text/plain": [
              "<Figure size 432x288 with 1 Axes>"
            ]
          },
          "metadata": {
            "needs_background": "light"
          }
        }
      ]
    },
    {
      "cell_type": "markdown",
      "metadata": {
        "id": "01sRs1b9Qw_u"
      },
      "source": [
        "##Bidirectional LSTM Model"
      ]
    },
    {
      "cell_type": "code",
      "metadata": {
        "id": "hqWdGZcGQwvY"
      },
      "source": [
        "inputs = layers.Input(shape=(1,), dtype=tf.string)\n",
        "x = text_vectorizer(inputs)\n",
        "x = embedding(x)\n",
        "x = layers.Bidirectional(layers.LSTM(64, return_sequences=True))(x)\n",
        "x = layers.LSTM(64)(x)\n",
        "outputs = layers.Dense(1, activation='sigmoid')(x)\n",
        "\n",
        "model_6 = tf.keras.Model(inputs, outputs)"
      ],
      "execution_count": 76,
      "outputs": []
    },
    {
      "cell_type": "code",
      "metadata": {
        "id": "z16Yre02RkRi",
        "colab": {
          "base_uri": "https://localhost:8080/"
        },
        "outputId": "77d1ae82-5407-4d8b-9ec8-8796332c6c25"
      },
      "source": [
        "model_6.summary()"
      ],
      "execution_count": 77,
      "outputs": [
        {
          "output_type": "stream",
          "name": "stdout",
          "text": [
            "Model: \"model_6\"\n",
            "_________________________________________________________________\n",
            " Layer (type)                Output Shape              Param #   \n",
            "=================================================================\n",
            " input_7 (InputLayer)        [(None, 1)]               0         \n",
            "                                                                 \n",
            " text_vectorization (TextVec  (None, 790)              0         \n",
            " torization)                                                     \n",
            "                                                                 \n",
            " embedding (Embedding)       (None, 790, 128)          1280000   \n",
            "                                                                 \n",
            " bidirectional (Bidirectiona  (None, 790, 128)         98816     \n",
            " l)                                                              \n",
            "                                                                 \n",
            " lstm_7 (LSTM)               (None, 64)                49408     \n",
            "                                                                 \n",
            " dense_11 (Dense)            (None, 1)                 65        \n",
            "                                                                 \n",
            "=================================================================\n",
            "Total params: 1,428,289\n",
            "Trainable params: 1,428,289\n",
            "Non-trainable params: 0\n",
            "_________________________________________________________________\n"
          ]
        }
      ]
    },
    {
      "cell_type": "code",
      "metadata": {
        "id": "44NygAOTRmOi",
        "colab": {
          "base_uri": "https://localhost:8080/"
        },
        "outputId": "ab3078a9-2c6a-47f7-ccd3-65e5eafe7bd1"
      },
      "source": [
        "model_6.compile(\n",
        "    loss = 'binary_crossentropy',\n",
        "    optimizer = Adam(),\n",
        "    metrics = ['accuracy']\n",
        ")\n",
        "\n",
        "model_6.fit(\n",
        "    train_dataset,\n",
        "    epochs = 10,\n",
        "    validation_data = val_dataset,\n",
        "    callbacks = [\n",
        "              early_stopping,   \n",
        "    ]\n",
        ")"
      ],
      "execution_count": 78,
      "outputs": [
        {
          "output_type": "stream",
          "name": "stdout",
          "text": [
            "Epoch 1/10\n",
            "159/159 [==============================] - 61s 349ms/step - loss: 0.3283 - accuracy: 0.8670 - val_loss: 0.4696 - val_accuracy: 0.8098 - lr: 0.0010\n",
            "Epoch 2/10\n",
            "159/159 [==============================] - 52s 325ms/step - loss: 0.4200 - accuracy: 0.7972 - val_loss: 0.5695 - val_accuracy: 0.7214 - lr: 0.0010\n",
            "Epoch 3/10\n",
            "159/159 [==============================] - 50s 316ms/step - loss: 0.4316 - accuracy: 0.8074 - val_loss: 0.3719 - val_accuracy: 0.8414 - lr: 0.0010\n",
            "Epoch 4/10\n",
            "159/159 [==============================] - 52s 328ms/step - loss: 0.1917 - accuracy: 0.9317 - val_loss: 0.2265 - val_accuracy: 0.9061 - lr: 0.0010\n",
            "Epoch 5/10\n",
            "159/159 [==============================] - 49s 308ms/step - loss: 0.1423 - accuracy: 0.9483 - val_loss: 0.2089 - val_accuracy: 0.9227 - lr: 0.0010\n",
            "Epoch 6/10\n",
            "159/159 [==============================] - 49s 307ms/step - loss: 0.0449 - accuracy: 0.9878 - val_loss: 0.2472 - val_accuracy: 0.9321 - lr: 0.0010\n",
            "Epoch 7/10\n",
            "159/159 [==============================] - 49s 306ms/step - loss: 0.0362 - accuracy: 0.9905 - val_loss: 0.2066 - val_accuracy: 0.9361 - lr: 0.0010\n",
            "Epoch 8/10\n",
            "159/159 [==============================] - 49s 306ms/step - loss: 0.0170 - accuracy: 0.9961 - val_loss: 0.2472 - val_accuracy: 0.9392 - lr: 0.0010\n",
            "Epoch 9/10\n",
            "159/159 [==============================] - ETA: 0s - loss: 0.0115 - accuracy: 0.9978\n",
            "Epoch 00009: ReduceLROnPlateau reducing learning rate to 0.0005000000237487257.\n",
            "159/159 [==============================] - 51s 320ms/step - loss: 0.0115 - accuracy: 0.9978 - val_loss: 0.2498 - val_accuracy: 0.9408 - lr: 0.0010\n",
            "Epoch 10/10\n",
            "159/159 [==============================] - 51s 320ms/step - loss: 0.0074 - accuracy: 0.9986 - val_loss: 0.2869 - val_accuracy: 0.9408 - lr: 5.0000e-04\n"
          ]
        },
        {
          "output_type": "execute_result",
          "data": {
            "text/plain": [
              "<keras.callbacks.History at 0x7f634e249c10>"
            ]
          },
          "metadata": {},
          "execution_count": 78
        }
      ]
    },
    {
      "cell_type": "code",
      "metadata": {
        "id": "dqCMOEiSUEDG",
        "colab": {
          "base_uri": "https://localhost:8080/"
        },
        "outputId": "6cbe6b8f-4cfb-4146-910f-c13ce3ae1daa"
      },
      "source": [
        "model_6_pred = model_6.predict(val_news)\n",
        "model_6_pred = tf.squeeze(tf.round(model_6_pred))\n",
        "model_6_result = calculate_result(val_label, model_6_pred)\n",
        "model_6_result"
      ],
      "execution_count": 79,
      "outputs": [
        {
          "output_type": "execute_result",
          "data": {
            "text/plain": [
              "{'accurecy': 0.936069455406472,\n",
              " 'f1-score': 0.936067381015211,\n",
              " 'precision': 0.9360664746280992,\n",
              " 'recall': 0.936069455406472}"
            ]
          },
          "metadata": {},
          "execution_count": 79
        }
      ]
    },
    {
      "cell_type": "markdown",
      "metadata": {
        "id": "Pu36qSj8bd3C"
      },
      "source": [
        "##Conv1D Model"
      ]
    },
    {
      "cell_type": "code",
      "metadata": {
        "id": "4ab65Tf2bPxK"
      },
      "source": [
        "inputs = layers.Input(shape=(1,), dtype=tf.string)\n",
        "x = text_vectorizer(inputs)\n",
        "x = embedding(x)\n",
        "x = layers.Conv1D(\n",
        "    filters = 64,\n",
        "    kernel_size = 5,\n",
        "    padding = 'valid',\n",
        "    activation='relu',\n",
        ")(x)\n",
        "x = layers.GlobalMaxPool1D()(x)\n",
        "x = layers.Dense(32, activation='relu')(x)\n",
        "outputs = layers.Dense(1, activation='sigmoid')(x)\n",
        "\n",
        "model_7 = tf.keras.Model(inputs, outputs)"
      ],
      "execution_count": 80,
      "outputs": []
    },
    {
      "cell_type": "code",
      "metadata": {
        "id": "QIT-9HcFbYIC",
        "colab": {
          "base_uri": "https://localhost:8080/"
        },
        "outputId": "05b4e600-07f2-4927-8bf3-680f2e5869b7"
      },
      "source": [
        "model_7.summary()"
      ],
      "execution_count": 81,
      "outputs": [
        {
          "output_type": "stream",
          "name": "stdout",
          "text": [
            "Model: \"model_7\"\n",
            "_________________________________________________________________\n",
            " Layer (type)                Output Shape              Param #   \n",
            "=================================================================\n",
            " input_8 (InputLayer)        [(None, 1)]               0         \n",
            "                                                                 \n",
            " text_vectorization (TextVec  (None, 790)              0         \n",
            " torization)                                                     \n",
            "                                                                 \n",
            " embedding (Embedding)       (None, 790, 128)          1280000   \n",
            "                                                                 \n",
            " conv1d (Conv1D)             (None, 786, 64)           41024     \n",
            "                                                                 \n",
            " global_max_pooling1d (Globa  (None, 64)               0         \n",
            " lMaxPooling1D)                                                  \n",
            "                                                                 \n",
            " dense_12 (Dense)            (None, 32)                2080      \n",
            "                                                                 \n",
            " dense_13 (Dense)            (None, 1)                 33        \n",
            "                                                                 \n",
            "=================================================================\n",
            "Total params: 1,323,137\n",
            "Trainable params: 1,323,137\n",
            "Non-trainable params: 0\n",
            "_________________________________________________________________\n"
          ]
        }
      ]
    },
    {
      "cell_type": "code",
      "metadata": {
        "id": "GQnVXDolcRsn",
        "colab": {
          "base_uri": "https://localhost:8080/"
        },
        "outputId": "296deb53-ee6f-4cf1-c229-3ad2fb220637"
      },
      "source": [
        "model_7.compile(\n",
        "    loss = 'binary_crossentropy',\n",
        "    optimizer = Adam(),\n",
        "    metrics = ['accuracy']\n",
        ")\n",
        "\n",
        "history_7 = model_7.fit(\n",
        "    train_dataset,\n",
        "    epochs = 10,\n",
        "    validation_data = val_dataset,\n",
        "    callbacks = [\n",
        "              early_stopping,   \n",
        "    ]\n",
        ")"
      ],
      "execution_count": 82,
      "outputs": [
        {
          "output_type": "stream",
          "name": "stdout",
          "text": [
            "Epoch 1/10\n",
            "159/159 [==============================] - 11s 25ms/step - loss: 0.2036 - accuracy: 0.9144 - val_loss: 0.2878 - val_accuracy: 0.8832 - lr: 0.0010\n",
            "Epoch 2/10\n",
            "159/159 [==============================] - 3s 22ms/step - loss: 0.1246 - accuracy: 0.9538 - val_loss: 0.2916 - val_accuracy: 0.8879 - lr: 0.0010\n",
            "Epoch 3/10\n",
            "157/159 [============================>.] - ETA: 0s - loss: 0.0792 - accuracy: 0.9761\n",
            "Epoch 00003: ReduceLROnPlateau reducing learning rate to 0.0005000000237487257.\n",
            "159/159 [==============================] - 3s 22ms/step - loss: 0.0787 - accuracy: 0.9763 - val_loss: 0.3236 - val_accuracy: 0.8911 - lr: 0.0010\n",
            "Epoch 4/10\n",
            "159/159 [==============================] - 3s 22ms/step - loss: 0.0524 - accuracy: 0.9842 - val_loss: 0.2811 - val_accuracy: 0.9069 - lr: 5.0000e-04\n",
            "Epoch 5/10\n",
            "159/159 [==============================] - 3s 22ms/step - loss: 0.0331 - accuracy: 0.9933 - val_loss: 0.2540 - val_accuracy: 0.9227 - lr: 5.0000e-04\n",
            "Epoch 6/10\n",
            "159/159 [==============================] - 3s 22ms/step - loss: 0.0220 - accuracy: 0.9970 - val_loss: 0.2489 - val_accuracy: 0.9242 - lr: 5.0000e-04\n",
            "Epoch 7/10\n",
            "159/159 [==============================] - 4s 26ms/step - loss: 0.0157 - accuracy: 0.9978 - val_loss: 0.2512 - val_accuracy: 0.9282 - lr: 5.0000e-04\n",
            "Epoch 8/10\n",
            "158/159 [============================>.] - ETA: 0s - loss: 0.0116 - accuracy: 0.9986\n",
            "Epoch 00008: ReduceLROnPlateau reducing learning rate to 0.0002500000118743628.\n",
            "159/159 [==============================] - 4s 28ms/step - loss: 0.0116 - accuracy: 0.9986 - val_loss: 0.2569 - val_accuracy: 0.9266 - lr: 5.0000e-04\n",
            "Epoch 9/10\n",
            "159/159 [==============================] - 4s 26ms/step - loss: 0.0079 - accuracy: 0.9994 - val_loss: 0.2559 - val_accuracy: 0.9282 - lr: 2.5000e-04\n"
          ]
        }
      ]
    },
    {
      "cell_type": "code",
      "metadata": {
        "id": "WYIdTbUccm4t",
        "colab": {
          "base_uri": "https://localhost:8080/"
        },
        "outputId": "5112bf63-5725-4b52-e323-f8c197fd11b5"
      },
      "source": [
        "model_7_pred = model_7.predict(val_news)\n",
        "model_7_pred = tf.squeeze(tf.round(model_7_pred))\n",
        "model_7_result = calculate_result(val_label, model_7_pred)\n",
        "model_7_result"
      ],
      "execution_count": 83,
      "outputs": [
        {
          "output_type": "execute_result",
          "data": {
            "text/plain": [
              "{'accurecy': 0.9242304656669298,\n",
              " 'f1-score': 0.9241452070364926,\n",
              " 'precision': 0.9247268298970897,\n",
              " 'recall': 0.9242304656669298}"
            ]
          },
          "metadata": {},
          "execution_count": 83
        }
      ]
    },
    {
      "cell_type": "code",
      "metadata": {
        "id": "kuG05xXoct4d",
        "colab": {
          "base_uri": "https://localhost:8080/",
          "height": 573
        },
        "outputId": "dafaa199-a2eb-47c2-c837-3aea14a4eee1"
      },
      "source": [
        "plot_loss_curves(history_7)"
      ],
      "execution_count": 84,
      "outputs": [
        {
          "output_type": "display_data",
          "data": {
            "image/png": "[encoded data removed]",
            "text/plain": [
              "<Figure size 432x288 with 1 Axes>"
            ]
          },
          "metadata": {
            "needs_background": "light"
          }
        },
        {
          "output_type": "display_data",
          "data": {
            "image/png": "[encoded data removed]",
            "text/plain": [
              "<Figure size 432x288 with 1 Axes>"
            ]
          },
          "metadata": {
            "needs_background": "light"
          }
        }
      ]
    },
    {
      "cell_type": "markdown",
      "metadata": {
        "id": "S3FMVGV2c22_"
      },
      "source": [
        "##Pretrained Model"
      ]
    },
    {
      "cell_type": "code",
      "metadata": {
        "id": "JPzEN5zzcygW"
      },
      "source": [
        "import tensorflow_hub as hub\n",
        "\n",
        "embed = hub.load('https://tfhub.dev/google/universal-sentence-encoder/4')"
      ],
      "execution_count": 85,
      "outputs": []
    },
    {
      "cell_type": "code",
      "metadata": {
        "id": "OlclZq89dib2"
      },
      "source": [
        "sentence_encoder_layer = hub.KerasLayer(\n",
        "    'https://tfhub.dev/google/universal-sentence-encoder/4',\n",
        "    input_shape=[],\n",
        "    dtype = tf.string,\n",
        "    trainable =False,\n",
        "    name = \"USE\"\n",
        ")"
      ],
      "execution_count": 86,
      "outputs": []
    },
    {
      "cell_type": "code",
      "metadata": {
        "id": "xhgKXD-Edmmb"
      },
      "source": [
        "model_8 = tf.keras.Sequential([\n",
        "    sentence_encoder_layer,\n",
        "    layers.Dense(64, activation='relu'),\n",
        "    layers.Dense(1, activation='sigmoid')\n",
        "], name = 'modes_7_USE')\n",
        "\n",
        "model_8.compile(\n",
        "    loss = 'binary_crossentropy',\n",
        "    optimizer = tf.keras.optimizers.Adam(),\n",
        "    metrics = ['accuracy'],\n",
        ")"
      ],
      "execution_count": 87,
      "outputs": []
    },
    {
      "cell_type": "code",
      "metadata": {
        "id": "-6JQDNoAdxKH",
        "colab": {
          "base_uri": "https://localhost:8080/"
        },
        "outputId": "c8e5b42a-472b-433c-d6b5-6d1c372be87d"
      },
      "source": [
        "model_8.summary()"
      ],
      "execution_count": 88,
      "outputs": [
        {
          "output_type": "stream",
          "name": "stdout",
          "text": [
            "Model: \"modes_7_USE\"\n",
            "_________________________________________________________________\n",
            " Layer (type)                Output Shape              Param #   \n",
            "=================================================================\n",
            " USE (KerasLayer)            (None, 512)               256797824 \n",
            "                                                                 \n",
            " dense_14 (Dense)            (None, 64)                32832     \n",
            "                                                                 \n",
            " dense_15 (Dense)            (None, 1)                 65        \n",
            "                                                                 \n",
            "=================================================================\n",
            "Total params: 256,830,721\n",
            "Trainable params: 32,897\n",
            "Non-trainable params: 256,797,824\n",
            "_________________________________________________________________\n"
          ]
        }
      ]
    },
    {
      "cell_type": "code",
      "metadata": {
        "id": "l-RF2iLhdyhc",
        "colab": {
          "base_uri": "https://localhost:8080/"
        },
        "outputId": "99b74864-e17c-404a-bdbf-b0fa47d158ba"
      },
      "source": [
        "history_8  = model_8.fit(\n",
        "    train_dataset,\n",
        "    epochs = 10,\n",
        "    validation_data = val_dataset,\n",
        "    callbacks = [\n",
        "              early_stopping,   \n",
        "    ]\n",
        ")"
      ],
      "execution_count": 89,
      "outputs": [
        {
          "output_type": "stream",
          "name": "stdout",
          "text": [
            "Epoch 1/10\n",
            "159/159 [==============================] - 33s 188ms/step - loss: 0.5024 - accuracy: 0.7946 - val_loss: 0.3600 - val_accuracy: 0.8666 - lr: 0.0010\n",
            "Epoch 2/10\n",
            "159/159 [==============================] - 27s 172ms/step - loss: 0.3277 - accuracy: 0.8629 - val_loss: 0.3058 - val_accuracy: 0.8816 - lr: 0.0010\n",
            "Epoch 3/10\n",
            "159/159 [==============================] - 27s 173ms/step - loss: 0.2910 - accuracy: 0.8743 - val_loss: 0.2905 - val_accuracy: 0.8887 - lr: 0.0010\n",
            "Epoch 4/10\n",
            "159/159 [==============================] - 30s 187ms/step - loss: 0.2730 - accuracy: 0.8875 - val_loss: 0.2840 - val_accuracy: 0.8919 - lr: 0.0010\n",
            "Epoch 5/10\n",
            "159/159 [==============================] - 29s 185ms/step - loss: 0.2616 - accuracy: 0.8917 - val_loss: 0.2809 - val_accuracy: 0.8927 - lr: 0.0010\n",
            "Epoch 6/10\n",
            "159/159 [==============================] - 29s 184ms/step - loss: 0.2534 - accuracy: 0.8968 - val_loss: 0.2791 - val_accuracy: 0.8958 - lr: 0.0010\n",
            "Epoch 7/10\n",
            "159/159 [==============================] - 29s 182ms/step - loss: 0.2470 - accuracy: 0.8986 - val_loss: 0.2780 - val_accuracy: 0.8942 - lr: 0.0010\n",
            "Epoch 8/10\n",
            "159/159 [==============================] - 29s 182ms/step - loss: 0.2417 - accuracy: 0.9007 - val_loss: 0.2771 - val_accuracy: 0.8958 - lr: 0.0010\n",
            "Epoch 9/10\n",
            "159/159 [==============================] - 29s 182ms/step - loss: 0.2371 - accuracy: 0.9031 - val_loss: 0.2764 - val_accuracy: 0.8958 - lr: 0.0010\n",
            "Epoch 10/10\n",
            "159/159 [==============================] - 29s 184ms/step - loss: 0.2329 - accuracy: 0.9063 - val_loss: 0.2759 - val_accuracy: 0.8942 - lr: 0.0010\n"
          ]
        }
      ]
    },
    {
      "cell_type": "code",
      "metadata": {
        "id": "Rw3XIzydd9mJ",
        "colab": {
          "base_uri": "https://localhost:8080/"
        },
        "outputId": "05bf04fe-9707-43d7-dd25-15036f14d3f8"
      },
      "source": [
        "model_8_pred = model_8.predict(val_news)\n",
        "model_8_pred = tf.squeeze(tf.round(model_8_pred))\n",
        "model_8_result = calculate_result(val_label, model_8_pred)\n",
        "model_8_result"
      ],
      "execution_count": 90,
      "outputs": [
        {
          "output_type": "execute_result",
          "data": {
            "text/plain": [
              "{'accurecy': 0.8942383583267561,\n",
              " 'f1-score': 0.8941675334392788,\n",
              " 'precision': 0.8943829385818337,\n",
              " 'recall': 0.8942383583267561}"
            ]
          },
          "metadata": {},
          "execution_count": 90
        }
      ]
    },
    {
      "cell_type": "code",
      "metadata": {
        "id": "E0KpbUZ5eEDq",
        "colab": {
          "base_uri": "https://localhost:8080/",
          "height": 573
        },
        "outputId": "23da23d6-f388-453b-a4e2-a4e87a34e196"
      },
      "source": [
        "plot_loss_curves(history_8)"
      ],
      "execution_count": 91,
      "outputs": [
        {
          "output_type": "display_data",
          "data": {
            "image/png": "[encoded data removed]",
            "text/plain": [
              "<Figure size 432x288 with 1 Axes>"
            ]
          },
          "metadata": {
            "needs_background": "light"
          }
        },
        {
          "output_type": "display_data",
          "data": {
            "image/png": "[encoded data removed]",
            "text/plain": [
              "<Figure size 432x288 with 1 Axes>"
            ]
          },
          "metadata": {
            "needs_background": "light"
          }
        }
      ]
    },
    {
      "cell_type": "markdown",
      "metadata": {
        "id": "FEMWNGdJfIzs"
      },
      "source": [
        "#Comparing all Models results"
      ]
    },
    {
      "cell_type": "code",
      "metadata": {
        "id": "m6XmPteDeH33"
      },
      "source": [
        "all_model_results = pd.DataFrame({\n",
        "    '0_NaiveBse_Model': model_0_result,\n",
        "    '1_simple_dense': model_1_result,\n",
        "    '2_LSTM': model_2_result,\n",
        "    '3_GRU_1': model_4_result,\n",
        "    '4_GRU_2': model_5_result,\n",
        "    '5_bidirectional': model_6_result,\n",
        "    '6_conv1D': model_7_result,\n",
        "    'tf_hub_encoder': model_8_result,\n",
        "})"
      ],
      "execution_count": 92,
      "outputs": []
    },
    {
      "cell_type": "code",
      "metadata": {
        "id": "ZX5D-3KqfwI8",
        "colab": {
          "base_uri": "https://localhost:8080/",
          "height": 300
        },
        "outputId": "0b7e492d-529b-4bc2-d798-dd4a9a0b0ccb"
      },
      "source": [
        "all_model_results = all_model_results.transpose()\n",
        "all_model_results"
      ],
      "execution_count": 93,
      "outputs": [
        {
          "output_type": "execute_result",
          "data": {
            "text/html": [
              "\n",
              "  <div id=\"df-39b6ce29-d553-4538-a512-758ecb7f3a37\">\n",
              "    <div class=\"colab-df-container\">\n",
              "      <div>\n",
              "<style scoped>\n",
              "    .dataframe tbody tr th:only-of-type {\n",
              "        vertical-align: middle;\n",
              "    }\n",
              "\n",
              "    .dataframe tbody tr th {\n",
              "        vertical-align: top;\n",
              "    }\n",
              "\n",
              "    .dataframe thead th {\n",
              "        text-align: right;\n",
              "    }\n",
              "</style>\n",
              "<table border=\"1\" class=\"dataframe\">\n",
              "  <thead>\n",
              "    <tr style=\"text-align: right;\">\n",
              "      <th></th>\n",
              "      <th>accurecy</th>\n",
              "      <th>precision</th>\n",
              "      <th>recall</th>\n",
              "      <th>f1-score</th>\n",
              "    </tr>\n",
              "  </thead>\n",
              "  <tbody>\n",
              "    <tr>\n",
              "      <th>0_NaiveBse_Model</th>\n",
              "      <td>0.773481</td>\n",
              "      <td>0.832729</td>\n",
              "      <td>0.773481</td>\n",
              "      <td>0.765386</td>\n",
              "    </tr>\n",
              "    <tr>\n",
              "      <th>1_simple_dense</th>\n",
              "      <td>0.921073</td>\n",
              "      <td>0.921349</td>\n",
              "      <td>0.921073</td>\n",
              "      <td>0.921099</td>\n",
              "    </tr>\n",
              "    <tr>\n",
              "      <th>2_LSTM</th>\n",
              "      <td>0.761642</td>\n",
              "      <td>0.814416</td>\n",
              "      <td>0.761642</td>\n",
              "      <td>0.753784</td>\n",
              "    </tr>\n",
              "    <tr>\n",
              "      <th>3_GRU_1</th>\n",
              "      <td>0.916338</td>\n",
              "      <td>0.916905</td>\n",
              "      <td>0.916338</td>\n",
              "      <td>0.916233</td>\n",
              "    </tr>\n",
              "    <tr>\n",
              "      <th>4_GRU_2</th>\n",
              "      <td>0.869771</td>\n",
              "      <td>0.872594</td>\n",
              "      <td>0.869771</td>\n",
              "      <td>0.869771</td>\n",
              "    </tr>\n",
              "    <tr>\n",
              "      <th>5_bidirectional</th>\n",
              "      <td>0.936069</td>\n",
              "      <td>0.936066</td>\n",
              "      <td>0.936069</td>\n",
              "      <td>0.936067</td>\n",
              "    </tr>\n",
              "    <tr>\n",
              "      <th>6_conv1D</th>\n",
              "      <td>0.924230</td>\n",
              "      <td>0.924727</td>\n",
              "      <td>0.924230</td>\n",
              "      <td>0.924145</td>\n",
              "    </tr>\n",
              "    <tr>\n",
              "      <th>tf_hub_encoder</th>\n",
              "      <td>0.894238</td>\n",
              "      <td>0.894383</td>\n",
              "      <td>0.894238</td>\n",
              "      <td>0.894168</td>\n",
              "    </tr>\n",
              "  </tbody>\n",
              "</table>\n",
              "</div>\n",
              "      <button class=\"colab-df-convert\" onclick=\"convertToInteractive('df-39b6ce29-d553-4538-a512-758ecb7f3a37')\"\n",
              "              title=\"Convert this dataframe to an interactive table.\"\n",
              "              style=\"display:none;\">\n",
              "        \n",
              "  <svg xmlns=\"http://www.w3.org/2000/svg\" height=\"24px\"viewBox=\"0 0 24 24\"\n",
              "       width=\"24px\">\n",
              "    <path d=\"M0 0h24v24H0V0z\" fill=\"none\"/>\n",
              "    <path d=\"M18.56 5.44l.94 2.06.94-2.06 2.06-.94-2.06-.94-.94-2.06-.94 2.06-2.06.94zm-11 1L8.5 8.5l.94-2.06 2.06-.94-2.06-.94L8.5 2.5l-.94 2.06-2.06.94zm10 10l.94 2.06.94-2.06 2.06-.94-2.06-.94-.94-2.06-.94 2.06-2.06.94z\"/><path d=\"M17.41 7.96l-1.37-1.37c-.4-.4-.92-.59-1.43-.59-.52 0-1.04.2-1.43.59L10.3 9.45l-7.72 7.72c-.78.78-.78 2.05 0 2.83L4 21.41c.39.39.9.59 1.41.59.51 0 1.02-.2 1.41-.59l7.78-7.78 2.81-2.81c.8-.78.8-2.07 0-2.86zM5.41 20L4 18.59l7.72-7.72 1.47 1.35L5.41 20z\"/>\n",
              "  </svg>\n",
              "      </button>\n",
              "      \n",
              "  <style>\n",
              "    .colab-df-container {\n",
              "      display:flex;\n",
              "      flex-wrap:wrap;\n",
              "      gap: 12px;\n",
              "    }\n",
              "\n",
              "    .colab-df-convert {\n",
              "      background-color: #E8F0FE;\n",
              "      border: none;\n",
              "      border-radius: 50%;\n",
              "      cursor: pointer;\n",
              "      display: none;\n",
              "      fill: #1967D2;\n",
              "      height: 32px;\n",
              "      padding: 0 0 0 0;\n",
              "      width: 32px;\n",
              "    }\n",
              "\n",
              "    .colab-df-convert:hover {\n",
              "      background-color: #E2EBFA;\n",
              "      box-shadow: 0px 1px 2px rgba(60, 64, 67, 0.3), 0px 1px 3px 1px rgba(60, 64, 67, 0.15);\n",
              "      fill: #174EA6;\n",
              "    }\n",
              "\n",
              "    [theme=dark] .colab-df-convert {\n",
              "      background-color: #3B4455;\n",
              "      fill: #D2E3FC;\n",
              "    }\n",
              "\n",
              "    [theme=dark] .colab-df-convert:hover {\n",
              "      background-color: #434B5C;\n",
              "      box-shadow: 0px 1px 3px 1px rgba(0, 0, 0, 0.15);\n",
              "      filter: drop-shadow(0px 1px 2px rgba(0, 0, 0, 0.3));\n",
              "      fill: #FFFFFF;\n",
              "    }\n",
              "  </style>\n",
              "\n",
              "      <script>\n",
              "        const buttonEl =\n",
              "          document.querySelector('#df-39b6ce29-d553-4538-a512-758ecb7f3a37 button.colab-df-convert');\n",
              "        buttonEl.style.display =\n",
              "          google.colab.kernel.accessAllowed ? 'block' : 'none';\n",
              "\n",
              "        async function convertToInteractive(key) {\n",
              "          const element = document.querySelector('#df-39b6ce29-d553-4538-a512-758ecb7f3a37');\n",
              "          const dataTable =\n",
              "            await google.colab.kernel.invokeFunction('convertToInteractive',\n",
              "                                                     [key], {});\n",
              "          if (!dataTable) return;\n",
              "\n",
              "          const docLinkHtml = 'Like what you see? Visit the ' +\n",
              "            '<a target=\"_blank\" href=https://colab.research.google.com/notebooks/data_table.ipynb>data table notebook</a>'\n",
              "            + ' to learn more about interactive tables.';\n",
              "          element.innerHTML = '';\n",
              "          dataTable['output_type'] = 'display_data';\n",
              "          await google.colab.output.renderOutput(dataTable, element);\n",
              "          const docLink = document.createElement('div');\n",
              "          docLink.innerHTML = docLinkHtml;\n",
              "          element.appendChild(docLink);\n",
              "        }\n",
              "      </script>\n",
              "    </div>\n",
              "  </div>\n",
              "  "
            ],
            "text/plain": [
              "                  accurecy  precision    recall  f1-score\n",
              "0_NaiveBse_Model  0.773481   0.832729  0.773481  0.765386\n",
              "1_simple_dense    0.921073   0.921349  0.921073  0.921099\n",
              "2_LSTM            0.761642   0.814416  0.761642  0.753784\n",
              "3_GRU_1           0.916338   0.916905  0.916338  0.916233\n",
              "4_GRU_2           0.869771   0.872594  0.869771  0.869771\n",
              "5_bidirectional   0.936069   0.936066  0.936069  0.936067\n",
              "6_conv1D          0.924230   0.924727  0.924230  0.924145\n",
              "tf_hub_encoder    0.894238   0.894383  0.894238  0.894168"
            ]
          },
          "metadata": {},
          "execution_count": 93
        }
      ]
    },
    {
      "cell_type": "code",
      "metadata": {
        "id": "cM520JdZf7_G",
        "colab": {
          "base_uri": "https://localhost:8080/",
          "height": 511
        },
        "outputId": "57c87cac-3ee4-4247-9a31-f629bcd832b9"
      },
      "source": [
        "all_model_results.plot(kind='bar', figsize=(10, 7)).legend(bbox_to_anchor=(1.0,1.0));"
      ],
      "execution_count": 94,
      "outputs": [
        {
          "output_type": "display_data",
          "data": {
            "image/png": "[encoded data removed]",
            "text/plain": [
              "<Figure size 720x504 with 1 Axes>"
            ]
          },
          "metadata": {
            "needs_background": "light"
          }
        }
      ]
    },
    {
      "cell_type": "code",
      "metadata": {
        "id": "1DQC25NJgM8g",
        "colab": {
          "base_uri": "https://localhost:8080/",
          "height": 527
        },
        "outputId": "2ffd2a81-ac07-4e06-c05f-058d54dd9a30"
      },
      "source": [
        "all_model_results.sort_values('f1-score', ascending=False)['f1-score'].plot(kind='bar', figsize=(10, 7))\n",
        "plt.title('F1-Score Plot');"
      ],
      "execution_count": 95,
      "outputs": [
        {
          "output_type": "display_data",
          "data": {
            "image/png": "[encoded data removed]",
            "text/plain": [
              "<Figure size 720x504 with 1 Axes>"
            ]
          },
          "metadata": {
            "needs_background": "light"
          }
        }
      ]
    },
    {
      "cell_type": "code",
      "metadata": {
        "id": "A8lAIKSqgR5s",
        "colab": {
          "base_uri": "https://localhost:8080/",
          "height": 527
        },
        "outputId": "9d56db8e-7364-4b8f-ccf2-252a8d5a3099"
      },
      "source": [
        "all_model_results.sort_values('accurecy', ascending=False)['accurecy'].plot(kind='bar', figsize=(10, 7))\n",
        "plt.title('Accuracy plot');"
      ],
      "execution_count": 96,
      "outputs": [
        {
          "output_type": "display_data",
          "data": {
            "image/png": "[encoded data removed]",
            "text/plain": [
              "<Figure size 720x504 with 1 Axes>"
            ]
          },
          "metadata": {
            "needs_background": "light"
          }
        }
      ]
    },
    {
      "cell_type": "code",
      "metadata": {
        "id": "h6_xNYkQgXAZ"
      },
      "source": [
        "all_model_results.to_csv('Model_Results.csv', index=False)"
      ],
      "execution_count": 97,
      "outputs": []
    }
  ]
}