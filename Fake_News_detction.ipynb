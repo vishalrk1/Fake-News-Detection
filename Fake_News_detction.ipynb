{
  "nbformat": 4,
  "nbformat_minor": 0,
  "metadata": {
    "colab": {
      "name": "Fake_News_detction.ipynb",
      "provenance": [],
      "collapsed_sections": [],
      "toc_visible": true
    },
    "kernelspec": {
      "name": "python3",
      "display_name": "Python 3"
    },
    "language_info": {
      "name": "python"
    },
    "accelerator": "GPU"
  },
  "cells": [
    {
      "cell_type": "code",
      "metadata": {
        "colab": {
          "base_uri": "https://localhost:8080/"
        },
        "id": "0wr0cYs8bDfj",
        "outputId": "8f7e3c58-a7f7-4b82-f25c-bf8a7c00b9a0"
      },
      "source": [
        "from google.colab import drive\n",
        "drive.mount('/content/drive')"
      ],
      "execution_count": null,
      "outputs": [
        {
          "output_type": "stream",
          "name": "stdout",
          "text": [
            "Drive already mounted at /content/drive; to attempt to forcibly remount, call drive.mount(\"/content/drive\", force_remount=True).\n"
          ]
        }
      ]
    },
    {
      "cell_type": "code",
      "metadata": {
        "id": "z58YNBClyVcw"
      },
      "source": [
        "import pandas as pd\n",
        "import numpy as np\n",
        "import matplotlib.pyplot as plt\n",
        "import seaborn as sns\n",
        "\n",
        "import tensorflow as tf\n",
        "from tensorflow import keras\n",
        "from tensorflow.keras import layers\n",
        "from tensorflow.keras.layers import Dense, Activation\n",
        "from tensorflow.keras.optimizers import Adam, SGD"
      ],
      "execution_count": null,
      "outputs": []
    },
    {
      "cell_type": "code",
      "metadata": {
        "id": "k7T356KQybhU"
      },
      "source": [
        "train_df = pd.read_csv('/content/drive/MyDrive/Datasets/news.csv')"
      ],
      "execution_count": null,
      "outputs": []
    },
    {
      "cell_type": "code",
      "metadata": {
        "id": "TYQsHlS7ymYC",
        "colab": {
          "base_uri": "https://localhost:8080/",
          "height": 204
        },
        "outputId": "119bdeef-2b07-44c4-c35f-b4073e9b1636"
      },
      "source": [
        "train_df.head()"
      ],
      "execution_count": null,
      "outputs": [
        {
          "output_type": "execute_result",
          "data": {
            "text/html": [
              "<div>\n",
              "<style scoped>\n",
              "    .dataframe tbody tr th:only-of-type {\n",
              "        vertical-align: middle;\n",
              "    }\n",
              "\n",
              "    .dataframe tbody tr th {\n",
              "        vertical-align: top;\n",
              "    }\n",
              "\n",
              "    .dataframe thead th {\n",
              "        text-align: right;\n",
              "    }\n",
              "</style>\n",
              "<table border=\"1\" class=\"dataframe\">\n",
              "  <thead>\n",
              "    <tr style=\"text-align: right;\">\n",
              "      <th></th>\n",
              "      <th>Unnamed: 0</th>\n",
              "      <th>title</th>\n",
              "      <th>text</th>\n",
              "      <th>label</th>\n",
              "    </tr>\n",
              "  </thead>\n",
              "  <tbody>\n",
              "    <tr>\n",
              "      <th>0</th>\n",
              "      <td>8476</td>\n",
              "      <td>You Can Smell Hillary’s Fear</td>\n",
              "      <td>Daniel Greenfield, a Shillman Journalism Fello...</td>\n",
              "      <td>FAKE</td>\n",
              "    </tr>\n",
              "    <tr>\n",
              "      <th>1</th>\n",
              "      <td>10294</td>\n",
              "      <td>Watch The Exact Moment Paul Ryan Committed Pol...</td>\n",
              "      <td>Google Pinterest Digg Linkedin Reddit Stumbleu...</td>\n",
              "      <td>FAKE</td>\n",
              "    </tr>\n",
              "    <tr>\n",
              "      <th>2</th>\n",
              "      <td>3608</td>\n",
              "      <td>Kerry to go to Paris in gesture of sympathy</td>\n",
              "      <td>U.S. Secretary of State John F. Kerry said Mon...</td>\n",
              "      <td>REAL</td>\n",
              "    </tr>\n",
              "    <tr>\n",
              "      <th>3</th>\n",
              "      <td>10142</td>\n",
              "      <td>Bernie supporters on Twitter erupt in anger ag...</td>\n",
              "      <td>— Kaydee King (@KaydeeKing) November 9, 2016 T...</td>\n",
              "      <td>FAKE</td>\n",
              "    </tr>\n",
              "    <tr>\n",
              "      <th>4</th>\n",
              "      <td>875</td>\n",
              "      <td>The Battle of New York: Why This Primary Matters</td>\n",
              "      <td>It's primary day in New York and front-runners...</td>\n",
              "      <td>REAL</td>\n",
              "    </tr>\n",
              "  </tbody>\n",
              "</table>\n",
              "</div>"
            ],
            "text/plain": [
              "   Unnamed: 0  ... label\n",
              "0        8476  ...  FAKE\n",
              "1       10294  ...  FAKE\n",
              "2        3608  ...  REAL\n",
              "3       10142  ...  FAKE\n",
              "4         875  ...  REAL\n",
              "\n",
              "[5 rows x 4 columns]"
            ]
          },
          "metadata": {},
          "execution_count": 18
        }
      ]
    },
    {
      "cell_type": "markdown",
      "metadata": {
        "id": "OTd6SMkO6pUc"
      },
      "source": [
        "#EDA"
      ]
    },
    {
      "cell_type": "code",
      "metadata": {
        "colab": {
          "base_uri": "https://localhost:8080/"
        },
        "id": "OC8IOh5O6k9v",
        "outputId": "4b4d71c0-74e6-408e-ed24-c571adf08c33"
      },
      "source": [
        "train_df.info()"
      ],
      "execution_count": null,
      "outputs": [
        {
          "output_type": "stream",
          "name": "stdout",
          "text": [
            "<class 'pandas.core.frame.DataFrame'>\n",
            "RangeIndex: 6335 entries, 0 to 6334\n",
            "Data columns (total 4 columns):\n",
            " #   Column      Non-Null Count  Dtype \n",
            "---  ------      --------------  ----- \n",
            " 0   Unnamed: 0  6335 non-null   int64 \n",
            " 1   title       6335 non-null   object\n",
            " 2   text        6335 non-null   object\n",
            " 3   label       6335 non-null   object\n",
            "dtypes: int64(1), object(3)\n",
            "memory usage: 198.1+ KB\n"
          ]
        }
      ]
    },
    {
      "cell_type": "code",
      "metadata": {
        "colab": {
          "base_uri": "https://localhost:8080/"
        },
        "id": "mGkEoguU6q7i",
        "outputId": "c8e87e67-a43a-49e0-b9dc-fe88800ef899"
      },
      "source": [
        "train_df['label'].value_counts()"
      ],
      "execution_count": null,
      "outputs": [
        {
          "output_type": "execute_result",
          "data": {
            "text/plain": [
              "REAL    3171\n",
              "FAKE    3164\n",
              "Name: label, dtype: int64"
            ]
          },
          "metadata": {},
          "execution_count": 20
        }
      ]
    },
    {
      "cell_type": "code",
      "metadata": {
        "colab": {
          "base_uri": "https://localhost:8080/",
          "height": 204
        },
        "id": "EQB9PxR_bUbs",
        "outputId": "fa7b02fd-4f92-4a30-a86d-6faac33744f2"
      },
      "source": [
        "train_df['label'] = train_df['label'].map({'FAKE':0, 'REAL':1})\n",
        "train_df.head()"
      ],
      "execution_count": null,
      "outputs": [
        {
          "output_type": "execute_result",
          "data": {
            "text/html": [
              "<div>\n",
              "<style scoped>\n",
              "    .dataframe tbody tr th:only-of-type {\n",
              "        vertical-align: middle;\n",
              "    }\n",
              "\n",
              "    .dataframe tbody tr th {\n",
              "        vertical-align: top;\n",
              "    }\n",
              "\n",
              "    .dataframe thead th {\n",
              "        text-align: right;\n",
              "    }\n",
              "</style>\n",
              "<table border=\"1\" class=\"dataframe\">\n",
              "  <thead>\n",
              "    <tr style=\"text-align: right;\">\n",
              "      <th></th>\n",
              "      <th>Unnamed: 0</th>\n",
              "      <th>title</th>\n",
              "      <th>text</th>\n",
              "      <th>label</th>\n",
              "    </tr>\n",
              "  </thead>\n",
              "  <tbody>\n",
              "    <tr>\n",
              "      <th>0</th>\n",
              "      <td>8476</td>\n",
              "      <td>You Can Smell Hillary’s Fear</td>\n",
              "      <td>Daniel Greenfield, a Shillman Journalism Fello...</td>\n",
              "      <td>0</td>\n",
              "    </tr>\n",
              "    <tr>\n",
              "      <th>1</th>\n",
              "      <td>10294</td>\n",
              "      <td>Watch The Exact Moment Paul Ryan Committed Pol...</td>\n",
              "      <td>Google Pinterest Digg Linkedin Reddit Stumbleu...</td>\n",
              "      <td>0</td>\n",
              "    </tr>\n",
              "    <tr>\n",
              "      <th>2</th>\n",
              "      <td>3608</td>\n",
              "      <td>Kerry to go to Paris in gesture of sympathy</td>\n",
              "      <td>U.S. Secretary of State John F. Kerry said Mon...</td>\n",
              "      <td>1</td>\n",
              "    </tr>\n",
              "    <tr>\n",
              "      <th>3</th>\n",
              "      <td>10142</td>\n",
              "      <td>Bernie supporters on Twitter erupt in anger ag...</td>\n",
              "      <td>— Kaydee King (@KaydeeKing) November 9, 2016 T...</td>\n",
              "      <td>0</td>\n",
              "    </tr>\n",
              "    <tr>\n",
              "      <th>4</th>\n",
              "      <td>875</td>\n",
              "      <td>The Battle of New York: Why This Primary Matters</td>\n",
              "      <td>It's primary day in New York and front-runners...</td>\n",
              "      <td>1</td>\n",
              "    </tr>\n",
              "  </tbody>\n",
              "</table>\n",
              "</div>"
            ],
            "text/plain": [
              "   Unnamed: 0  ... label\n",
              "0        8476  ...     0\n",
              "1       10294  ...     0\n",
              "2        3608  ...     1\n",
              "3       10142  ...     0\n",
              "4         875  ...     1\n",
              "\n",
              "[5 rows x 4 columns]"
            ]
          },
          "metadata": {},
          "execution_count": 21
        }
      ]
    },
    {
      "cell_type": "code",
      "metadata": {
        "colab": {
          "base_uri": "https://localhost:8080/",
          "height": 297
        },
        "id": "8Uh4oOkV6t1z",
        "outputId": "f195e27e-793c-4ac7-e8e2-0680bc8b56db"
      },
      "source": [
        "sns.countplot(x=\"label\", data=train_df)"
      ],
      "execution_count": null,
      "outputs": [
        {
          "output_type": "execute_result",
          "data": {
            "text/plain": [
              "<matplotlib.axes._subplots.AxesSubplot at 0x7f1242361210>"
            ]
          },
          "metadata": {},
          "execution_count": 22
        },
        {
          "output_type": "display_data",
          "data": {
            "image/png": "[encoded data removed]",
            "text/plain": [
              "<Figure size 432x288 with 1 Axes>"
            ]
          },
          "metadata": {
            "needs_background": "light"
          }
        }
      ]
    },
    {
      "cell_type": "code",
      "metadata": {
        "colab": {
          "base_uri": "https://localhost:8080/",
          "height": 418
        },
        "id": "vR4zrsfK6zv4",
        "outputId": "d5959b18-eb96-47f9-bbcf-2c4ada42dfa1"
      },
      "source": [
        "train_df = train_df.drop('Unnamed: 0', axis=1)\n",
        "train_df"
      ],
      "execution_count": null,
      "outputs": [
        {
          "output_type": "execute_result",
          "data": {
            "text/html": [
              "<div>\n",
              "<style scoped>\n",
              "    .dataframe tbody tr th:only-of-type {\n",
              "        vertical-align: middle;\n",
              "    }\n",
              "\n",
              "    .dataframe tbody tr th {\n",
              "        vertical-align: top;\n",
              "    }\n",
              "\n",
              "    .dataframe thead th {\n",
              "        text-align: right;\n",
              "    }\n",
              "</style>\n",
              "<table border=\"1\" class=\"dataframe\">\n",
              "  <thead>\n",
              "    <tr style=\"text-align: right;\">\n",
              "      <th></th>\n",
              "      <th>title</th>\n",
              "      <th>text</th>\n",
              "      <th>label</th>\n",
              "    </tr>\n",
              "  </thead>\n",
              "  <tbody>\n",
              "    <tr>\n",
              "      <th>0</th>\n",
              "      <td>You Can Smell Hillary’s Fear</td>\n",
              "      <td>Daniel Greenfield, a Shillman Journalism Fello...</td>\n",
              "      <td>0</td>\n",
              "    </tr>\n",
              "    <tr>\n",
              "      <th>1</th>\n",
              "      <td>Watch The Exact Moment Paul Ryan Committed Pol...</td>\n",
              "      <td>Google Pinterest Digg Linkedin Reddit Stumbleu...</td>\n",
              "      <td>0</td>\n",
              "    </tr>\n",
              "    <tr>\n",
              "      <th>2</th>\n",
              "      <td>Kerry to go to Paris in gesture of sympathy</td>\n",
              "      <td>U.S. Secretary of State John F. Kerry said Mon...</td>\n",
              "      <td>1</td>\n",
              "    </tr>\n",
              "    <tr>\n",
              "      <th>3</th>\n",
              "      <td>Bernie supporters on Twitter erupt in anger ag...</td>\n",
              "      <td>— Kaydee King (@KaydeeKing) November 9, 2016 T...</td>\n",
              "      <td>0</td>\n",
              "    </tr>\n",
              "    <tr>\n",
              "      <th>4</th>\n",
              "      <td>The Battle of New York: Why This Primary Matters</td>\n",
              "      <td>It's primary day in New York and front-runners...</td>\n",
              "      <td>1</td>\n",
              "    </tr>\n",
              "    <tr>\n",
              "      <th>...</th>\n",
              "      <td>...</td>\n",
              "      <td>...</td>\n",
              "      <td>...</td>\n",
              "    </tr>\n",
              "    <tr>\n",
              "      <th>6330</th>\n",
              "      <td>State Department says it can't find emails fro...</td>\n",
              "      <td>The State Department told the Republican Natio...</td>\n",
              "      <td>1</td>\n",
              "    </tr>\n",
              "    <tr>\n",
              "      <th>6331</th>\n",
              "      <td>The ‘P’ in PBS Should Stand for ‘Plutocratic’ ...</td>\n",
              "      <td>The ‘P’ in PBS Should Stand for ‘Plutocratic’ ...</td>\n",
              "      <td>0</td>\n",
              "    </tr>\n",
              "    <tr>\n",
              "      <th>6332</th>\n",
              "      <td>Anti-Trump Protesters Are Tools of the Oligarc...</td>\n",
              "      <td>Anti-Trump Protesters Are Tools of the Oligar...</td>\n",
              "      <td>0</td>\n",
              "    </tr>\n",
              "    <tr>\n",
              "      <th>6333</th>\n",
              "      <td>In Ethiopia, Obama seeks progress on peace, se...</td>\n",
              "      <td>ADDIS ABABA, Ethiopia —President Obama convene...</td>\n",
              "      <td>1</td>\n",
              "    </tr>\n",
              "    <tr>\n",
              "      <th>6334</th>\n",
              "      <td>Jeb Bush Is Suddenly Attacking Trump. Here's W...</td>\n",
              "      <td>Jeb Bush Is Suddenly Attacking Trump. Here's W...</td>\n",
              "      <td>1</td>\n",
              "    </tr>\n",
              "  </tbody>\n",
              "</table>\n",
              "<p>6335 rows × 3 columns</p>\n",
              "</div>"
            ],
            "text/plain": [
              "                                                  title  ... label\n",
              "0                          You Can Smell Hillary’s Fear  ...     0\n",
              "1     Watch The Exact Moment Paul Ryan Committed Pol...  ...     0\n",
              "2           Kerry to go to Paris in gesture of sympathy  ...     1\n",
              "3     Bernie supporters on Twitter erupt in anger ag...  ...     0\n",
              "4      The Battle of New York: Why This Primary Matters  ...     1\n",
              "...                                                 ...  ...   ...\n",
              "6330  State Department says it can't find emails fro...  ...     1\n",
              "6331  The ‘P’ in PBS Should Stand for ‘Plutocratic’ ...  ...     0\n",
              "6332  Anti-Trump Protesters Are Tools of the Oligarc...  ...     0\n",
              "6333  In Ethiopia, Obama seeks progress on peace, se...  ...     1\n",
              "6334  Jeb Bush Is Suddenly Attacking Trump. Here's W...  ...     1\n",
              "\n",
              "[6335 rows x 3 columns]"
            ]
          },
          "metadata": {},
          "execution_count": 23
        }
      ]
    },
    {
      "cell_type": "markdown",
      "metadata": {
        "id": "uxINbI5kbi22"
      },
      "source": [
        "**So For this project we are only using text column of given dataset***"
      ]
    },
    {
      "cell_type": "code",
      "metadata": {
        "id": "A3yRB0gn7AS7"
      },
      "source": [
        "# shuffeling train data\n",
        "train_df_shuffled = train_df.sample(frac=1, random_state=42)"
      ],
      "execution_count": null,
      "outputs": []
    },
    {
      "cell_type": "code",
      "metadata": {
        "colab": {
          "base_uri": "https://localhost:8080/",
          "height": 204
        },
        "id": "7OXZS3s4bs8v",
        "outputId": "53a3310d-334f-402c-9c58-3ca1d0b20849"
      },
      "source": [
        "train_df_shuffled.head()"
      ],
      "execution_count": null,
      "outputs": [
        {
          "output_type": "execute_result",
          "data": {
            "text/html": [
              "<div>\n",
              "<style scoped>\n",
              "    .dataframe tbody tr th:only-of-type {\n",
              "        vertical-align: middle;\n",
              "    }\n",
              "\n",
              "    .dataframe tbody tr th {\n",
              "        vertical-align: top;\n",
              "    }\n",
              "\n",
              "    .dataframe thead th {\n",
              "        text-align: right;\n",
              "    }\n",
              "</style>\n",
              "<table border=\"1\" class=\"dataframe\">\n",
              "  <thead>\n",
              "    <tr style=\"text-align: right;\">\n",
              "      <th></th>\n",
              "      <th>title</th>\n",
              "      <th>text</th>\n",
              "      <th>label</th>\n",
              "    </tr>\n",
              "  </thead>\n",
              "  <tbody>\n",
              "    <tr>\n",
              "      <th>1357</th>\n",
              "      <td>American Dream, Revisited</td>\n",
              "      <td>Will Trump pull a Brexit times ten? What would...</td>\n",
              "      <td>0</td>\n",
              "    </tr>\n",
              "    <tr>\n",
              "      <th>2080</th>\n",
              "      <td>Clintons Are Under Multiple FBI Investigations...</td>\n",
              "      <td>Clintons Are Under Multiple FBI Investigations...</td>\n",
              "      <td>0</td>\n",
              "    </tr>\n",
              "    <tr>\n",
              "      <th>2718</th>\n",
              "      <td>The FBI Can’t Actually Investigate a Candidate...</td>\n",
              "      <td>Dispatches from Eric Zuesse This piece is cros...</td>\n",
              "      <td>0</td>\n",
              "    </tr>\n",
              "    <tr>\n",
              "      <th>812</th>\n",
              "      <td>Confirmed: Public overwhelmingly (10-to-1) say...</td>\n",
              "      <td>Print \\n[Ed. – Every now and then the facade c...</td>\n",
              "      <td>0</td>\n",
              "    </tr>\n",
              "    <tr>\n",
              "      <th>4886</th>\n",
              "      <td>Nanny In Jail After Force Feeding Baby To Death</td>\n",
              "      <td>Nanny In Jail After Force Feeding Baby To Deat...</td>\n",
              "      <td>0</td>\n",
              "    </tr>\n",
              "  </tbody>\n",
              "</table>\n",
              "</div>"
            ],
            "text/plain": [
              "                                                  title  ... label\n",
              "1357                          American Dream, Revisited  ...     0\n",
              "2080  Clintons Are Under Multiple FBI Investigations...  ...     0\n",
              "2718  The FBI Can’t Actually Investigate a Candidate...  ...     0\n",
              "812   Confirmed: Public overwhelmingly (10-to-1) say...  ...     0\n",
              "4886    Nanny In Jail After Force Feeding Baby To Death  ...     0\n",
              "\n",
              "[5 rows x 3 columns]"
            ]
          },
          "metadata": {},
          "execution_count": 25
        }
      ]
    },
    {
      "cell_type": "code",
      "metadata": {
        "colab": {
          "base_uri": "https://localhost:8080/"
        },
        "id": "Zfux0LrangJu",
        "outputId": "de11f435-eabe-450c-d5dd-14916e118323"
      },
      "source": [
        "train_df_shuffled.isnull().sum()"
      ],
      "execution_count": null,
      "outputs": [
        {
          "output_type": "execute_result",
          "data": {
            "text/plain": [
              "title    0\n",
              "text     0\n",
              "label    0\n",
              "dtype: int64"
            ]
          },
          "metadata": {},
          "execution_count": 26
        }
      ]
    },
    {
      "cell_type": "markdown",
      "metadata": {
        "id": "VNhbRsBO7Cek"
      },
      "source": [
        "##Printing Some ranf=dom news samples"
      ]
    },
    {
      "cell_type": "code",
      "metadata": {
        "colab": {
          "base_uri": "https://localhost:8080/"
        },
        "id": "Y_IsWYi97As6",
        "outputId": "677316b2-d060-40fb-ac8c-95b1fe08aed8"
      },
      "source": [
        "import random\n",
        "random_index = random.randint(0, len(train_df)-5)\n",
        "\n",
        "for row in train_df_shuffled[['text', 'label']][random_index:random_index+1].itertuples():\n",
        "  _, text, target = row\n",
        "  print(f\"Target: {target}\", '(Real News)' if target > 0 else '(Fake News)')\n",
        "  print(f\"News: {text}\")\n",
        "  print('---\\n')"
      ],
      "execution_count": null,
      "outputs": [
        {
          "output_type": "stream",
          "name": "stdout",
          "text": [
            "Target: 0 (Fake News)\n",
            "News: Home › POLITICS | US NEWS › CNBC: TRUMP WILL WIN THE ELECTION AND IS MORE POPULAR THAN OBAMA IN 2008, AI SYSTEM FINDS CNBC: TRUMP WILL WIN THE ELECTION AND IS MORE POPULAR THAN OBAMA IN 2008, AI SYSTEM FINDS 0 SHARES [10/28/16] An artificial intelligence (AI) system that correctly predicted the last three U.S. presidential elections puts Republican nominee Donald Trump ahead of Democrat rival Hillary Clinton in the race to the White House. MogIA was developed by Sanjiv Rai, the founder of Indian start-up Genic.ai. It takes in 20 million data points from public platforms including Google, Facebook, Twitter and YouTube in the U.S. and then analyzes the information to create predictions. \n",
            "The AI system was created in 2004, so it has been getting smarter all the time. It had already correctly predicted the results of the Democrat and Republican Primaries. \n",
            "Data such as engagement with tweets or Facebook Live videos have been taken into account. The result is that Trump has overtaken the engagement numbers of Barack Obama’s peak in 2008 – the year he came into power – by 25 percent. \n",
            "Rai said that his AI system shows that candidate in each election who had leading engagement data ended up winning the elections. \n",
            "“If Trump loses, it will defy the data trend for the first time in the last 12 years since Internet engagement began in full earnest,” Rai wrote in a report sent to CNBC. Post navigation\n",
            "---\n",
            "\n"
          ]
        }
      ]
    },
    {
      "cell_type": "markdown",
      "metadata": {
        "id": "tNxdwTTGcDRV"
      },
      "source": [
        "# Preprocessing Data"
      ]
    },
    {
      "cell_type": "code",
      "metadata": {
        "colab": {
          "base_uri": "https://localhost:8080/"
        },
        "id": "GwUiaKMzcDGF",
        "outputId": "b5f26c80-9bc0-4a27-f7bd-6218a536f950"
      },
      "source": [
        "# import my nlp helper script\n",
        "from nlp_helper import remove_html, remove_punctuation, remove_stopwords, lowercase_text, word_lemmatizer, word_stemmer\n",
        "\n",
        "import nltk\n",
        "from nltk.tokenize import RegexpTokenizer\n",
        "\n",
        "nltk.download('stopwords')\n",
        "nltk.download('wordnet')"
      ],
      "execution_count": null,
      "outputs": [
        {
          "output_type": "stream",
          "name": "stdout",
          "text": [
            "[nltk_data] Downloading package stopwords to /root/nltk_data...\n",
            "[nltk_data]   Unzipping corpora/stopwords.zip.\n",
            "[nltk_data] Downloading package stopwords to /root/nltk_data...\n",
            "[nltk_data]   Package stopwords is already up-to-date!\n",
            "[nltk_data] Downloading package wordnet to /root/nltk_data...\n",
            "[nltk_data]   Unzipping corpora/wordnet.zip.\n"
          ]
        },
        {
          "output_type": "execute_result",
          "data": {
            "text/plain": [
              "True"
            ]
          },
          "metadata": {},
          "execution_count": 28
        }
      ]
    },
    {
      "cell_type": "code",
      "metadata": {
        "colab": {
          "base_uri": "https://localhost:8080/",
          "height": 142
        },
        "id": "3ngaTea6cx3B",
        "outputId": "74ce732b-f587-49b2-d2cd-3a724ffa767f"
      },
      "source": [
        "text_data = train_df_shuffled['text'].tolist()\n",
        "text_data[0]"
      ],
      "execution_count": null,
      "outputs": [
        {
          "output_type": "execute_result",
          "data": {
            "application/vnd.google.colaboratory.intrinsic+json": {
              "type": "string"
            },
            "text/plain": [
              "'Will Trump pull a Brexit times ten? What would it take, beyond WikiLeaks, to bring the Clinton (cash) machine down? Will Hillary win and then declare WWIII against her Russia/Iran/Syria “axis of evil”? Will the Middle East totally explode? Will the pivot to Asia totally implode? Will China be ruling the world by 2025?\\nAmidst so many frenetic fragments of geopolitical reality precariously shored against our ruins, the temptation is irresistible to hark back to the late, great, deconstructionist master Jean Baudrillard. During the post-mod 1980s it was hip to be Baudrillardian to the core; his America, originally published in France in 1986, should still be read today as the definitive metaphysical/geological/cultural Instagram of Exceptionalistan.\\nBy the late 1990s, at the end of the millennium, two years before 9/11 – that seminal “before and after” event – Baudrillard was already stressing how we live in a black market maze. Now, it’s a black market paroxysm.\\nGlobal multitudes are subjected to a black market of work – as in the deregulation of the official market; a black market of unemployment; a black market of financial speculation; a black market of misery and poverty; a black market of sex (as in prostitution); a black market of information (as in espionage and shadow wars); a black market of weapons; and even a black market of thinking.\\nWay beyond the late 20th century, in the 2010s what the West praises as “liberal democracy” – actually a neoliberal diktat – has virtually absorbed every ideological divergence, while leaving behind a heap of differences floating in some sort of trompe l’oeil effect. What’s left is a widespread, noxious condition; the pre-emptive prohibition of any critical thought, which has no way to express itself other than becoming clandestine (or finding the right internet niche).\\nBaudrillard already knew that the concept of “alter” – killed by conviviality – does not exist in the official market. So an “alter” black market also sprung up, co-opted by traffickers; that’s, for instance, the realm of racism, nativism and other forms of exclusion. Baudrillard already identified how a “contraband alter”, expressed by sects and every form of nationalism (nowadays, think about the spectrum between jihadism and extreme-right wing political parties) was bound to become more virulent in a society that is desperately intolerant, obsessed with regimentation, and totally homogenized.\\nThere could be so much exhilaration inbuilt in life lived in a bewildering chimera cocktail of cultures, signs, differences and “values”; but then came the coupling of thinking with its exact IT replica – artificial intelligence, playing with the line of demarcation between human and non-human in the domain of thought.\\nThe result, previewed by Baudrillard, was the secretion of a parapolitical society – with a sort of mafia controlling this secret form of generalized corruption (think the financial Masters of the Universe). Power is unable to fight this mafia – and that would be, on top of it, hypocritical, because the mafia itself emanates from power.\\nThe end result is that what really matters today, anywhere, mostly tends to happen outside all official circuits; like in a social black market.\\nIs there any information “truth”?\\nBaudrillard showed how political economy is a massive machine, producing value, producing signs of wealth, but not wealth itself. The whole media/information system – still ruled by America – is a massive machine producing events as signs; exchangeable value in the universal market of ideology, the star system and catastrophism.\\nThis abstraction of information works as in the economy – disgorging a coded material, deciphered in advance, and negotiable in terms of models, as much as the economy disgorges products negotiable in terms of price and value.\\nSince all merchandise, thanks to this abstraction of value, is exchangeable, then every event (or non-event) is also exchangeable, all replacing one another in the cultural market of information.\\nAnd that takes us to where we live now; Trans-History, and Trans-Politics – where events have really not happened, as they get lost in the vacuum of information (as much as the economy gets lost in the vacuum of speculation).\\nThus this quintessential Baudrillard insight; if we consider History as a movie – and that’s what it is now – then the “truth” of information is no more than post-production synch, dubbing and subtitles.\\nStill, as we all keep an intense desire for devouring events, there is immense disappointment as well, because the content of information is desperately inferior to the means of broadcasting them. Call it a pathetic, universal contagion; people don’t know what to do about their sadness or enthusiasm – in parallel to our societies becoming theaters of the absurd where nothing has consequences.\\nNo acts, deeds, crimes (the 2008 financial crisis), political events (the WikiLeaks emails showing virtually no distinction between the “nonprofit” Clinton cash machine, what’s private and what’s public, the obsessive pursuit of personal wealth, and the affairs of the state)\\nseem to have real consequences.\\nImmunity, impunity, corruption, speculation – we veer towards a state of zero responsibility (think Goldman Sachs). So, automatically, we yearn for an event of maximum consequence, a “fatal” event to repair that scandalous non-equivalence. Like a symbolic re-equilibrium of the scales of destiny.\\nSo we dream of an amazing event – Trump winning the election? Hillary declaring WWIII? – that would free us from the tyranny of meaning and the constraint of always searching for the equivalence between effects and causes.\\nShadowing the world\\nJust like Baudrillard, I got to see “deep” America in the 1980s and 1990s by driving across America.\\nSo sooner or later one develops a metaphysical relationship with that ubiquitous warning, “Objects in this mirror may be closer than they appear.”\\nBut what if they may also be further than they appear?\\nThe contemporary instant event/celebrity culture deluge of images upon us; does it get us closer to a so-called “real” world that is in fact very far away from us? Or does it in fact keep the world at a distance – creating an artificial depth of field that protects us from the imminence of objects and the virtual danger they represent?\\nIn parallel, we keep slouching towards a single future language – the language of algorithms, as designed across the Wall Street/Silicon Valley axis – that would represent a real anthropological catastrophe, just like the globalist/New World Order dream of One Thought and One Culture.\\nLanguages are multiple and singular – by definition. If there were a single language, words would become univocal, regulating themselves in an autopilot of meaning. There would be no interplay – as in artificial languages there’s no interplay. Language would be just the meek appendix of a unified reality – the negative destiny of a languidly unified human species.\\nThat’s where the American “dream” seems to be heading. It’s time to take the next exit ramp.\\nThis piece first appeared Strategic-Culture .\\n Pepe Escobar is the author of Globalistan: How the Globalized World is Dissolving into Liquid War (Nimble Books, 2007), Red Zone Blues: a snapshot of Baghdad during the surge and Obama does Globalistan (Nimble Books, 2009). His latest book is Empire of Chaos . He may be reached at pepeasia@yahoo.com .'"
            ]
          },
          "metadata": {},
          "execution_count": 29
        }
      ]
    },
    {
      "cell_type": "markdown",
      "metadata": {
        "id": "AXrNyorUcmTl"
      },
      "source": [
        "### Removing HTML words"
      ]
    },
    {
      "cell_type": "code",
      "metadata": {
        "id": "mH7nFo9Cck0o"
      },
      "source": [
        "text_data = train_df_shuffled['text'].apply(lambda x: remove_html(x))"
      ],
      "execution_count": null,
      "outputs": []
    },
    {
      "cell_type": "markdown",
      "metadata": {
        "id": "WRsKT4KbddXm"
      },
      "source": [
        "### Removing Punctuations"
      ]
    },
    {
      "cell_type": "code",
      "metadata": {
        "colab": {
          "base_uri": "https://localhost:8080/"
        },
        "id": "t7ucKUtPdORM",
        "outputId": "4bee0289-bf5a-46b8-ec01-cd264d0e985c"
      },
      "source": [
        "text_data = text_data.apply(lambda x: remove_punctuation(x))\n",
        "text_data[:2]"
      ],
      "execution_count": null,
      "outputs": [
        {
          "output_type": "execute_result",
          "data": {
            "text/plain": [
              "1357    Will Trump pull a Brexit times ten What would ...\n",
              "2080    Clintons Are Under Multiple FBI Investigations...\n",
              "Name: text, dtype: object"
            ]
          },
          "metadata": {},
          "execution_count": 31
        }
      ]
    },
    {
      "cell_type": "markdown",
      "metadata": {
        "id": "J9APt0lkdiEW"
      },
      "source": [
        "### Lowercasing all words"
      ]
    },
    {
      "cell_type": "code",
      "metadata": {
        "colab": {
          "base_uri": "https://localhost:8080/"
        },
        "id": "eki7lL21dau1",
        "outputId": "ea624103-00c6-4d55-a887-c5e96a551832"
      },
      "source": [
        "text_data = text_data.apply(lambda x: lowercase_text(x))\n",
        "text_data[:2]"
      ],
      "execution_count": null,
      "outputs": [
        {
          "output_type": "execute_result",
          "data": {
            "text/plain": [
              "1357    [will, trump, pull, a, brexit, times, ten, wha...\n",
              "2080    [clintons, are, under, multiple, fbi, investig...\n",
              "Name: text, dtype: object"
            ]
          },
          "metadata": {},
          "execution_count": 32
        }
      ]
    },
    {
      "cell_type": "markdown",
      "metadata": {
        "id": "p2-AiSEndr2H"
      },
      "source": [
        "### Lemmanizing words"
      ]
    },
    {
      "cell_type": "code",
      "metadata": {
        "colab": {
          "base_uri": "https://localhost:8080/"
        },
        "id": "m-fyA9IAdqtH",
        "outputId": "8ff51777-41af-45b8-8d7e-bd414baf09d2"
      },
      "source": [
        "text_data = text_data.apply(lambda x: word_lemmatizer(x))\n",
        "text_data[:2]"
      ],
      "execution_count": null,
      "outputs": [
        {
          "output_type": "execute_result",
          "data": {
            "text/plain": [
              "1357    [will, trump, pull, a, brexit, time, ten, what...\n",
              "2080    [clinton, are, under, multiple, fbi, investiga...\n",
              "Name: text, dtype: object"
            ]
          },
          "metadata": {},
          "execution_count": 33
        }
      ]
    },
    {
      "cell_type": "markdown",
      "metadata": {
        "id": "uQFpQCRjf9jX"
      },
      "source": [
        "### Stemmerizing"
      ]
    },
    {
      "cell_type": "code",
      "metadata": {
        "colab": {
          "base_uri": "https://localhost:8080/"
        },
        "id": "-w--bEPTf49U",
        "outputId": "cdb92365-0f45-4e53-9b16-bbdd2888f666"
      },
      "source": [
        "text_data = text_data.apply(lambda x: word_stemmer(x))\n",
        "text_data[:2]"
      ],
      "execution_count": null,
      "outputs": [
        {
          "output_type": "execute_result",
          "data": {
            "text/plain": [
              "1357    will trump pull a brexit time ten what would i...\n",
              "2080    clinton are under multipl fbi investig a agent...\n",
              "Name: text, dtype: object"
            ]
          },
          "metadata": {},
          "execution_count": 34
        }
      ]
    },
    {
      "cell_type": "markdown",
      "metadata": {
        "id": "8_KOjY1p7YYW"
      },
      "source": [
        "# Train anc validation split"
      ]
    },
    {
      "cell_type": "code",
      "metadata": {
        "id": "VjA5SCXl7W0c"
      },
      "source": [
        "from sklearn.model_selection import train_test_split"
      ],
      "execution_count": null,
      "outputs": []
    },
    {
      "cell_type": "code",
      "metadata": {
        "colab": {
          "base_uri": "https://localhost:8080/"
        },
        "id": "c4r1xcyqgH0i",
        "outputId": "698e51a5-ddc9-406c-b27c-bc188f93900e"
      },
      "source": [
        "len(text_data)"
      ],
      "execution_count": null,
      "outputs": [
        {
          "output_type": "execute_result",
          "data": {
            "text/plain": [
              "6335"
            ]
          },
          "metadata": {},
          "execution_count": 36
        }
      ]
    },
    {
      "cell_type": "code",
      "metadata": {
        "id": "sUuYhbPX7b7R"
      },
      "source": [
        "train_news, val_news, train_label, val_label = train_test_split(text_data, train_df_shuffled['label'], test_size=0.2, random_state=101)"
      ],
      "execution_count": null,
      "outputs": []
    },
    {
      "cell_type": "code",
      "metadata": {
        "colab": {
          "base_uri": "https://localhost:8080/"
        },
        "id": "0wpLjt6q7diw",
        "outputId": "41cf88c9-493f-411a-e2b7-7f6ffb124a69"
      },
      "source": [
        "train_news.shape, val_news.shape"
      ],
      "execution_count": null,
      "outputs": [
        {
          "output_type": "execute_result",
          "data": {
            "text/plain": [
              "((5068,), (1267,))"
            ]
          },
          "metadata": {},
          "execution_count": 38
        }
      ]
    },
    {
      "cell_type": "markdown",
      "metadata": {
        "id": "F9Ct1OWLb8T1"
      },
      "source": [
        "**Calculating maximum length of text**"
      ]
    },
    {
      "cell_type": "code",
      "metadata": {
        "colab": {
          "base_uri": "https://localhost:8080/"
        },
        "id": "QzgSFXNK7e18",
        "outputId": "7681cd5a-5341-4c88-fa59-4367e7332d1e"
      },
      "source": [
        "round(sum([len(i.split()) for i in train_news])/ len(train_news))"
      ],
      "execution_count": null,
      "outputs": [
        {
          "output_type": "execute_result",
          "data": {
            "text/plain": [
              "786"
            ]
          },
          "metadata": {},
          "execution_count": 39
        }
      ]
    },
    {
      "cell_type": "markdown",
      "metadata": {
        "id": "Cw3ZhV1J7hEA"
      },
      "source": [
        "#Converting text into numbers\n",
        "\n",
        "* Vectorization Layer\n",
        "* Embedding Layer"
      ]
    },
    {
      "cell_type": "code",
      "metadata": {
        "id": "3Bt7kWxG7gGR"
      },
      "source": [
        "from tensorflow.keras.layers import TextVectorization, Embedding"
      ],
      "execution_count": null,
      "outputs": []
    },
    {
      "cell_type": "code",
      "metadata": {
        "id": "a0y7fn3L7o-B"
      },
      "source": [
        "max_vocab_length = 10000\n",
        "max_length = 790\n",
        "\n",
        "text_vectorizer = TextVectorization(\n",
        "    max_tokens=max_vocab_length,\n",
        "    output_mode='int',\n",
        "    output_sequence_length=max_length,\n",
        ")"
      ],
      "execution_count": null,
      "outputs": []
    },
    {
      "cell_type": "code",
      "metadata": {
        "id": "fTyeMJlP7qZt"
      },
      "source": [
        "text_vectorizer.adapt(train_news)"
      ],
      "execution_count": null,
      "outputs": []
    },
    {
      "cell_type": "code",
      "metadata": {
        "id": "Fts3yxoS7r6U"
      },
      "source": [
        "embedding = Embedding(\n",
        "    input_dim = max_vocab_length, \n",
        "    output_dim = 128,\n",
        "    input_length = max_length,\n",
        ")"
      ],
      "execution_count": null,
      "outputs": []
    },
    {
      "cell_type": "markdown",
      "metadata": {
        "id": "gfawfZyQ7t5K"
      },
      "source": [
        "#Some helpful Functions"
      ]
    },
    {
      "cell_type": "code",
      "metadata": {
        "id": "x-4BLbZg7tE_"
      },
      "source": [
        "from sklearn.metrics import accuracy_score, precision_recall_fscore_support\n",
        "\n",
        "def calculate_result(y_true, y_pred):\n",
        "  accuracy = accuracy_score(y_true, y_pred)\n",
        "  model_precision, model_recall, model_f1, _ = precision_recall_fscore_support(y_true, y_pred, average='weighted')\n",
        "  model_results = {\n",
        "      'accurecy': accuracy,\n",
        "      'precision': model_precision,\n",
        "      'recall': model_recall,\n",
        "      'f1-score': model_f1,\n",
        "  }\n",
        "\n",
        "  return model_results"
      ],
      "execution_count": null,
      "outputs": []
    },
    {
      "cell_type": "code",
      "metadata": {
        "colab": {
          "base_uri": "https://localhost:8080/"
        },
        "id": "URkXkrtaPo_h",
        "outputId": "8cd29c3d-ada1-4bed-a145-9057e3d72607"
      },
      "source": [
        "!wget https://raw.githubusercontent.com/mrdbourke/tensorflow-deep-learning/main/extras/helper_functions.py\n",
        "\n",
        "# importing helper function\n",
        "from helper_functions import create_tensorboard_callback, plot_loss_curves, pred_and_plot, unzip_data, walk_through_dir"
      ],
      "execution_count": null,
      "outputs": [
        {
          "output_type": "stream",
          "name": "stdout",
          "text": [
            "--2021-11-08 19:22:34--  https://raw.githubusercontent.com/mrdbourke/tensorflow-deep-learning/main/extras/helper_functions.py\n",
            "Resolving raw.githubusercontent.com (raw.githubusercontent.com)... 185.199.108.133, 185.199.110.133, 185.199.111.133, ...\n",
            "Connecting to raw.githubusercontent.com (raw.githubusercontent.com)|185.199.108.133|:443... connected.\n",
            "HTTP request sent, awaiting response... 200 OK\n",
            "Length: 10246 (10K) [text/plain]\n",
            "Saving to: ‘helper_functions.py’\n",
            "\n",
            "\rhelper_functions.py   0%[                    ]       0  --.-KB/s               \rhelper_functions.py 100%[===================>]  10.01K  --.-KB/s    in 0s      \n",
            "\n",
            "2021-11-08 19:22:34 (47.6 MB/s) - ‘helper_functions.py’ saved [10246/10246]\n",
            "\n"
          ]
        }
      ]
    },
    {
      "cell_type": "markdown",
      "metadata": {
        "id": "n5Uc4R0o72WV"
      },
      "source": [
        "#Model Experiments"
      ]
    },
    {
      "cell_type": "markdown",
      "metadata": {
        "id": "-7m3OMq1qnJC"
      },
      "source": [
        "## Callbacks"
      ]
    },
    {
      "cell_type": "code",
      "metadata": {
        "id": "Aod6xEsLqpUW"
      },
      "source": [
        "early_stopping = tf.keras.callbacks.EarlyStopping(monitor='val_loss', patience=3, restore_best_weights=True)"
      ],
      "execution_count": null,
      "outputs": []
    },
    {
      "cell_type": "markdown",
      "metadata": {
        "id": "xqYWJmLy75JG"
      },
      "source": [
        "##1. NavieBase Model"
      ]
    },
    {
      "cell_type": "code",
      "metadata": {
        "id": "G7-tbvV171x7"
      },
      "source": [
        "from sklearn.naive_bayes import MultinomialNB\n",
        "from sklearn.pipeline import Pipeline\n",
        "from sklearn.feature_extraction.text import TfidfVectorizer"
      ],
      "execution_count": null,
      "outputs": []
    },
    {
      "cell_type": "code",
      "metadata": {
        "id": "U9EIO4eg79R3"
      },
      "source": [
        "model_0 = Pipeline([\n",
        "    ('tfidf', TfidfVectorizer()),\n",
        "    ('clf', MultinomialNB()),\n",
        "])"
      ],
      "execution_count": null,
      "outputs": []
    },
    {
      "cell_type": "code",
      "metadata": {
        "colab": {
          "base_uri": "https://localhost:8080/"
        },
        "id": "YHT7iHGB7-oc",
        "outputId": "24fc0f05-5232-484a-88fd-f97932bb8ee2"
      },
      "source": [
        "model_0.fit(train_news, train_label)"
      ],
      "execution_count": null,
      "outputs": [
        {
          "output_type": "execute_result",
          "data": {
            "text/plain": [
              "Pipeline(memory=None,\n",
              "         steps=[('tfidf',\n",
              "                 TfidfVectorizer(analyzer='word', binary=False,\n",
              "                                 decode_error='strict',\n",
              "                                 dtype=<class 'numpy.float64'>,\n",
              "                                 encoding='utf-8', input='content',\n",
              "                                 lowercase=True, max_df=1.0, max_features=None,\n",
              "                                 min_df=1, ngram_range=(1, 1), norm='l2',\n",
              "                                 preprocessor=None, smooth_idf=True,\n",
              "                                 stop_words=None, strip_accents=None,\n",
              "                                 sublinear_tf=False,\n",
              "                                 token_pattern='(?u)\\\\b\\\\w\\\\w+\\\\b',\n",
              "                                 tokenizer=None, use_idf=True,\n",
              "                                 vocabulary=None)),\n",
              "                ('clf',\n",
              "                 MultinomialNB(alpha=1.0, class_prior=None, fit_prior=True))],\n",
              "         verbose=False)"
            ]
          },
          "metadata": {},
          "execution_count": 49
        }
      ]
    },
    {
      "cell_type": "code",
      "metadata": {
        "colab": {
          "base_uri": "https://localhost:8080/"
        },
        "id": "mVW0XAqB7_01",
        "outputId": "611cd746-5fde-44ec-e99d-3b5953e8e9db"
      },
      "source": [
        "model_0.score(val_news, val_label)"
      ],
      "execution_count": null,
      "outputs": [
        {
          "output_type": "execute_result",
          "data": {
            "text/plain": [
              "0.7734806629834254"
            ]
          },
          "metadata": {},
          "execution_count": 50
        }
      ]
    },
    {
      "cell_type": "code",
      "metadata": {
        "colab": {
          "base_uri": "https://localhost:8080/"
        },
        "id": "FFuZLVmK8CYY",
        "outputId": "f77080e2-6232-4fa8-fac7-3b75a5cf3b88"
      },
      "source": [
        "model_0_perd = model_0.predict(val_news) \n",
        "\n",
        "model_0_result = calculate_result(val_label, model_0_perd)\n",
        "model_0_result"
      ],
      "execution_count": null,
      "outputs": [
        {
          "output_type": "execute_result",
          "data": {
            "text/plain": [
              "{'accurecy': 0.7734806629834254,\n",
              " 'f1-score': 0.7653864196239786,\n",
              " 'precision': 0.8327285259750007,\n",
              " 'recall': 0.7734806629834254}"
            ]
          },
          "metadata": {},
          "execution_count": 51
        }
      ]
    },
    {
      "cell_type": "markdown",
      "metadata": {
        "id": "v0mXo18E8Gmp"
      },
      "source": [
        "##1. Simple Dense layer model"
      ]
    },
    {
      "cell_type": "code",
      "metadata": {
        "id": "ZJE2PfaUjN91"
      },
      "source": [
        "train_news_data = tf.data.Dataset.from_tensor_slices(train_news)\n",
        "train_label_data = tf.data.Dataset.from_tensor_slices(train_label)\n",
        "\n",
        "train_dataset = tf.data.Dataset.zip((train_news_data, train_label_data)).batch(32).prefetch(tf.data.AUTOTUNE)"
      ],
      "execution_count": null,
      "outputs": []
    },
    {
      "cell_type": "code",
      "metadata": {
        "id": "V_0l7ZvVj8TE"
      },
      "source": [
        "val_news_data = tf.data.Dataset.from_tensor_slices(val_news)\n",
        "val_label_data = tf.data.Dataset.from_tensor_slices(val_label)\n",
        "\n",
        "val_dataset = tf.data.Dataset.zip((val_news_data, val_label_data)).batch(32).prefetch(tf.data.AUTOTUNE)"
      ],
      "execution_count": null,
      "outputs": []
    },
    {
      "cell_type": "code",
      "metadata": {
        "id": "_rYblXPN8E0P"
      },
      "source": [
        "inputs = layers.Input(shape=(1,), dtype=tf.string)\n",
        "x = text_vectorizer(inputs)\n",
        "x = embedding(x)\n",
        "x = layers.GlobalAvgPool1D()(x)\n",
        "x = layers.Dense(64, activation='relu')(x)\n",
        "outputs = layers.Dense(1, activation='sigmoid')(x)\n",
        "\n",
        "model_1 = tf.keras.Model(inputs, outputs)"
      ],
      "execution_count": null,
      "outputs": []
    },
    {
      "cell_type": "code",
      "metadata": {
        "colab": {
          "base_uri": "https://localhost:8080/"
        },
        "id": "GzCAvvbS8K9S",
        "outputId": "5987e620-f801-43fb-96c4-0ba48b535607"
      },
      "source": [
        "model_1.summary()"
      ],
      "execution_count": null,
      "outputs": [
        {
          "output_type": "stream",
          "name": "stdout",
          "text": [
            "Model: \"model\"\n",
            "_________________________________________________________________\n",
            "Layer (type)                 Output Shape              Param #   \n",
            "=================================================================\n",
            "input_1 (InputLayer)         [(None, 1)]               0         \n",
            "_________________________________________________________________\n",
            "text_vectorization (TextVect (None, 790)               0         \n",
            "_________________________________________________________________\n",
            "embedding (Embedding)        (None, 790, 128)          1280000   \n",
            "_________________________________________________________________\n",
            "global_average_pooling1d (Gl (None, 128)               0         \n",
            "_________________________________________________________________\n",
            "dense (Dense)                (None, 64)                8256      \n",
            "_________________________________________________________________\n",
            "dense_1 (Dense)              (None, 1)                 65        \n",
            "=================================================================\n",
            "Total params: 1,288,321\n",
            "Trainable params: 1,288,321\n",
            "Non-trainable params: 0\n",
            "_________________________________________________________________\n"
          ]
        }
      ]
    },
    {
      "cell_type": "code",
      "metadata": {
        "colab": {
          "base_uri": "https://localhost:8080/"
        },
        "id": "ORVe-dcG8MU5",
        "outputId": "439d9b11-cc88-431a-bf16-f28f642fe222"
      },
      "source": [
        "model_1.compile(\n",
        "    loss = 'binary_crossentropy',\n",
        "    optimizer = Adam(),\n",
        "    metrics = ['accuracy'],\n",
        ")\n",
        "\n",
        "history_1 = model_1.fit(\n",
        "    train_dataset,\n",
        "    epochs = 10,\n",
        "    validation_data = val_dataset,\n",
        ")"
      ],
      "execution_count": null,
      "outputs": [
        {
          "output_type": "stream",
          "name": "stdout",
          "text": [
            "Epoch 1/10\n",
            "159/159 [==============================] - 6s 16ms/step - loss: 0.5852 - accuracy: 0.7129 - val_loss: 0.4002 - val_accuracy: 0.8737\n",
            "Epoch 2/10\n",
            "159/159 [==============================] - 2s 15ms/step - loss: 0.3041 - accuracy: 0.8779 - val_loss: 0.2573 - val_accuracy: 0.9179\n",
            "Epoch 3/10\n",
            "159/159 [==============================] - 2s 16ms/step - loss: 0.1940 - accuracy: 0.9187 - val_loss: 0.2352 - val_accuracy: 0.9211\n",
            "Epoch 4/10\n",
            "159/159 [==============================] - 2s 15ms/step - loss: 0.1368 - accuracy: 0.9487 - val_loss: 0.2333 - val_accuracy: 0.9069\n",
            "Epoch 5/10\n",
            "159/159 [==============================] - 2s 16ms/step - loss: 0.0992 - accuracy: 0.9659 - val_loss: 0.2395 - val_accuracy: 0.9045\n",
            "Epoch 6/10\n",
            "159/159 [==============================] - 2s 15ms/step - loss: 0.0747 - accuracy: 0.9765 - val_loss: 0.2490 - val_accuracy: 0.8982\n",
            "Epoch 7/10\n",
            "159/159 [==============================] - 2s 15ms/step - loss: 0.0585 - accuracy: 0.9828 - val_loss: 0.2652 - val_accuracy: 0.8966\n",
            "Epoch 8/10\n",
            "159/159 [==============================] - 2s 15ms/step - loss: 0.0472 - accuracy: 0.9864 - val_loss: 0.2840 - val_accuracy: 0.8958\n",
            "Epoch 9/10\n",
            "159/159 [==============================] - 2s 15ms/step - loss: 0.0382 - accuracy: 0.9891 - val_loss: 0.2998 - val_accuracy: 0.8974\n",
            "Epoch 10/10\n",
            "159/159 [==============================] - 2s 15ms/step - loss: 0.0320 - accuracy: 0.9913 - val_loss: 0.3100 - val_accuracy: 0.9006\n"
          ]
        }
      ]
    },
    {
      "cell_type": "code",
      "metadata": {
        "colab": {
          "base_uri": "https://localhost:8080/"
        },
        "id": "umifiYdR8PM2",
        "outputId": "ab98edfa-950b-44f9-d88a-877cf16ec7d1"
      },
      "source": [
        "model_1_pred = model_1.predict(val_dataset)\n",
        "model_1_pred = tf.squeeze(tf.round(model_1_pred), axis=1)\n",
        "model_1_result = calculate_result(val_label, model_1_pred)\n",
        "model_1_result"
      ],
      "execution_count": null,
      "outputs": [
        {
          "output_type": "execute_result",
          "data": {
            "text/plain": [
              "{'accurecy': 0.9005524861878453,\n",
              " 'f1-score': 0.9005190315467904,\n",
              " 'precision': 0.9045365305692217,\n",
              " 'recall': 0.9005524861878453}"
            ]
          },
          "metadata": {},
          "execution_count": 57
        }
      ]
    },
    {
      "cell_type": "code",
      "metadata": {
        "colab": {
          "base_uri": "https://localhost:8080/",
          "height": 573
        },
        "id": "CEza6__Ap8cL",
        "outputId": "11693cdd-8af9-4f33-a4bd-f48592ef0bb0"
      },
      "source": [
        "plot_loss_curves(history_1)"
      ],
      "execution_count": null,
      "outputs": [
        {
          "output_type": "display_data",
          "data": {
            "image/png": "[encoded data removed]",
            "text/plain": [
              "<Figure size 432x288 with 1 Axes>"
            ]
          },
          "metadata": {
            "needs_background": "light"
          }
        },
        {
          "output_type": "display_data",
          "data": {
            "image/png": "[encoded data removed]",
            "text/plain": [
              "<Figure size 432x288 with 1 Axes>"
            ]
          },
          "metadata": {
            "needs_background": "light"
          }
        }
      ]
    },
    {
      "cell_type": "markdown",
      "metadata": {
        "id": "ygj3gi4G8eP1"
      },
      "source": [
        "##2. LSTM Model"
      ]
    },
    {
      "cell_type": "code",
      "metadata": {
        "id": "n1oXeatf8hBg"
      },
      "source": [
        "inputs = layers.Input(shape=(1,), dtype=tf.string)\n",
        "x = text_vectorizer(inputs)\n",
        "x = embedding(x)\n",
        "x = layers.LSTM(64, return_sequences=True)(x)\n",
        "x = layers.LSTM(64)(x)\n",
        "x = layers.Dense(32, activation='relu')(x)\n",
        "outputs = layers.Dense(1, activation='sigmoid')(x)\n",
        "\n",
        "model_2 = tf.keras.Model(inputs, outputs)"
      ],
      "execution_count": null,
      "outputs": []
    },
    {
      "cell_type": "code",
      "metadata": {
        "colab": {
          "base_uri": "https://localhost:8080/"
        },
        "id": "N8OFZ3DK8kko",
        "outputId": "096a9322-707b-4a0e-aecb-824af471fca5"
      },
      "source": [
        "model_2.summary()"
      ],
      "execution_count": null,
      "outputs": [
        {
          "output_type": "stream",
          "name": "stdout",
          "text": [
            "Model: \"model_1\"\n",
            "_________________________________________________________________\n",
            "Layer (type)                 Output Shape              Param #   \n",
            "=================================================================\n",
            "input_2 (InputLayer)         [(None, 1)]               0         \n",
            "_________________________________________________________________\n",
            "text_vectorization (TextVect (None, 790)               0         \n",
            "_________________________________________________________________\n",
            "embedding (Embedding)        (None, 790, 128)          1280000   \n",
            "_________________________________________________________________\n",
            "lstm (LSTM)                  (None, 790, 64)           49408     \n",
            "_________________________________________________________________\n",
            "lstm_1 (LSTM)                (None, 64)                33024     \n",
            "_________________________________________________________________\n",
            "dense_2 (Dense)              (None, 32)                2080      \n",
            "_________________________________________________________________\n",
            "dense_3 (Dense)              (None, 1)                 33        \n",
            "=================================================================\n",
            "Total params: 1,364,545\n",
            "Trainable params: 1,364,545\n",
            "Non-trainable params: 0\n",
            "_________________________________________________________________\n"
          ]
        }
      ]
    },
    {
      "cell_type": "code",
      "metadata": {
        "colab": {
          "base_uri": "https://localhost:8080/"
        },
        "id": "ZcYcSjcz8pv9",
        "outputId": "28c8252b-9802-41bf-9316-d16ceee73eb3"
      },
      "source": [
        "model_2.compile(\n",
        "    loss = 'binary_crossentropy',\n",
        "    optimizer = Adam(),\n",
        "    metrics = ['accuracy'],\n",
        ")\n",
        "\n",
        "history_2 = model_2.fit(\n",
        "    train_dataset,\n",
        "    epochs = 10,\n",
        "    validation_data = val_dataset,\n",
        "    callbacks = [\n",
        "              early_stopping,   \n",
        "    ]\n",
        ")"
      ],
      "execution_count": null,
      "outputs": [
        {
          "output_type": "stream",
          "name": "stdout",
          "text": [
            "Epoch 1/10\n",
            "159/159 [==============================] - 49s 269ms/step - loss: 0.5884 - accuracy: 0.6839 - val_loss: 0.8025 - val_accuracy: 0.5249\n",
            "Epoch 2/10\n",
            "159/159 [==============================] - 39s 246ms/step - loss: 0.2919 - accuracy: 0.8816 - val_loss: 0.6153 - val_accuracy: 0.7182\n",
            "Epoch 3/10\n",
            "159/159 [==============================] - 35s 222ms/step - loss: 0.3204 - accuracy: 0.8938 - val_loss: 0.7550 - val_accuracy: 0.6504\n",
            "Epoch 4/10\n",
            "159/159 [==============================] - 34s 216ms/step - loss: 0.4989 - accuracy: 0.7942 - val_loss: 0.3760 - val_accuracy: 0.8674\n",
            "Epoch 5/10\n",
            "159/159 [==============================] - 37s 230ms/step - loss: 0.2618 - accuracy: 0.9118 - val_loss: 0.5170 - val_accuracy: 0.7443\n",
            "Epoch 6/10\n",
            "159/159 [==============================] - 35s 222ms/step - loss: 0.6416 - accuracy: 0.5890 - val_loss: 0.6887 - val_accuracy: 0.5249\n",
            "Epoch 7/10\n",
            "159/159 [==============================] - 37s 230ms/step - loss: 0.6688 - accuracy: 0.5791 - val_loss: 0.5214 - val_accuracy: 0.7940\n"
          ]
        }
      ]
    },
    {
      "cell_type": "code",
      "metadata": {
        "colab": {
          "base_uri": "https://localhost:8080/"
        },
        "id": "w-aGFgig8xPX",
        "outputId": "d20a3ef4-c83a-4bed-8b27-661f224d1d49"
      },
      "source": [
        "model_2_pred = model_2.predict(val_news)\n",
        "model_2_pred = tf.squeeze(tf.round(model_2_pred))\n",
        "model_2_result = calculate_result(val_label, model_2_pred)\n",
        "model_2_result"
      ],
      "execution_count": null,
      "outputs": [
        {
          "output_type": "execute_result",
          "data": {
            "text/plain": [
              "{'accurecy': 0.8674033149171271,\n",
              " 'f1-score': 0.8662217602975767,\n",
              " 'precision': 0.8753228934177308,\n",
              " 'recall': 0.8674033149171271}"
            ]
          },
          "metadata": {},
          "execution_count": 62
        }
      ]
    },
    {
      "cell_type": "markdown",
      "metadata": {
        "id": "JJzLfx2cDXVf"
      },
      "source": [
        "##GRU Layer Model"
      ]
    },
    {
      "cell_type": "code",
      "metadata": {
        "id": "tHHfx9lKE5Zt"
      },
      "source": [
        "inputs = layers.Input(shape=(1,), dtype=tf.string)\n",
        "x = text_vectorizer(inputs)\n",
        "x = embedding(x)\n",
        "x = layers.GRU(64, return_sequences=True)(x)\n",
        "x = layers.LSTM(64)(x)\n",
        "x = layers.Dense(32, activation='relu')(x)\n",
        "outputs = layers.Dense(1, activation='sigmoid')(x)\n",
        "\n",
        "model_4 = tf.keras.Model(inputs, outputs)"
      ],
      "execution_count": null,
      "outputs": []
    },
    {
      "cell_type": "code",
      "metadata": {
        "colab": {
          "base_uri": "https://localhost:8080/"
        },
        "id": "mlTXU3l2Jg-P",
        "outputId": "3c985bf5-513a-405c-cd6e-590bfa4ff973"
      },
      "source": [
        "model_4.summary()"
      ],
      "execution_count": null,
      "outputs": [
        {
          "output_type": "stream",
          "name": "stdout",
          "text": [
            "Model: \"model_2\"\n",
            "_________________________________________________________________\n",
            "Layer (type)                 Output Shape              Param #   \n",
            "=================================================================\n",
            "input_3 (InputLayer)         [(None, 1)]               0         \n",
            "_________________________________________________________________\n",
            "text_vectorization (TextVect (None, 790)               0         \n",
            "_________________________________________________________________\n",
            "embedding (Embedding)        (None, 790, 128)          1280000   \n",
            "_________________________________________________________________\n",
            "gru (GRU)                    (None, 790, 64)           37248     \n",
            "_________________________________________________________________\n",
            "lstm_2 (LSTM)                (None, 64)                33024     \n",
            "_________________________________________________________________\n",
            "dense_4 (Dense)              (None, 32)                2080      \n",
            "_________________________________________________________________\n",
            "dense_5 (Dense)              (None, 1)                 33        \n",
            "=================================================================\n",
            "Total params: 1,352,385\n",
            "Trainable params: 1,352,385\n",
            "Non-trainable params: 0\n",
            "_________________________________________________________________\n"
          ]
        }
      ]
    },
    {
      "cell_type": "code",
      "metadata": {
        "colab": {
          "base_uri": "https://localhost:8080/"
        },
        "id": "5p8BYmzMJ5Rv",
        "outputId": "8faef90b-ee66-4767-8bfa-5267884450b3"
      },
      "source": [
        "model_4.compile(\n",
        "    loss = 'binary_crossentropy',\n",
        "    optimizer = Adam(),\n",
        "    metrics = ['accuracy']\n",
        ")\n",
        "\n",
        "history_4 = model_4.fit(\n",
        "    train_dataset,\n",
        "    epochs = 10,\n",
        "    validation_data = val_dataset,\n",
        "    callbacks = [\n",
        "              early_stopping,   \n",
        "    ]\n",
        ")"
      ],
      "execution_count": null,
      "outputs": [
        {
          "output_type": "stream",
          "name": "stdout",
          "text": [
            "Epoch 1/10\n",
            "159/159 [==============================] - 51s 296ms/step - loss: 0.5201 - accuracy: 0.7240 - val_loss: 0.5812 - val_accuracy: 0.6630\n",
            "Epoch 2/10\n",
            " 52/159 [========>.....................] - ETA: 28s - loss: 0.4544 - accuracy: 0.7776"
          ]
        }
      ]
    },
    {
      "cell_type": "code",
      "metadata": {
        "id": "jaNbHTm5PSEa"
      },
      "source": [
        "model_4_pred = model_4.predict(val_news)\n",
        "model_4_pred = tf.squeeze(tf.round(model_4_pred))\n",
        "model_4_result = calculate_result(val_label, model_4_pred)\n",
        "model_4_result"
      ],
      "execution_count": null,
      "outputs": []
    },
    {
      "cell_type": "code",
      "metadata": {
        "id": "48H02arSPtWC"
      },
      "source": [
        "plot_loss_curves(history_4)"
      ],
      "execution_count": null,
      "outputs": []
    },
    {
      "cell_type": "code",
      "metadata": {
        "id": "kKZ4UHN8Ku52"
      },
      "source": [
        "inputs = layers.Input(shape=(1,), dtype=tf.string)\n",
        "x = text_vectorizer(inputs)\n",
        "x = embedding(x)\n",
        "x = layers.GRU(64, return_sequences=True)(x)\n",
        "x = layers.LSTM(64)(x)\n",
        "outputs = layers.Dense(1, activation='sigmoid')(x)\n",
        "\n",
        "model_5 = tf.keras.Model(inputs, outputs)\n",
        "\n",
        "model_5.compile(\n",
        "    loss = 'binary_crossentropy',\n",
        "    optimizer = Adam(),\n",
        "    metrics = ['accuracy']\n",
        ")\n",
        "\n",
        "history_5 = model_5.fit(\n",
        "    train_dataset\n",
        "    epochs = 10,\n",
        "    validation_data = val_dataset,\n",
        "    callbacks = [\n",
        "              early_stopping,   \n",
        "    ]\n",
        ")"
      ],
      "execution_count": null,
      "outputs": []
    },
    {
      "cell_type": "code",
      "metadata": {
        "id": "xZsojHtBPz68"
      },
      "source": [
        "model_5_pred = model_5.predict(val_news)\n",
        "model_5_pred = tf.squeeze(tf.round(model_5_pred))\n",
        "model_5_result = calculate_result(val_label, model_5_pred)\n",
        "model_5_result"
      ],
      "execution_count": null,
      "outputs": []
    },
    {
      "cell_type": "code",
      "metadata": {
        "id": "fSoB2YYwQt05"
      },
      "source": [
        "plot_loss_curves(history_5)"
      ],
      "execution_count": null,
      "outputs": []
    },
    {
      "cell_type": "markdown",
      "metadata": {
        "id": "01sRs1b9Qw_u"
      },
      "source": [
        "##Bidirectional LSTM Model"
      ]
    },
    {
      "cell_type": "code",
      "metadata": {
        "id": "hqWdGZcGQwvY"
      },
      "source": [
        "inputs = layers.Input(shape=(1,), dtype=tf.string)\n",
        "x = text_vectorizer(inputs)\n",
        "x = embedding(x)\n",
        "x = layers.Bidirectional(layers.LSTM(64, return_sequences=True))(x)\n",
        "x = layers.LSTM(64)(x)\n",
        "outputs = layers.Dense(1, activation='sigmoid')(x)\n",
        "\n",
        "model_6 = tf.keras.Model(inputs, outputs)"
      ],
      "execution_count": null,
      "outputs": []
    },
    {
      "cell_type": "code",
      "metadata": {
        "id": "z16Yre02RkRi"
      },
      "source": [
        "model_6.summary()"
      ],
      "execution_count": null,
      "outputs": []
    },
    {
      "cell_type": "code",
      "metadata": {
        "id": "44NygAOTRmOi"
      },
      "source": [
        " model_6.compile(\n",
        "    loss = 'binary_crossentropy',\n",
        "    optimizer = Adam(),\n",
        "    metrics = ['accuracy']\n",
        ")\n",
        "\n",
        "model_6.fit(\n",
        "    train_dataset,\n",
        "    epochs = 10,\n",
        "    validation_data = val_dataset,\n",
        "    callbacks = [\n",
        "              early_stopping,   \n",
        "    ]\n",
        ")"
      ],
      "execution_count": null,
      "outputs": []
    },
    {
      "cell_type": "code",
      "metadata": {
        "id": "dqCMOEiSUEDG"
      },
      "source": [
        "model_6_pred = model_6.predict(val_news)\n",
        "model_6_pred = tf.squeeze(tf.round(model_6_pred))\n",
        "model_6_result = calculate_result(val_label, model_6_pred)\n",
        "model_6_result"
      ],
      "execution_count": null,
      "outputs": []
    },
    {
      "cell_type": "markdown",
      "metadata": {
        "id": "Pu36qSj8bd3C"
      },
      "source": [
        "##Conv1D Model"
      ]
    },
    {
      "cell_type": "code",
      "metadata": {
        "id": "4ab65Tf2bPxK"
      },
      "source": [
        "inputs = layers.Input(shape=(1,), dtype=tf.string)\n",
        "x = text_vectorizer(inputs)\n",
        "x = embedding(x)\n",
        "x = layers.Conv1D(\n",
        "    filters = 64,\n",
        "    kernel_size = 5,\n",
        "    padding = 'valid',\n",
        "    activation='relu',\n",
        ")(x)\n",
        "x = layers.GlobalMaxPool1D()(x)\n",
        "x = layers.Dense(32, activation='relu')(x)\n",
        "outputs = layers.Dense(1, activation='sigmoid')(x)\n",
        "\n",
        "model_7 = tf.keras.Model(inputs, outputs)"
      ],
      "execution_count": null,
      "outputs": []
    },
    {
      "cell_type": "code",
      "metadata": {
        "id": "QIT-9HcFbYIC"
      },
      "source": [
        "model_7.summary()"
      ],
      "execution_count": null,
      "outputs": []
    },
    {
      "cell_type": "code",
      "metadata": {
        "id": "GQnVXDolcRsn"
      },
      "source": [
        "model_7.compile(\n",
        "    loss = 'binary_crossentropy',\n",
        "    optimizer = Adam(),\n",
        "    metrics = ['accuracy']\n",
        ")\n",
        "\n",
        "history_7 = model_7.fit(\n",
        "    train_dataset,\n",
        "    epochs = 10,\n",
        "    validation_data = val_dataset,\n",
        "    callbacks = [\n",
        "              early_stopping,   \n",
        "    ]\n",
        ")"
      ],
      "execution_count": null,
      "outputs": []
    },
    {
      "cell_type": "code",
      "metadata": {
        "id": "WYIdTbUccm4t"
      },
      "source": [
        "model_7_pred = model_7.predict(val_news)\n",
        "model_7_pred = tf.squeeze(tf.round(model_7_pred))\n",
        "model_7_result = calculate_result(val_label, model_7_pred)\n",
        "model_7_result"
      ],
      "execution_count": null,
      "outputs": []
    },
    {
      "cell_type": "code",
      "metadata": {
        "id": "kuG05xXoct4d"
      },
      "source": [
        "plot_loss_curves(history_7)"
      ],
      "execution_count": null,
      "outputs": []
    },
    {
      "cell_type": "markdown",
      "metadata": {
        "id": "S3FMVGV2c22_"
      },
      "source": [
        "##Pretrained Model"
      ]
    },
    {
      "cell_type": "code",
      "metadata": {
        "id": "JPzEN5zzcygW"
      },
      "source": [
        "import tensorflow_hub as hub\n",
        "\n",
        "embed = hub.load('https://tfhub.dev/google/universal-sentence-encoder/4')"
      ],
      "execution_count": null,
      "outputs": []
    },
    {
      "cell_type": "code",
      "metadata": {
        "id": "OlclZq89dib2"
      },
      "source": [
        "sentence_encoder_layer = hub.KerasLayer(\n",
        "    'https://tfhub.dev/google/universal-sentence-encoder/4',\n",
        "    input_shape=[],\n",
        "    dtype = tf.string,\n",
        "    trainable =False,\n",
        "    name = \"USE\"\n",
        ")"
      ],
      "execution_count": null,
      "outputs": []
    },
    {
      "cell_type": "code",
      "metadata": {
        "id": "xhgKXD-Edmmb"
      },
      "source": [
        "model_8 = tf.keras.Sequential([\n",
        "    sentence_encoder_layer,\n",
        "    layers.Dense(64, activation='relu'),\n",
        "    layers.Dense(1, activation='sigmoid')\n",
        "], name = 'modes_7_USE')\n",
        "\n",
        "model_8.compile(\n",
        "    loss = 'binary_crossentropy',\n",
        "    optimizer = tf.keras.optimizers.Adam(),\n",
        "    metrics = ['accuracy'],\n",
        ")"
      ],
      "execution_count": null,
      "outputs": []
    },
    {
      "cell_type": "code",
      "metadata": {
        "id": "-6JQDNoAdxKH"
      },
      "source": [
        "model_8.summary()"
      ],
      "execution_count": null,
      "outputs": []
    },
    {
      "cell_type": "code",
      "metadata": {
        "id": "l-RF2iLhdyhc"
      },
      "source": [
        "history_8  = model_8.fit(\n",
        "    train_dataset,\n",
        "    epochs = 10,\n",
        "    validation_data = val_dataset,\n",
        "    callbacks = [\n",
        "              early_stopping,   \n",
        "    ]\n",
        ")"
      ],
      "execution_count": null,
      "outputs": []
    },
    {
      "cell_type": "code",
      "metadata": {
        "id": "Rw3XIzydd9mJ"
      },
      "source": [
        "model_8_pred = model_8.predict(val_news)\n",
        "model_8_pred = tf.squeeze(tf.round(model_8_pred))\n",
        "model_8_result = calculate_result(val_label, model_8_pred)\n",
        "model_8_result"
      ],
      "execution_count": null,
      "outputs": []
    },
    {
      "cell_type": "code",
      "metadata": {
        "id": "E0KpbUZ5eEDq"
      },
      "source": [
        "plot_loss_curves(history_8)"
      ],
      "execution_count": null,
      "outputs": []
    },
    {
      "cell_type": "markdown",
      "metadata": {
        "id": "FEMWNGdJfIzs"
      },
      "source": [
        "#Comparing all Models results"
      ]
    },
    {
      "cell_type": "code",
      "metadata": {
        "id": "m6XmPteDeH33"
      },
      "source": [
        "all_model_results = pd.DataFrame({\n",
        "    '0_NaiveBse_Model': model_0_result,\n",
        "    '1_simple_dense': model_1_result,\n",
        "    '2_LSTM': model_2_result,\n",
        "    '3_GRU_1': model_4_result,\n",
        "    '4_GRU_2': model_5_result,\n",
        "    '5_bidirectional': model_6_result,\n",
        "    '6_conv1D': model_7_result,\n",
        "    'tf_hub_encoder': model_8_result,\n",
        "})"
      ],
      "execution_count": null,
      "outputs": []
    },
    {
      "cell_type": "code",
      "metadata": {
        "id": "ZX5D-3KqfwI8"
      },
      "source": [
        "all_model_results = all_model_results.transpose()\n",
        "all_model_results"
      ],
      "execution_count": null,
      "outputs": []
    },
    {
      "cell_type": "code",
      "metadata": {
        "id": "cM520JdZf7_G"
      },
      "source": [
        "all_model_results.plot(kind='bar', figsize=(10, 7)).legend(bbox_to_anchor=(1.0,1.0));"
      ],
      "execution_count": null,
      "outputs": []
    },
    {
      "cell_type": "code",
      "metadata": {
        "id": "1DQC25NJgM8g"
      },
      "source": [
        "all_model_results.sort_values('f1-score', ascending=False)['f1-score'].plot(kind='bar', figsize=(10, 7))\n",
        "plt.title('F1-Score Plot');"
      ],
      "execution_count": null,
      "outputs": []
    },
    {
      "cell_type": "code",
      "metadata": {
        "id": "A8lAIKSqgR5s"
      },
      "source": [
        "all_model_results.sort_values('accurecy', ascending=False)['accurecy'].plot(kind='bar', figsize=(10, 7))\n",
        "plt.title('Accuracy plot');"
      ],
      "execution_count": null,
      "outputs": []
    },
    {
      "cell_type": "code",
      "metadata": {
        "id": "h6_xNYkQgXAZ"
      },
      "source": [
        ""
      ],
      "execution_count": null,
      "outputs": []
    }
  ]
}